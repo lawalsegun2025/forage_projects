{
  "cells": [
    {
      "cell_type": "markdown",
      "metadata": {
        "id": "jpsxhP9Dr5Af"
      },
      "source": [
        "# Task 1 - Exploratory Data Analysis\n",
        "\n",
        "This notebook will walk you through this task interactively, meaning that once you've imported this notebook into `Google Colab`, you'll be able to run individual cells of code independantly, and see the results as you go.\n",
        "\n",
        "This notebooks is designed for users that have an understanding of Python and data analysis. There will be some helper functions and initial setup code provided, but it will be up to you to perform the analysis and to draw insights!\n",
        "\n",
        "---\n",
        "\n",
        "## Section 1 - Setup\n",
        "\n",
        "First, we need to mount this notebook to our Google Drive folder, in order to access the CSV data file. If you haven't already, watch this video https://www.youtube.com/watch?v=woHxvbBLarQ to help you mount your Google Drive folder."
      ]
    },
    {
      "cell_type": "code",
      "source": [
        "from google.colab import drive\n",
        "drive.mount('/content/drive')"
      ],
      "metadata": {
        "colab": {
          "base_uri": "https://localhost:8080/"
        },
        "id": "iT64xTGpHDec",
        "outputId": "0e7df1ed-e075-4ae8-eade-926e2a1417fc"
      },
      "execution_count": 1,
      "outputs": [
        {
          "output_type": "stream",
          "name": "stdout",
          "text": [
            "Mounted at /content/drive\n"
          ]
        }
      ]
    },
    {
      "cell_type": "markdown",
      "metadata": {
        "id": "rgaQP4eos9jS"
      },
      "source": [
        "In order to view, analyse and manipulate the dataset, we must load it into something called a `dataframe`, which is a way of storing tabulated data in a virtual table. This dataframe will allow us to analyse the data freely. To load it into a dataframe, we will need a package called `Pandas`. We can install pandas with this command:"
      ]
    },
    {
      "cell_type": "code",
      "execution_count": null,
      "metadata": {
        "colab": {
          "base_uri": "https://localhost:8080/"
        },
        "id": "u5x18BTjqy3o",
        "outputId": "dba929c8-ffeb-4ded-b023-6d7a05f6a080"
      },
      "outputs": [
        {
          "name": "stdout",
          "output_type": "stream",
          "text": [
            "Requirement already satisfied: pandas in /usr/local/lib/python3.7/dist-packages (1.3.5)\n",
            "Requirement already satisfied: python-dateutil>=2.7.3 in /usr/local/lib/python3.7/dist-packages (from pandas) (2.8.2)\n",
            "Requirement already satisfied: numpy>=1.17.3 in /usr/local/lib/python3.7/dist-packages (from pandas) (1.21.6)\n",
            "Requirement already satisfied: pytz>=2017.3 in /usr/local/lib/python3.7/dist-packages (from pandas) (2022.1)\n",
            "Requirement already satisfied: six>=1.5 in /usr/local/lib/python3.7/dist-packages (from python-dateutil>=2.7.3->pandas) (1.15.0)\n"
          ]
        }
      ],
      "source": [
        "# !pip install pandas"
      ]
    },
    {
      "cell_type": "markdown",
      "metadata": {
        "id": "Ur2OdJMttaGP"
      },
      "source": [
        "And now we can import this package like so:"
      ]
    },
    {
      "cell_type": "code",
      "execution_count": 2,
      "metadata": {
        "id": "_SP0zwPYq-ef"
      },
      "outputs": [],
      "source": [
        "import pandas as pd"
      ]
    },
    {
      "cell_type": "markdown",
      "metadata": {
        "id": "M5nmOA2Rtd2E"
      },
      "source": [
        "---\n",
        "\n",
        "## Section 2 - Data loading\n",
        "\n",
        "Now that Google Drive is mounted, you can store the CSV file anywhere in your Drive and update the `path` variable below to access it within this notebook. Once we've updated the `path`, let's read this CSV file into a pandas dataframe and see what it looks like"
      ]
    },
    {
      "cell_type": "code",
      "execution_count": 3,
      "metadata": {
        "colab": {
          "base_uri": "https://localhost:8080/",
          "height": 374
        },
        "id": "oDB-Ylm3q_wk",
        "outputId": "904e6ff5-028c-43ef-8b3f-344d7970dfac"
      },
      "outputs": [
        {
          "output_type": "execute_result",
          "data": {
            "text/plain": [
              "                         transaction_id            timestamp  \\\n",
              "0  a1c82654-c52c-45b3-8ce8-4c2a1efe63ed  2022-03-02 09:51:38   \n",
              "1  931ad550-09e8-4da6-beaa-8c9d17be9c60  2022-03-06 10:33:59   \n",
              "2  ae133534-6f61-4cd6-b6b8-d1c1d8d90aea  2022-03-04 17:20:21   \n",
              "3  157cebd9-aaf0-475d-8a11-7c8e0f5b76e4  2022-03-02 17:23:58   \n",
              "4  a81a6cd3-5e0c-44a2-826c-aea43e46c514  2022-03-05 14:32:43   \n",
              "\n",
              "                             product_id category customer_type  unit_price  \\\n",
              "0  3bc6c1ea-0198-46de-9ffd-514ae3338713    fruit          gold        3.99   \n",
              "1  ad81b46c-bf38-41cf-9b54-5fe7f5eba93e    fruit      standard        3.99   \n",
              "2  7c55cbd4-f306-4c04-a030-628cbe7867c1    fruit       premium        0.19   \n",
              "3  80da8348-1707-403f-8be7-9e6deeccc883    fruit          gold        0.19   \n",
              "4  7f5e86e6-f06f-45f6-bf44-27b095c9ad1d    fruit         basic        4.49   \n",
              "\n",
              "   quantity  total payment_type  \n",
              "0         2   7.98     e-wallet  \n",
              "1         1   3.99     e-wallet  \n",
              "2         2   0.38     e-wallet  \n",
              "3         4   0.76     e-wallet  \n",
              "4         2   8.98   debit card  "
            ],
            "text/html": [
              "\n",
              "  <div id=\"df-91401a39-be7c-4505-b730-38331ff184c0\">\n",
              "    <div class=\"colab-df-container\">\n",
              "      <div>\n",
              "<style scoped>\n",
              "    .dataframe tbody tr th:only-of-type {\n",
              "        vertical-align: middle;\n",
              "    }\n",
              "\n",
              "    .dataframe tbody tr th {\n",
              "        vertical-align: top;\n",
              "    }\n",
              "\n",
              "    .dataframe thead th {\n",
              "        text-align: right;\n",
              "    }\n",
              "</style>\n",
              "<table border=\"1\" class=\"dataframe\">\n",
              "  <thead>\n",
              "    <tr style=\"text-align: right;\">\n",
              "      <th></th>\n",
              "      <th>transaction_id</th>\n",
              "      <th>timestamp</th>\n",
              "      <th>product_id</th>\n",
              "      <th>category</th>\n",
              "      <th>customer_type</th>\n",
              "      <th>unit_price</th>\n",
              "      <th>quantity</th>\n",
              "      <th>total</th>\n",
              "      <th>payment_type</th>\n",
              "    </tr>\n",
              "  </thead>\n",
              "  <tbody>\n",
              "    <tr>\n",
              "      <th>0</th>\n",
              "      <td>a1c82654-c52c-45b3-8ce8-4c2a1efe63ed</td>\n",
              "      <td>2022-03-02 09:51:38</td>\n",
              "      <td>3bc6c1ea-0198-46de-9ffd-514ae3338713</td>\n",
              "      <td>fruit</td>\n",
              "      <td>gold</td>\n",
              "      <td>3.99</td>\n",
              "      <td>2</td>\n",
              "      <td>7.98</td>\n",
              "      <td>e-wallet</td>\n",
              "    </tr>\n",
              "    <tr>\n",
              "      <th>1</th>\n",
              "      <td>931ad550-09e8-4da6-beaa-8c9d17be9c60</td>\n",
              "      <td>2022-03-06 10:33:59</td>\n",
              "      <td>ad81b46c-bf38-41cf-9b54-5fe7f5eba93e</td>\n",
              "      <td>fruit</td>\n",
              "      <td>standard</td>\n",
              "      <td>3.99</td>\n",
              "      <td>1</td>\n",
              "      <td>3.99</td>\n",
              "      <td>e-wallet</td>\n",
              "    </tr>\n",
              "    <tr>\n",
              "      <th>2</th>\n",
              "      <td>ae133534-6f61-4cd6-b6b8-d1c1d8d90aea</td>\n",
              "      <td>2022-03-04 17:20:21</td>\n",
              "      <td>7c55cbd4-f306-4c04-a030-628cbe7867c1</td>\n",
              "      <td>fruit</td>\n",
              "      <td>premium</td>\n",
              "      <td>0.19</td>\n",
              "      <td>2</td>\n",
              "      <td>0.38</td>\n",
              "      <td>e-wallet</td>\n",
              "    </tr>\n",
              "    <tr>\n",
              "      <th>3</th>\n",
              "      <td>157cebd9-aaf0-475d-8a11-7c8e0f5b76e4</td>\n",
              "      <td>2022-03-02 17:23:58</td>\n",
              "      <td>80da8348-1707-403f-8be7-9e6deeccc883</td>\n",
              "      <td>fruit</td>\n",
              "      <td>gold</td>\n",
              "      <td>0.19</td>\n",
              "      <td>4</td>\n",
              "      <td>0.76</td>\n",
              "      <td>e-wallet</td>\n",
              "    </tr>\n",
              "    <tr>\n",
              "      <th>4</th>\n",
              "      <td>a81a6cd3-5e0c-44a2-826c-aea43e46c514</td>\n",
              "      <td>2022-03-05 14:32:43</td>\n",
              "      <td>7f5e86e6-f06f-45f6-bf44-27b095c9ad1d</td>\n",
              "      <td>fruit</td>\n",
              "      <td>basic</td>\n",
              "      <td>4.49</td>\n",
              "      <td>2</td>\n",
              "      <td>8.98</td>\n",
              "      <td>debit card</td>\n",
              "    </tr>\n",
              "  </tbody>\n",
              "</table>\n",
              "</div>\n",
              "      <button class=\"colab-df-convert\" onclick=\"convertToInteractive('df-91401a39-be7c-4505-b730-38331ff184c0')\"\n",
              "              title=\"Convert this dataframe to an interactive table.\"\n",
              "              style=\"display:none;\">\n",
              "        \n",
              "  <svg xmlns=\"http://www.w3.org/2000/svg\" height=\"24px\"viewBox=\"0 0 24 24\"\n",
              "       width=\"24px\">\n",
              "    <path d=\"M0 0h24v24H0V0z\" fill=\"none\"/>\n",
              "    <path d=\"M18.56 5.44l.94 2.06.94-2.06 2.06-.94-2.06-.94-.94-2.06-.94 2.06-2.06.94zm-11 1L8.5 8.5l.94-2.06 2.06-.94-2.06-.94L8.5 2.5l-.94 2.06-2.06.94zm10 10l.94 2.06.94-2.06 2.06-.94-2.06-.94-.94-2.06-.94 2.06-2.06.94z\"/><path d=\"M17.41 7.96l-1.37-1.37c-.4-.4-.92-.59-1.43-.59-.52 0-1.04.2-1.43.59L10.3 9.45l-7.72 7.72c-.78.78-.78 2.05 0 2.83L4 21.41c.39.39.9.59 1.41.59.51 0 1.02-.2 1.41-.59l7.78-7.78 2.81-2.81c.8-.78.8-2.07 0-2.86zM5.41 20L4 18.59l7.72-7.72 1.47 1.35L5.41 20z\"/>\n",
              "  </svg>\n",
              "      </button>\n",
              "      \n",
              "  <style>\n",
              "    .colab-df-container {\n",
              "      display:flex;\n",
              "      flex-wrap:wrap;\n",
              "      gap: 12px;\n",
              "    }\n",
              "\n",
              "    .colab-df-convert {\n",
              "      background-color: #E8F0FE;\n",
              "      border: none;\n",
              "      border-radius: 50%;\n",
              "      cursor: pointer;\n",
              "      display: none;\n",
              "      fill: #1967D2;\n",
              "      height: 32px;\n",
              "      padding: 0 0 0 0;\n",
              "      width: 32px;\n",
              "    }\n",
              "\n",
              "    .colab-df-convert:hover {\n",
              "      background-color: #E2EBFA;\n",
              "      box-shadow: 0px 1px 2px rgba(60, 64, 67, 0.3), 0px 1px 3px 1px rgba(60, 64, 67, 0.15);\n",
              "      fill: #174EA6;\n",
              "    }\n",
              "\n",
              "    [theme=dark] .colab-df-convert {\n",
              "      background-color: #3B4455;\n",
              "      fill: #D2E3FC;\n",
              "    }\n",
              "\n",
              "    [theme=dark] .colab-df-convert:hover {\n",
              "      background-color: #434B5C;\n",
              "      box-shadow: 0px 1px 3px 1px rgba(0, 0, 0, 0.15);\n",
              "      filter: drop-shadow(0px 1px 2px rgba(0, 0, 0, 0.3));\n",
              "      fill: #FFFFFF;\n",
              "    }\n",
              "  </style>\n",
              "\n",
              "      <script>\n",
              "        const buttonEl =\n",
              "          document.querySelector('#df-91401a39-be7c-4505-b730-38331ff184c0 button.colab-df-convert');\n",
              "        buttonEl.style.display =\n",
              "          google.colab.kernel.accessAllowed ? 'block' : 'none';\n",
              "\n",
              "        async function convertToInteractive(key) {\n",
              "          const element = document.querySelector('#df-91401a39-be7c-4505-b730-38331ff184c0');\n",
              "          const dataTable =\n",
              "            await google.colab.kernel.invokeFunction('convertToInteractive',\n",
              "                                                     [key], {});\n",
              "          if (!dataTable) return;\n",
              "\n",
              "          const docLinkHtml = 'Like what you see? Visit the ' +\n",
              "            '<a target=\"_blank\" href=https://colab.research.google.com/notebooks/data_table.ipynb>data table notebook</a>'\n",
              "            + ' to learn more about interactive tables.';\n",
              "          element.innerHTML = '';\n",
              "          dataTable['output_type'] = 'display_data';\n",
              "          await google.colab.output.renderOutput(dataTable, element);\n",
              "          const docLink = document.createElement('div');\n",
              "          docLink.innerHTML = docLinkHtml;\n",
              "          element.appendChild(docLink);\n",
              "        }\n",
              "      </script>\n",
              "    </div>\n",
              "  </div>\n",
              "  "
            ]
          },
          "metadata": {},
          "execution_count": 3
        }
      ],
      "source": [
        "path = \"/content/drive/MyDrive/Colab Notebooks/Forage_virtual_internship/Cognizant_AI/eda/sample_sales_data.csv\"\n",
        "df = pd.read_csv(path)\n",
        "df.drop(columns=[\"Unnamed: 0\"], inplace=True, errors='ignore')\n",
        "df.head()"
      ]
    },
    {
      "cell_type": "markdown",
      "metadata": {
        "id": "ZI-Q3zvsGWpl"
      },
      "source": [
        "Using the `.head()` method allows us to see the top 5 (5 by default) rows within the dataframe. We can use `.tail()` to see the bottom 5. If you want to see more than 5 rows, simply enter a number into the parentheses, e.g. `head(10)` or `tail(10)`."
      ]
    },
    {
      "cell_type": "markdown",
      "metadata": {
        "id": "qaXaaIr5Hemv"
      },
      "source": [
        "---\n",
        "\n",
        "## Section 3 - Descriptive statistics\n",
        "\n",
        "In this section, you should try to gain a description of the data, that is: what columns are present, how many null values exist and what data types exists within each column.\n",
        "\n",
        "To get you started an explanation of what the column names mean are provided below:\n",
        "\n",
        "- transaction_id = this is a unique ID that is assigned to each transaction\n",
        "- timestamp = this is the datetime at which the transaction was made\n",
        "- product_id = this is an ID that is assigned to the product that was sold. Each product has a unique ID\n",
        "- category = this is the category that the product is contained within\n",
        "- customer_type = this is the type of customer that made the transaction\n",
        "- unit_price = the price that 1 unit of this item sells for\n",
        "- quantity = the number of units sold for this product within this transaction\n",
        "- total = the total amount payable by the customer\n",
        "- payment_type = the payment method used by the customer\n",
        "\n",
        "After this, you should try to compute some descriptive statistics of the numerical columns within the dataset, such as:\n",
        "\n",
        "- mean\n",
        "- median\n",
        "- count\n",
        "- etc..."
      ]
    },
    {
      "cell_type": "code",
      "execution_count": 4,
      "metadata": {
        "id": "sbf25LDJ7FJG",
        "colab": {
          "base_uri": "https://localhost:8080/"
        },
        "outputId": "e0a7c898-5f6b-4545-e5a7-4ea233f77323"
      },
      "outputs": [
        {
          "output_type": "stream",
          "name": "stdout",
          "text": [
            "<class 'pandas.core.frame.DataFrame'>\n",
            "RangeIndex: 7829 entries, 0 to 7828\n",
            "Data columns (total 9 columns):\n",
            " #   Column          Non-Null Count  Dtype  \n",
            "---  ------          --------------  -----  \n",
            " 0   transaction_id  7829 non-null   object \n",
            " 1   timestamp       7829 non-null   object \n",
            " 2   product_id      7829 non-null   object \n",
            " 3   category        7829 non-null   object \n",
            " 4   customer_type   7829 non-null   object \n",
            " 5   unit_price      7829 non-null   float64\n",
            " 6   quantity        7829 non-null   int64  \n",
            " 7   total           7829 non-null   float64\n",
            " 8   payment_type    7829 non-null   object \n",
            "dtypes: float64(2), int64(1), object(6)\n",
            "memory usage: 550.6+ KB\n"
          ]
        }
      ],
      "source": [
        "df.info()"
      ]
    },
    {
      "cell_type": "markdown",
      "source": [
        "The `.info()` method creates a data description of the dataframe. it tells is the following;\n",
        "- How many rows: 7829\n",
        "- How many columns: 9\n",
        "- Columns names\n",
        "- How many values are non-null for each column\n",
        "- The type of data contained within each column\n",
        "- The size of the dataset loaded into the memory (~550KB)\n",
        "\n",
        "It is also interesting to look at the datatypes. We can see that there are 3 different datatypes within the dataset;\n",
        "\n",
        "- object = this column contains categorical values\n",
        "- float64 = this columns contains float point numerial values (i.e decimal numbers)\n",
        "- int64 = this column contains integer values (whole numbers)\n",
        "\n",
        "Now let's compute some descriptive statistics of the numeric columns."
      ],
      "metadata": {
        "id": "vcBsrMwPMdIK"
      }
    },
    {
      "cell_type": "code",
      "source": [
        "df.describe()"
      ],
      "metadata": {
        "colab": {
          "base_uri": "https://localhost:8080/",
          "height": 300
        },
        "id": "h694SJj4QXKA",
        "outputId": "007a77de-3732-4513-e206-d8e1c7d45717"
      },
      "execution_count": 5,
      "outputs": [
        {
          "output_type": "execute_result",
          "data": {
            "text/plain": [
              "        unit_price     quantity        total\n",
              "count  7829.000000  7829.000000  7829.000000\n",
              "mean      7.819480     2.501597    19.709905\n",
              "std       5.388088     1.122722    17.446680\n",
              "min       0.190000     1.000000     0.190000\n",
              "25%       3.990000     1.000000     6.570000\n",
              "50%       7.190000     3.000000    14.970000\n",
              "75%      11.190000     4.000000    28.470000\n",
              "max      23.990000     4.000000    95.960000"
            ],
            "text/html": [
              "\n",
              "  <div id=\"df-21b82d8d-b9b8-465e-9683-a9749f574371\">\n",
              "    <div class=\"colab-df-container\">\n",
              "      <div>\n",
              "<style scoped>\n",
              "    .dataframe tbody tr th:only-of-type {\n",
              "        vertical-align: middle;\n",
              "    }\n",
              "\n",
              "    .dataframe tbody tr th {\n",
              "        vertical-align: top;\n",
              "    }\n",
              "\n",
              "    .dataframe thead th {\n",
              "        text-align: right;\n",
              "    }\n",
              "</style>\n",
              "<table border=\"1\" class=\"dataframe\">\n",
              "  <thead>\n",
              "    <tr style=\"text-align: right;\">\n",
              "      <th></th>\n",
              "      <th>unit_price</th>\n",
              "      <th>quantity</th>\n",
              "      <th>total</th>\n",
              "    </tr>\n",
              "  </thead>\n",
              "  <tbody>\n",
              "    <tr>\n",
              "      <th>count</th>\n",
              "      <td>7829.000000</td>\n",
              "      <td>7829.000000</td>\n",
              "      <td>7829.000000</td>\n",
              "    </tr>\n",
              "    <tr>\n",
              "      <th>mean</th>\n",
              "      <td>7.819480</td>\n",
              "      <td>2.501597</td>\n",
              "      <td>19.709905</td>\n",
              "    </tr>\n",
              "    <tr>\n",
              "      <th>std</th>\n",
              "      <td>5.388088</td>\n",
              "      <td>1.122722</td>\n",
              "      <td>17.446680</td>\n",
              "    </tr>\n",
              "    <tr>\n",
              "      <th>min</th>\n",
              "      <td>0.190000</td>\n",
              "      <td>1.000000</td>\n",
              "      <td>0.190000</td>\n",
              "    </tr>\n",
              "    <tr>\n",
              "      <th>25%</th>\n",
              "      <td>3.990000</td>\n",
              "      <td>1.000000</td>\n",
              "      <td>6.570000</td>\n",
              "    </tr>\n",
              "    <tr>\n",
              "      <th>50%</th>\n",
              "      <td>7.190000</td>\n",
              "      <td>3.000000</td>\n",
              "      <td>14.970000</td>\n",
              "    </tr>\n",
              "    <tr>\n",
              "      <th>75%</th>\n",
              "      <td>11.190000</td>\n",
              "      <td>4.000000</td>\n",
              "      <td>28.470000</td>\n",
              "    </tr>\n",
              "    <tr>\n",
              "      <th>max</th>\n",
              "      <td>23.990000</td>\n",
              "      <td>4.000000</td>\n",
              "      <td>95.960000</td>\n",
              "    </tr>\n",
              "  </tbody>\n",
              "</table>\n",
              "</div>\n",
              "      <button class=\"colab-df-convert\" onclick=\"convertToInteractive('df-21b82d8d-b9b8-465e-9683-a9749f574371')\"\n",
              "              title=\"Convert this dataframe to an interactive table.\"\n",
              "              style=\"display:none;\">\n",
              "        \n",
              "  <svg xmlns=\"http://www.w3.org/2000/svg\" height=\"24px\"viewBox=\"0 0 24 24\"\n",
              "       width=\"24px\">\n",
              "    <path d=\"M0 0h24v24H0V0z\" fill=\"none\"/>\n",
              "    <path d=\"M18.56 5.44l.94 2.06.94-2.06 2.06-.94-2.06-.94-.94-2.06-.94 2.06-2.06.94zm-11 1L8.5 8.5l.94-2.06 2.06-.94-2.06-.94L8.5 2.5l-.94 2.06-2.06.94zm10 10l.94 2.06.94-2.06 2.06-.94-2.06-.94-.94-2.06-.94 2.06-2.06.94z\"/><path d=\"M17.41 7.96l-1.37-1.37c-.4-.4-.92-.59-1.43-.59-.52 0-1.04.2-1.43.59L10.3 9.45l-7.72 7.72c-.78.78-.78 2.05 0 2.83L4 21.41c.39.39.9.59 1.41.59.51 0 1.02-.2 1.41-.59l7.78-7.78 2.81-2.81c.8-.78.8-2.07 0-2.86zM5.41 20L4 18.59l7.72-7.72 1.47 1.35L5.41 20z\"/>\n",
              "  </svg>\n",
              "      </button>\n",
              "      \n",
              "  <style>\n",
              "    .colab-df-container {\n",
              "      display:flex;\n",
              "      flex-wrap:wrap;\n",
              "      gap: 12px;\n",
              "    }\n",
              "\n",
              "    .colab-df-convert {\n",
              "      background-color: #E8F0FE;\n",
              "      border: none;\n",
              "      border-radius: 50%;\n",
              "      cursor: pointer;\n",
              "      display: none;\n",
              "      fill: #1967D2;\n",
              "      height: 32px;\n",
              "      padding: 0 0 0 0;\n",
              "      width: 32px;\n",
              "    }\n",
              "\n",
              "    .colab-df-convert:hover {\n",
              "      background-color: #E2EBFA;\n",
              "      box-shadow: 0px 1px 2px rgba(60, 64, 67, 0.3), 0px 1px 3px 1px rgba(60, 64, 67, 0.15);\n",
              "      fill: #174EA6;\n",
              "    }\n",
              "\n",
              "    [theme=dark] .colab-df-convert {\n",
              "      background-color: #3B4455;\n",
              "      fill: #D2E3FC;\n",
              "    }\n",
              "\n",
              "    [theme=dark] .colab-df-convert:hover {\n",
              "      background-color: #434B5C;\n",
              "      box-shadow: 0px 1px 3px 1px rgba(0, 0, 0, 0.15);\n",
              "      filter: drop-shadow(0px 1px 2px rgba(0, 0, 0, 0.3));\n",
              "      fill: #FFFFFF;\n",
              "    }\n",
              "  </style>\n",
              "\n",
              "      <script>\n",
              "        const buttonEl =\n",
              "          document.querySelector('#df-21b82d8d-b9b8-465e-9683-a9749f574371 button.colab-df-convert');\n",
              "        buttonEl.style.display =\n",
              "          google.colab.kernel.accessAllowed ? 'block' : 'none';\n",
              "\n",
              "        async function convertToInteractive(key) {\n",
              "          const element = document.querySelector('#df-21b82d8d-b9b8-465e-9683-a9749f574371');\n",
              "          const dataTable =\n",
              "            await google.colab.kernel.invokeFunction('convertToInteractive',\n",
              "                                                     [key], {});\n",
              "          if (!dataTable) return;\n",
              "\n",
              "          const docLinkHtml = 'Like what you see? Visit the ' +\n",
              "            '<a target=\"_blank\" href=https://colab.research.google.com/notebooks/data_table.ipynb>data table notebook</a>'\n",
              "            + ' to learn more about interactive tables.';\n",
              "          element.innerHTML = '';\n",
              "          dataTable['output_type'] = 'display_data';\n",
              "          await google.colab.output.renderOutput(dataTable, element);\n",
              "          const docLink = document.createElement('div');\n",
              "          docLink.innerHTML = docLinkHtml;\n",
              "          element.appendChild(docLink);\n",
              "        }\n",
              "      </script>\n",
              "    </div>\n",
              "  </div>\n",
              "  "
            ]
          },
          "metadata": {},
          "execution_count": 5
        }
      ]
    },
    {
      "cell_type": "markdown",
      "source": [
        "The `.describe()` method computes some descriptive statistics of the numerical columns including;\n",
        "\n",
        "- count = count of how many unique values exist (or how many entries)\n",
        "- mena = mean average value of this column\n",
        "- std = standard deviation\n",
        "- min = minimum value \n",
        "- 25% = lower quartile value\n",
        "- 50% = median value\n",
        "- 75% = upper quartile value\n",
        "- max = maximum value\n",
        "\n",
        "Looking ath the distribution of the numerical data, the data is fairly distributed, and we may not have much of a skewed data. But this assunmption will be verified by visualising the data."
      ],
      "metadata": {
        "id": "mz_x9rLLQhT-"
      }
    },
    {
      "cell_type": "markdown",
      "metadata": {
        "id": "N-krPtHdHNrh"
      },
      "source": [
        "---\n",
        "\n",
        "## Section 4 - Visualisation\n",
        "\n",
        "Now that you've computed some descriptive statistics of the dataset, let's create some visualisations. You may use any package that you wish for visualisation, however, some helper functions have been provided that make use of the `seaborn` package. If you wish to use these helper functions, ensure to run the below cells that install and import `seaborn`."
      ]
    },
    {
      "cell_type": "code",
      "execution_count": null,
      "metadata": {
        "colab": {
          "base_uri": "https://localhost:8080/"
        },
        "id": "fT9DrY9RHMrd",
        "outputId": "b792ccca-6123-4bc0-e4f5-8d5888a36450"
      },
      "outputs": [
        {
          "name": "stdout",
          "output_type": "stream",
          "text": [
            "Requirement already satisfied: seaborn in /usr/local/lib/python3.7/dist-packages (0.11.2)\n",
            "Requirement already satisfied: numpy>=1.15 in /usr/local/lib/python3.7/dist-packages (from seaborn) (1.21.6)\n",
            "Requirement already satisfied: pandas>=0.23 in /usr/local/lib/python3.7/dist-packages (from seaborn) (1.3.5)\n",
            "Requirement already satisfied: scipy>=1.0 in /usr/local/lib/python3.7/dist-packages (from seaborn) (1.4.1)\n",
            "Requirement already satisfied: matplotlib>=2.2 in /usr/local/lib/python3.7/dist-packages (from seaborn) (3.2.2)\n",
            "Requirement already satisfied: python-dateutil>=2.1 in /usr/local/lib/python3.7/dist-packages (from matplotlib>=2.2->seaborn) (2.8.2)\n",
            "Requirement already satisfied: pyparsing!=2.0.4,!=2.1.2,!=2.1.6,>=2.0.1 in /usr/local/lib/python3.7/dist-packages (from matplotlib>=2.2->seaborn) (3.0.8)\n",
            "Requirement already satisfied: cycler>=0.10 in /usr/local/lib/python3.7/dist-packages (from matplotlib>=2.2->seaborn) (0.11.0)\n",
            "Requirement already satisfied: kiwisolver>=1.0.1 in /usr/local/lib/python3.7/dist-packages (from matplotlib>=2.2->seaborn) (1.4.2)\n",
            "Requirement already satisfied: typing-extensions in /usr/local/lib/python3.7/dist-packages (from kiwisolver>=1.0.1->matplotlib>=2.2->seaborn) (4.2.0)\n",
            "Requirement already satisfied: pytz>=2017.3 in /usr/local/lib/python3.7/dist-packages (from pandas>=0.23->seaborn) (2022.1)\n",
            "Requirement already satisfied: six>=1.5 in /usr/local/lib/python3.7/dist-packages (from python-dateutil>=2.1->matplotlib>=2.2->seaborn) (1.15.0)\n"
          ]
        }
      ],
      "source": [
        "# !pip install seaborn"
      ]
    },
    {
      "cell_type": "code",
      "execution_count": 6,
      "metadata": {
        "id": "32RDb2C7KOpN"
      },
      "outputs": [],
      "source": [
        "import seaborn as sns"
      ]
    },
    {
      "cell_type": "markdown",
      "metadata": {
        "id": "rNvl5rGeKv-h"
      },
      "source": [
        "To analyse the dataset, below are snippets of code that you can use as helper functions to visualise different columns within the dataset. They include:\n",
        "\n",
        "- plot_continuous_distribution = this is to visualise the distribution of numeric columns\n",
        "- get_unique_values = this is to show how many unique values are present within a column\n",
        "- plot_categorical_distribution = this is to visualise the distribution of categorical columns\n",
        "- correlation_plot = this is to plot the correlations between the numeric columns within the data"
      ]
    },
    {
      "cell_type": "code",
      "execution_count": 7,
      "metadata": {
        "id": "AyUPE4QRKcYQ"
      },
      "outputs": [],
      "source": [
        "def plot_continuous_distribution(data: pd.DataFrame = None, column: str = None, height: int = 8):\n",
        "  _ = sns.displot(data, x=column, kde=True, height=height, aspect=height/5).set(title=f'Distribution of {column}');\n",
        "\n",
        "def get_unique_values(data, column):\n",
        "  num_unique_values = len(data[column].unique())\n",
        "  value_counts = data[column].value_counts()\n",
        "  print(f\"Column: {column} has {num_unique_values} unique values\\n\")\n",
        "  print(value_counts)\n",
        "\n",
        "def plot_categorical_distribution(data: pd.DataFrame = None, column: str = None, height: int = 8, aspect: int = 2):\n",
        "  _ = sns.catplot(data=data, x=column, kind='count', height=height, aspect=aspect).set(title=f'Distribution of {column}');\n",
        "\n",
        "def correlation_plot(data: pd.DataFrame = None):\n",
        "  corr = df.corr()\n",
        "  corr.style.background_gradient(cmap='coolwarm')"
      ]
    },
    {
      "cell_type": "markdown",
      "metadata": {
        "id": "Atm2hxjv70Wr"
      },
      "source": [
        "Now it is your chance to visualise the columns, give it your best shot! As well as simply visualising the columns, try to interpret what the results mean in the context of the client."
      ]
    },
    {
      "cell_type": "code",
      "source": [
        "plot_continuous_distribution(df, 'unit_price')"
      ],
      "metadata": {
        "colab": {
          "base_uri": "https://localhost:8080/",
          "height": 429
        },
        "id": "r9sgqmw6QscU",
        "outputId": "c4f75fa2-2b46-4cf7-d082-704a4d3020ef"
      },
      "execution_count": 8,
      "outputs": [
        {
          "output_type": "display_data",
          "data": {
            "text/plain": [
              "<Figure size 921.6x576 with 1 Axes>"
            ],
            "image/png": "[encoded data removed]"
          },
          "metadata": {
            "needs_background": "light"
          }
        }
      ]
    },
    {
      "cell_type": "markdown",
      "source": [
        "This distribution plot show shows that the `unit_price` ispositively skewed, that is there are more sales of products with lower unit_price compared to products with a high unit_price.\n",
        "\n",
        "This makes sense, you  would expect a grocery store to sell more products that are cheap, and just a few products that are really expensive."
      ],
      "metadata": {
        "id": "mRcWVVb2Q5pa"
      }
    },
    {
      "cell_type": "code",
      "source": [
        "plot_continuous_distribution(df, 'quantity')"
      ],
      "metadata": {
        "colab": {
          "base_uri": "https://localhost:8080/",
          "height": 429
        },
        "id": "kxMBqkUQSdOU",
        "outputId": "9da8023c-bb51-4983-d550-9aa45d38e747"
      },
      "execution_count": 9,
      "outputs": [
        {
          "output_type": "display_data",
          "data": {
            "text/plain": [
              "<Figure size 921.6x576 with 1 Axes>"
            ],
            "image/png": "[encoded data removed]"
          },
          "metadata": {
            "needs_background": "light"
          }
        }
      ]
    },
    {
      "cell_type": "markdown",
      "source": [
        "The distribution of `quantity` is different. We can see that only 4 unique values exit (1, 2, 3, and 4) and they are quite evenly distributed. This seems as though customers are buying even quantities across 1 to 4 units."
      ],
      "metadata": {
        "id": "51J9K394S3mO"
      }
    },
    {
      "cell_type": "code",
      "source": [
        "plot_continuous_distribution(df, 'total')"
      ],
      "metadata": {
        "colab": {
          "base_uri": "https://localhost:8080/",
          "height": 429
        },
        "id": "P-vmH0V5Q3dx",
        "outputId": "7124ed19-1098-41f5-ee51-9c76f0aadb7e"
      },
      "execution_count": 10,
      "outputs": [
        {
          "output_type": "display_data",
          "data": {
            "text/plain": [
              "<Figure size 921.6x576 with 1 Axes>"
            ],
            "image/png": "[encoded data removed]"
          },
          "metadata": {
            "needs_background": "light"
          }
        }
      ]
    },
    {
      "cell_type": "markdown",
      "source": [
        "The `total` follows a similar distribution to `unit_price`. This may be expected, as the total is calculated as `unit_price * quantity`.\n",
        "\n",
        "However, this distribution is even more positively skewed that the 'unit_price'. Once again, using intuition, this distribution makes sense. It is expected that customers at a grocery store will generally make more transactions of low value and  only occasionally make a transaction of a very high value.\n",
        "\n",
        "Now lte's turn our attention to the categorical columns within the dataset.\n",
        "\n",
        "Before visualising these columns, it is worht understanding how many unique values these columns have. If a categorical column has 1000's of unique values, it will be very dificult to visualise."
      ],
      "metadata": {
        "id": "pMPMNC-wT27q"
      }
    },
    {
      "cell_type": "code",
      "source": [
        "get_unique_values(df, 'transaction_id')"
      ],
      "metadata": {
        "colab": {
          "base_uri": "https://localhost:8080/"
        },
        "id": "qz0akpc_WY2k",
        "outputId": "f1afcbd2-7564-49b9-f06b-16a66a4fbb1d"
      },
      "execution_count": 11,
      "outputs": [
        {
          "output_type": "stream",
          "name": "stdout",
          "text": [
            "Column: transaction_id has 7829 unique values\n",
            "\n",
            "a1c82654-c52c-45b3-8ce8-4c2a1efe63ed    1\n",
            "6532e258-95fd-4eb5-8c67-2bfb879a8fec    1\n",
            "6fce2af3-47a0-4755-99c9-0cefb5ab6f41    1\n",
            "6476e388-3990-471f-b415-3ee59ae18832    1\n",
            "10afe89b-c45b-49a2-b0be-dec89a4c3f80    1\n",
            "                                       ..\n",
            "a9abe5ac-99d5-4d8b-bbbd-c2a207642849    1\n",
            "6b0b23e8-412b-4665-8cc4-3e37f0d9e195    1\n",
            "711a4162-1985-4f5a-94ca-137cfacaeadf    1\n",
            "7d1e9010-dbaf-4770-a467-f31477910f7a    1\n",
            "afd70b4f-ee21-402d-8d8f-0d9e13c2bea6    1\n",
            "Name: transaction_id, Length: 7829, dtype: int64\n"
          ]
        }
      ]
    },
    {
      "cell_type": "markdown",
      "source": [
        "As explained previously, `transaction_id` is a unique ID column for each transaction. Since each row represents a unique transaction, this means that we have 7829 unique transaction IDs. Thereforem this column is not useful to visualise."
      ],
      "metadata": {
        "id": "nDjbAorbWeg0"
      }
    },
    {
      "cell_type": "code",
      "source": [
        "get_unique_values(df, 'product_id')"
      ],
      "metadata": {
        "colab": {
          "base_uri": "https://localhost:8080/"
        },
        "id": "NgwjSVqmWda7",
        "outputId": "c54c9be3-e60b-4794-eb92-b3e4c2230689"
      },
      "execution_count": 12,
      "outputs": [
        {
          "output_type": "stream",
          "name": "stdout",
          "text": [
            "Column: product_id has 300 unique values\n",
            "\n",
            "ecac012c-1dec-41d4-9ebd-56fb7166f6d9    114\n",
            "80da8348-1707-403f-8be7-9e6deeccc883    109\n",
            "0ddc2379-adba-4fb0-aa97-19fcafc738a1    108\n",
            "7c55cbd4-f306-4c04-a030-628cbe7867c1    104\n",
            "3bc6c1ea-0198-46de-9ffd-514ae3338713    101\n",
            "                                       ... \n",
            "49f7d4a9-713a-4824-b378-aebb33ff8b2f      5\n",
            "a8fab83a-16d4-4db0-a83a-f824ecd8604a      5\n",
            "c8de27d0-2c44-4b5a-b178-59c45d054ccb      5\n",
            "5adfc643-aa8e-4140-b2c3-98a946444632      5\n",
            "ec0bb9b5-45e3-4de8-963d-e92aa91a201e      3\n",
            "Name: product_id, Length: 300, dtype: int64\n"
          ]
        }
      ]
    },
    {
      "cell_type": "markdown",
      "source": [
        "Similarly, `product_id` is an ID column, however it is unique based on the product that was sold within the transaction. From this computation, we can see that we have 300 unique product IDs, hence 300 unique products within the dataset. This is not worth visualising, but it certainly interesting to know. From the output of the helper function, we can see that the product most frequently was sold within this dataset was `ecac012c-1dec-41d4-9ebd-56fb7166f6d9`, sold 114 times during the week. Whereas the product least sold was `ec0bb9b5-45e3-4de8-963d-e92aa91a201e` sold just 3 times\n"
      ],
      "metadata": {
        "id": "Pzu7KtgUW8co"
      }
    },
    {
      "cell_type": "code",
      "source": [
        "get_unique_values(df, 'category')"
      ],
      "metadata": {
        "colab": {
          "base_uri": "https://localhost:8080/"
        },
        "id": "9FmVuXzxWcAH",
        "outputId": "48faf9bf-7960-40db-9b6b-02039f734ba4"
      },
      "execution_count": 13,
      "outputs": [
        {
          "output_type": "stream",
          "name": "stdout",
          "text": [
            "Column: category has 22 unique values\n",
            "\n",
            "fruit                    998\n",
            "vegetables               846\n",
            "packaged foods           507\n",
            "baked goods              443\n",
            "canned foods             431\n",
            "refrigerated items       425\n",
            "kitchen                  382\n",
            "meat                     382\n",
            "dairy                    375\n",
            "beverages                301\n",
            "cheese                   293\n",
            "cleaning products        292\n",
            "baking                   264\n",
            "snacks                   263\n",
            "frozen                   263\n",
            "seafood                  253\n",
            "medicine                 243\n",
            "baby products            224\n",
            "condiments and sauces    181\n",
            "personal care            177\n",
            "pets                     161\n",
            "spices and herbs         125\n",
            "Name: category, dtype: int64\n"
          ]
        }
      ]
    },
    {
      "cell_type": "markdown",
      "source": [
        "There are 22 unique values for `category`, with `fruit` and `vegetables` being the 2 most frequently purchased product categories and `spices and herbs` being the least. Let's visualise this too"
      ],
      "metadata": {
        "id": "eN4lkG8TZd5-"
      }
    },
    {
      "cell_type": "code",
      "source": [
        "plot_categorical_distribution(df, 'category', height=10, aspect=3.5)"
      ],
      "metadata": {
        "colab": {
          "base_uri": "https://localhost:8080/",
          "height": 204
        },
        "id": "hrlKkEidYgFX",
        "outputId": "4fc5e9ee-af82-4181-dcbb-3dbf487aa512"
      },
      "execution_count": 14,
      "outputs": [
        {
          "output_type": "display_data",
          "data": {
            "text/plain": [
              "<Figure size 2520x720 with 1 Axes>"
            ],
            "image/png": "[encoded data removed]"
          },
          "metadata": {
            "needs_background": "light"
          }
        }
      ]
    },
    {
      "cell_type": "code",
      "source": [
        "get_unique_values(df, 'customer_type')"
      ],
      "metadata": {
        "colab": {
          "base_uri": "https://localhost:8080/"
        },
        "id": "wtyWmGmZZ8DM",
        "outputId": "2bce3143-bc6b-49b5-b653-7b0ada845670"
      },
      "execution_count": 15,
      "outputs": [
        {
          "output_type": "stream",
          "name": "stdout",
          "text": [
            "Column: customer_type has 5 unique values\n",
            "\n",
            "non-member    1601\n",
            "standard      1595\n",
            "premium       1590\n",
            "basic         1526\n",
            "gold          1517\n",
            "Name: customer_type, dtype: int64\n"
          ]
        }
      ]
    },
    {
      "cell_type": "markdown",
      "source": [
        "There are 5 unique values for `customer_type`, and they seem to be evenly distributed. Let's visualise this:"
      ],
      "metadata": {
        "id": "YZm9OcDkc5Av"
      }
    },
    {
      "cell_type": "code",
      "source": [
        "plot_categorical_distribution(df, 'customer_type', height=5, aspect=1.5)"
      ],
      "metadata": {
        "colab": {
          "base_uri": "https://localhost:8080/",
          "height": 385
        },
        "id": "yx7uVx1DYg1p",
        "outputId": "dfe7a630-06ad-408c-86b0-9c87cbf39eb2"
      },
      "execution_count": 16,
      "outputs": [
        {
          "output_type": "display_data",
          "data": {
            "text/plain": [
              "<Figure size 540x360 with 1 Axes>"
            ],
            "image/png": "[encoded data removed]"
          },
          "metadata": {
            "needs_background": "light"
          }
        }
      ]
    },
    {
      "cell_type": "markdown",
      "source": [
        "From this sample of data, non-members appear to be the most frequent type of customers, closely followed by standard and premium customers"
      ],
      "metadata": {
        "id": "U_NuyHgmdChN"
      }
    },
    {
      "cell_type": "code",
      "source": [
        "get_unique_values(df, 'payment_type')"
      ],
      "metadata": {
        "id": "GFYSquBEdZNs",
        "colab": {
          "base_uri": "https://localhost:8080/"
        },
        "outputId": "c1be33a9-bb4d-4390-aed7-7d406a3b3483"
      },
      "execution_count": 17,
      "outputs": [
        {
          "output_type": "stream",
          "name": "stdout",
          "text": [
            "Column: payment_type has 4 unique values\n",
            "\n",
            "cash           2027\n",
            "credit card    1949\n",
            "e-wallet       1935\n",
            "debit card     1918\n",
            "Name: payment_type, dtype: int64\n"
          ]
        }
      ]
    },
    {
      "cell_type": "markdown",
      "source": [
        "There are 4 unique values for `payment_type`, and they seem to be quite evenly distributed once again. Let's visualise this:"
      ],
      "metadata": {
        "id": "wPgcBNQqTafD"
      }
    },
    {
      "cell_type": "code",
      "source": [
        "plot_categorical_distribution(df, 'payment_type', height=5, aspect=1.5)"
      ],
      "metadata": {
        "id": "iq8whvE7dZL9",
        "colab": {
          "base_uri": "https://localhost:8080/",
          "height": 385
        },
        "outputId": "0d1c75be-4cbd-4ac0-8464-2fcecc8f4a8b"
      },
      "execution_count": 18,
      "outputs": [
        {
          "output_type": "display_data",
          "data": {
            "text/plain": [
              "<Figure size 540x360 with 1 Axes>"
            ],
            "image/png": "[encoded data removed]"
          },
          "metadata": {
            "needs_background": "light"
          }
        }
      ]
    },
    {
      "cell_type": "markdown",
      "source": [
        "Interestingly, cash seems to be the most frequently used method of payment from this sample of data, with debit cards being the least frequent. \n",
        "\n",
        "\n",
        "This dataset is a sample from 1 store across 1 week. So it will be interesting to see if the population sample follows similar patterns."
      ],
      "metadata": {
        "id": "WwvCidJJUOT9"
      }
    },
    {
      "cell_type": "code",
      "source": [
        "get_unique_values(df, 'timestamp')"
      ],
      "metadata": {
        "id": "zVniipnLdZKC",
        "colab": {
          "base_uri": "https://localhost:8080/"
        },
        "outputId": "ba042215-2cbf-4880-b9b1-59480b31d38c"
      },
      "execution_count": 19,
      "outputs": [
        {
          "output_type": "stream",
          "name": "stdout",
          "text": [
            "Column: timestamp has 7738 unique values\n",
            "\n",
            "2022-03-02 19:32:20    2\n",
            "2022-03-05 10:11:33    2\n",
            "2022-03-01 18:12:17    2\n",
            "2022-03-03 13:28:14    2\n",
            "2022-03-07 17:13:29    2\n",
            "                      ..\n",
            "2022-03-01 10:00:58    1\n",
            "2022-03-02 11:05:58    1\n",
            "2022-03-04 17:48:49    1\n",
            "2022-03-04 14:53:27    1\n",
            "2022-03-06 13:50:36    1\n",
            "Name: timestamp, Length: 7738, dtype: int64\n"
          ]
        }
      ]
    },
    {
      "cell_type": "code",
      "source": [],
      "metadata": {
        "id": "p417QhcUdZH5"
      },
      "execution_count": null,
      "outputs": []
    },
    {
      "cell_type": "code",
      "source": [],
      "metadata": {
        "id": "7sPwUo2LdZGH"
      },
      "execution_count": null,
      "outputs": []
    },
    {
      "cell_type": "code",
      "source": [],
      "metadata": {
        "id": "SsQk7eywdZEZ"
      },
      "execution_count": null,
      "outputs": []
    },
    {
      "cell_type": "code",
      "source": [],
      "metadata": {
        "id": "DSVof-GQdZCF"
      },
      "execution_count": null,
      "outputs": []
    },
    {
      "cell_type": "code",
      "source": [],
      "metadata": {
        "id": "V9Qg77iwdY_z"
      },
      "execution_count": null,
      "outputs": []
    },
    {
      "cell_type": "code",
      "source": [],
      "metadata": {
        "id": "y1wP9UjydY-B"
      },
      "execution_count": null,
      "outputs": []
    },
    {
      "cell_type": "code",
      "source": [],
      "metadata": {
        "id": "pBAxd8sOdY7s"
      },
      "execution_count": null,
      "outputs": []
    },
    {
      "cell_type": "code",
      "source": [],
      "metadata": {
        "id": "cn_66eTAdY5K"
      },
      "execution_count": null,
      "outputs": []
    },
    {
      "cell_type": "code",
      "source": [],
      "metadata": {
        "id": "H879km2pdY2q"
      },
      "execution_count": null,
      "outputs": []
    },
    {
      "cell_type": "code",
      "source": [],
      "metadata": {
        "id": "wOfPn__XdYyR"
      },
      "execution_count": null,
      "outputs": []
    },
    {
      "cell_type": "code",
      "source": [],
      "metadata": {
        "id": "pgbdIfWEdYsT"
      },
      "execution_count": null,
      "outputs": []
    },
    {
      "cell_type": "code",
      "source": [],
      "metadata": {
        "id": "gBB93zTsdYkE"
      },
      "execution_count": null,
      "outputs": []
    },
    {
      "cell_type": "code",
      "source": [],
      "metadata": {
        "id": "mqGfMjhhdYXF"
      },
      "execution_count": null,
      "outputs": []
    },
    {
      "cell_type": "markdown",
      "metadata": {
        "id": "oBin5kdG4iS0"
      },
      "source": [
        "---\n",
        "\n",
        "## Section 5 - Summary\n",
        "\n",
        "We have completed an initial exploratory data analysis on the sample of data provided. We should now have a solid understanding of the data. \n",
        "\n",
        "The client wants to know\n",
        "\n",
        "```\n",
        "\"How to better stock the items that they sell\"\n",
        "```\n",
        "\n",
        "From this dataset, it is impossible to answer that question. In order to make the next step on this project with the client, it is clear that:\n",
        "\n",
        "- We need more rows of data. The current sample is only from 1 store and 1 week worth of data\n",
        "- We need to frame the specific problem statement that we want to solve. The current business problem is too broad, we should narrow down the focus in order to deliver a valuable end product\n",
        "- We need more features. Based on the problem statement that we move forward with, we need more columns (features) that may help us to understand the outcome that we're solving for\n",
        "\n"
      ]
    }
  ],
  "metadata": {
    "colab": {
      "provenance": []
    },
    "kernelspec": {
      "display_name": "Python 3 (ipykernel)",
      "language": "python",
      "name": "python3"
    },
    "language_info": {
      "codemirror_mode": {
        "name": "ipython",
        "version": 3
      },
      "file_extension": ".py",
      "mimetype": "text/x-python",
      "name": "python",
      "nbconvert_exporter": "python",
      "pygments_lexer": "ipython3",
      "version": "3.10.8"
    }
  },
  "nbformat": 4,
  "nbformat_minor": 0
}