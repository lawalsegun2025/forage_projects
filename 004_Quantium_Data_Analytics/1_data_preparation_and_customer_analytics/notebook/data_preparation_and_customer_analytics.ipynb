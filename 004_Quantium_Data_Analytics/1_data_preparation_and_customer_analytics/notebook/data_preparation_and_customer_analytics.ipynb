{
 "cells": [
  {
   "cell_type": "markdown",
   "id": "d9fbb798",
   "metadata": {},
   "source": [
    "# Data Preparation and Customer Analytics\n",
    "# Task 1\n",
    "\n",
    "Conduct analysis on client's transaction dataset and identify customer purchasing behaviours to generate insights and provide commercial recommendations."
   ]
  },
  {
   "cell_type": "markdown",
   "id": "f4120f4f",
   "metadata": {},
   "source": [
    "## Work FLow\n",
    "\n",
    "**1. Examine transaction data;** \n",
    "\n",
    "    - Look for inconsistencies\n",
    "    - missing data across the dataset\n",
    "    - outliers\n",
    "    - correctly identify category items\n",
    "    - numeric data across all tables.\n",
    "    \n",
    "    If anomalies are determined, make necessary changes and save it\n",
    "    \n",
    "**2. Examine customer data;**\n",
    "\n",
    "    - Look for inconsistencies\n",
    "    - missing data across the dataset\n",
    "    - outliers\n",
    "    - correctly identify category items\n",
    "    - numeric data across all tables.\n",
    "\n",
    "After completing the above tasks, merge the two datasets so it is ready for analysis.\n",
    "\n",
    "**3. Data analysis and customer segments;**\n",
    "\n",
    "    - define metrics\n",
    "    - look at total sales\n",
    "    - drivers of sales\n",
    "    - where the highest sales are coming from\n",
    "    - create charts and graphs\n",
    "    - note interesting trends and insights\n",
    "    \n",
    "**4. Deep dive into customer segments;**\n",
    "\n",
    "    - define recommendation from insights\n",
    "    - determine which segments should be targeted\n",
    "    - form overall conclusion based on analysis\n",
    "    \n",
    "**4. Save analysis**\n",
    "\n",
    "    - save analysis and visuals"
   ]
  },
  {
   "cell_type": "markdown",
   "id": "163573df",
   "metadata": {},
   "source": [
    "We will start this analysis by loading required libraries for analysis"
   ]
  },
  {
   "cell_type": "code",
   "execution_count": 1,
   "id": "51d10c76",
   "metadata": {},
   "outputs": [],
   "source": [
    "# load libriaries\n",
    "import numpy as np\n",
    "import pandas as pd\n",
    "import seaborn as sns \n",
    "import matplotlib.pyplot as plt\n",
    "%matplotlib inline"
   ]
  },
  {
   "cell_type": "code",
   "execution_count": null,
   "id": "6aa67de5",
   "metadata": {},
   "outputs": [],
   "source": []
  }
 ],
 "metadata": {
  "kernelspec": {
   "display_name": "Python 3 (ipykernel)",
   "language": "python",
   "name": "python3"
  },
  "language_info": {
   "codemirror_mode": {
    "name": "ipython",
    "version": 3
   },
   "file_extension": ".py",
   "mimetype": "text/x-python",
   "name": "python",
   "nbconvert_exporter": "python",
   "pygments_lexer": "ipython3",
   "version": "3.10.8"
  }
 },
 "nbformat": 4,
 "nbformat_minor": 5
}
