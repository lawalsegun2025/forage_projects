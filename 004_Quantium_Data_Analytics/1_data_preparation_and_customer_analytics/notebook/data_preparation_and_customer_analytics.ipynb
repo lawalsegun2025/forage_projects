{
 "cells": [
  {
   "cell_type": "markdown",
   "id": "0ecd3c0b",
   "metadata": {},
   "source": [
    "# Data Preparation and Customer Analytics\n",
    "# Task 1\n",
    "\n",
    "Conduct analysis on client's transaction dataset and identify customer purchasing behaviours to generate insights and provide commercial recommendations.\n",
    "\n",
    "## Background Information for Task\n",
    "\n",
    "We need to present a strategic recommendation to Julia that is supported by data which she can then use for the upcoming category review however to do so we need to analyse the data to understand the current purchasing trends and behaviours. The client is particularly interested in customer segments and their chip purchasing behaviour. Consider what metrics would help describe the customers’ purchasing behaviour."
   ]
  },
  {
   "cell_type": "markdown",
   "id": "0e344746",
   "metadata": {},
   "source": [
    "## Work FLow\n",
    "\n",
    "**1. Examine transaction data;** \n",
    "\n",
    "    - Look for inconsistencies\n",
    "    - missing data across the dataset\n",
    "    - outliers\n",
    "    - correctly identify category items\n",
    "    - numeric data across all tables.\n",
    "    \n",
    "    If anomalies are determined, make necessary changes and save it\n",
    "    \n",
    "**2. Examine customer data;**\n",
    "\n",
    "    - Look for inconsistencies\n",
    "    - missing data across the dataset\n",
    "    - outliers\n",
    "    - correctly identify category items\n",
    "    - numeric data across all tables.\n",
    "\n",
    "After completing the above tasks, merge the two datasets so it is ready for analysis.\n",
    "\n",
    "**3. Data analysis and customer segments;**\n",
    "\n",
    "    - define metrics\n",
    "    - look at total sales\n",
    "    - drivers of sales\n",
    "    - where the highest sales are coming from\n",
    "    - create charts and graphs\n",
    "    - note interesting trends and insights\n",
    "    \n",
    "**4. Deep dive into customer segments;**\n",
    "\n",
    "    - define recommendation from insights\n",
    "    - determine which segments should be targeted\n",
    "    - form overall conclusion based on analysis\n",
    "    \n",
    "**4. Save analysis**\n",
    "\n",
    "    - save analysis and visuals"
   ]
  },
  {
   "cell_type": "markdown",
   "id": "ac0481cf",
   "metadata": {},
   "source": [
    "We will start this analysis by loading required libraries for analysis"
   ]
  },
  {
   "cell_type": "code",
   "execution_count": 1,
   "id": "a008d14b",
   "metadata": {},
   "outputs": [],
   "source": [
    "# load libriaries\n",
    "import numpy as np\n",
    "import pandas as pd\n",
    "import seaborn as sns \n",
    "import matplotlib.pyplot as plt\n",
    "from scipy import stats\n",
    "%matplotlib inline"
   ]
  },
  {
   "cell_type": "code",
   "execution_count": 2,
   "id": "29400934",
   "metadata": {},
   "outputs": [],
   "source": [
    "# import data\n",
    "transaction_df = pd.read_csv(\"../data/QVI_transaction_data.csv\")\n",
    "customer_df = pd.read_csv(\"../data/QVI_purchase_behaviour.csv\")"
   ]
  },
  {
   "cell_type": "markdown",
   "id": "168c0e9f",
   "metadata": {},
   "source": [
    "## Exploratory Data Analysis\n",
    "\n",
    "The first step of any analysis is to first understand the data. Let's take a look at each of the dataset.\n",
    "\n",
    "### Examining transaction data"
   ]
  },
  {
   "cell_type": "code",
   "execution_count": 3,
   "id": "b21db24a",
   "metadata": {},
   "outputs": [
    {
     "data": {
      "text/html": [
       "<div>\n",
       "<style scoped>\n",
       "    .dataframe tbody tr th:only-of-type {\n",
       "        vertical-align: middle;\n",
       "    }\n",
       "\n",
       "    .dataframe tbody tr th {\n",
       "        vertical-align: top;\n",
       "    }\n",
       "\n",
       "    .dataframe thead th {\n",
       "        text-align: right;\n",
       "    }\n",
       "</style>\n",
       "<table border=\"1\" class=\"dataframe\">\n",
       "  <thead>\n",
       "    <tr style=\"text-align: right;\">\n",
       "      <th></th>\n",
       "      <th>DATE</th>\n",
       "      <th>STORE_NBR</th>\n",
       "      <th>LYLTY_CARD_NBR</th>\n",
       "      <th>TXN_ID</th>\n",
       "      <th>PROD_NBR</th>\n",
       "      <th>PROD_NAME</th>\n",
       "      <th>PROD_QTY</th>\n",
       "      <th>TOT_SALES</th>\n",
       "    </tr>\n",
       "  </thead>\n",
       "  <tbody>\n",
       "    <tr>\n",
       "      <th>0</th>\n",
       "      <td>43390</td>\n",
       "      <td>1</td>\n",
       "      <td>1000</td>\n",
       "      <td>1</td>\n",
       "      <td>5</td>\n",
       "      <td>Natural Chip        Compny SeaSalt175g</td>\n",
       "      <td>2</td>\n",
       "      <td>6.0</td>\n",
       "    </tr>\n",
       "    <tr>\n",
       "      <th>1</th>\n",
       "      <td>43599</td>\n",
       "      <td>1</td>\n",
       "      <td>1307</td>\n",
       "      <td>348</td>\n",
       "      <td>66</td>\n",
       "      <td>CCs Nacho Cheese    175g</td>\n",
       "      <td>3</td>\n",
       "      <td>6.3</td>\n",
       "    </tr>\n",
       "    <tr>\n",
       "      <th>2</th>\n",
       "      <td>43605</td>\n",
       "      <td>1</td>\n",
       "      <td>1343</td>\n",
       "      <td>383</td>\n",
       "      <td>61</td>\n",
       "      <td>Smiths Crinkle Cut  Chips Chicken 170g</td>\n",
       "      <td>2</td>\n",
       "      <td>2.9</td>\n",
       "    </tr>\n",
       "    <tr>\n",
       "      <th>3</th>\n",
       "      <td>43329</td>\n",
       "      <td>2</td>\n",
       "      <td>2373</td>\n",
       "      <td>974</td>\n",
       "      <td>69</td>\n",
       "      <td>Smiths Chip Thinly  S/Cream&amp;Onion 175g</td>\n",
       "      <td>5</td>\n",
       "      <td>15.0</td>\n",
       "    </tr>\n",
       "    <tr>\n",
       "      <th>4</th>\n",
       "      <td>43330</td>\n",
       "      <td>2</td>\n",
       "      <td>2426</td>\n",
       "      <td>1038</td>\n",
       "      <td>108</td>\n",
       "      <td>Kettle Tortilla ChpsHny&amp;Jlpno Chili 150g</td>\n",
       "      <td>3</td>\n",
       "      <td>13.8</td>\n",
       "    </tr>\n",
       "  </tbody>\n",
       "</table>\n",
       "</div>"
      ],
      "text/plain": [
       "    DATE  STORE_NBR  LYLTY_CARD_NBR  TXN_ID  PROD_NBR  \\\n",
       "0  43390          1            1000       1         5   \n",
       "1  43599          1            1307     348        66   \n",
       "2  43605          1            1343     383        61   \n",
       "3  43329          2            2373     974        69   \n",
       "4  43330          2            2426    1038       108   \n",
       "\n",
       "                                  PROD_NAME  PROD_QTY  TOT_SALES  \n",
       "0    Natural Chip        Compny SeaSalt175g         2        6.0  \n",
       "1                  CCs Nacho Cheese    175g         3        6.3  \n",
       "2    Smiths Crinkle Cut  Chips Chicken 170g         2        2.9  \n",
       "3    Smiths Chip Thinly  S/Cream&Onion 175g         5       15.0  \n",
       "4  Kettle Tortilla ChpsHny&Jlpno Chili 150g         3       13.8  "
      ]
     },
     "execution_count": 3,
     "metadata": {},
     "output_type": "execute_result"
    }
   ],
   "source": [
    "transaction_df.head()"
   ]
  },
  {
   "cell_type": "code",
   "execution_count": 4,
   "id": "fa5412e4",
   "metadata": {},
   "outputs": [
    {
     "data": {
      "text/html": [
       "<div>\n",
       "<style scoped>\n",
       "    .dataframe tbody tr th:only-of-type {\n",
       "        vertical-align: middle;\n",
       "    }\n",
       "\n",
       "    .dataframe tbody tr th {\n",
       "        vertical-align: top;\n",
       "    }\n",
       "\n",
       "    .dataframe thead th {\n",
       "        text-align: right;\n",
       "    }\n",
       "</style>\n",
       "<table border=\"1\" class=\"dataframe\">\n",
       "  <thead>\n",
       "    <tr style=\"text-align: right;\">\n",
       "      <th></th>\n",
       "      <th>DATE</th>\n",
       "      <th>STORE_NBR</th>\n",
       "      <th>LYLTY_CARD_NBR</th>\n",
       "      <th>TXN_ID</th>\n",
       "      <th>PROD_NBR</th>\n",
       "      <th>PROD_QTY</th>\n",
       "      <th>TOT_SALES</th>\n",
       "    </tr>\n",
       "  </thead>\n",
       "  <tbody>\n",
       "    <tr>\n",
       "      <th>count</th>\n",
       "      <td>264836.000000</td>\n",
       "      <td>264836.00000</td>\n",
       "      <td>2.648360e+05</td>\n",
       "      <td>2.648360e+05</td>\n",
       "      <td>264836.000000</td>\n",
       "      <td>264836.000000</td>\n",
       "      <td>264836.000000</td>\n",
       "    </tr>\n",
       "    <tr>\n",
       "      <th>mean</th>\n",
       "      <td>43464.036260</td>\n",
       "      <td>135.08011</td>\n",
       "      <td>1.355495e+05</td>\n",
       "      <td>1.351583e+05</td>\n",
       "      <td>56.583157</td>\n",
       "      <td>1.907309</td>\n",
       "      <td>7.304200</td>\n",
       "    </tr>\n",
       "    <tr>\n",
       "      <th>std</th>\n",
       "      <td>105.389282</td>\n",
       "      <td>76.78418</td>\n",
       "      <td>8.057998e+04</td>\n",
       "      <td>7.813303e+04</td>\n",
       "      <td>32.826638</td>\n",
       "      <td>0.643654</td>\n",
       "      <td>3.083226</td>\n",
       "    </tr>\n",
       "    <tr>\n",
       "      <th>min</th>\n",
       "      <td>43282.000000</td>\n",
       "      <td>1.00000</td>\n",
       "      <td>1.000000e+03</td>\n",
       "      <td>1.000000e+00</td>\n",
       "      <td>1.000000</td>\n",
       "      <td>1.000000</td>\n",
       "      <td>1.500000</td>\n",
       "    </tr>\n",
       "    <tr>\n",
       "      <th>25%</th>\n",
       "      <td>43373.000000</td>\n",
       "      <td>70.00000</td>\n",
       "      <td>7.002100e+04</td>\n",
       "      <td>6.760150e+04</td>\n",
       "      <td>28.000000</td>\n",
       "      <td>2.000000</td>\n",
       "      <td>5.400000</td>\n",
       "    </tr>\n",
       "    <tr>\n",
       "      <th>50%</th>\n",
       "      <td>43464.000000</td>\n",
       "      <td>130.00000</td>\n",
       "      <td>1.303575e+05</td>\n",
       "      <td>1.351375e+05</td>\n",
       "      <td>56.000000</td>\n",
       "      <td>2.000000</td>\n",
       "      <td>7.400000</td>\n",
       "    </tr>\n",
       "    <tr>\n",
       "      <th>75%</th>\n",
       "      <td>43555.000000</td>\n",
       "      <td>203.00000</td>\n",
       "      <td>2.030942e+05</td>\n",
       "      <td>2.027012e+05</td>\n",
       "      <td>85.000000</td>\n",
       "      <td>2.000000</td>\n",
       "      <td>9.200000</td>\n",
       "    </tr>\n",
       "    <tr>\n",
       "      <th>max</th>\n",
       "      <td>43646.000000</td>\n",
       "      <td>272.00000</td>\n",
       "      <td>2.373711e+06</td>\n",
       "      <td>2.415841e+06</td>\n",
       "      <td>114.000000</td>\n",
       "      <td>200.000000</td>\n",
       "      <td>650.000000</td>\n",
       "    </tr>\n",
       "  </tbody>\n",
       "</table>\n",
       "</div>"
      ],
      "text/plain": [
       "                DATE     STORE_NBR  LYLTY_CARD_NBR        TXN_ID  \\\n",
       "count  264836.000000  264836.00000    2.648360e+05  2.648360e+05   \n",
       "mean    43464.036260     135.08011    1.355495e+05  1.351583e+05   \n",
       "std       105.389282      76.78418    8.057998e+04  7.813303e+04   \n",
       "min     43282.000000       1.00000    1.000000e+03  1.000000e+00   \n",
       "25%     43373.000000      70.00000    7.002100e+04  6.760150e+04   \n",
       "50%     43464.000000     130.00000    1.303575e+05  1.351375e+05   \n",
       "75%     43555.000000     203.00000    2.030942e+05  2.027012e+05   \n",
       "max     43646.000000     272.00000    2.373711e+06  2.415841e+06   \n",
       "\n",
       "            PROD_NBR       PROD_QTY      TOT_SALES  \n",
       "count  264836.000000  264836.000000  264836.000000  \n",
       "mean       56.583157       1.907309       7.304200  \n",
       "std        32.826638       0.643654       3.083226  \n",
       "min         1.000000       1.000000       1.500000  \n",
       "25%        28.000000       2.000000       5.400000  \n",
       "50%        56.000000       2.000000       7.400000  \n",
       "75%        85.000000       2.000000       9.200000  \n",
       "max       114.000000     200.000000     650.000000  "
      ]
     },
     "execution_count": 4,
     "metadata": {},
     "output_type": "execute_result"
    }
   ],
   "source": [
    "transaction_df.describe()"
   ]
  },
  {
   "cell_type": "code",
   "execution_count": 5,
   "id": "73920d5a",
   "metadata": {},
   "outputs": [
    {
     "data": {
      "text/html": [
       "<div>\n",
       "<style scoped>\n",
       "    .dataframe tbody tr th:only-of-type {\n",
       "        vertical-align: middle;\n",
       "    }\n",
       "\n",
       "    .dataframe tbody tr th {\n",
       "        vertical-align: top;\n",
       "    }\n",
       "\n",
       "    .dataframe thead th {\n",
       "        text-align: right;\n",
       "    }\n",
       "</style>\n",
       "<table border=\"1\" class=\"dataframe\">\n",
       "  <thead>\n",
       "    <tr style=\"text-align: right;\">\n",
       "      <th></th>\n",
       "      <th>LYLTY_CARD_NBR</th>\n",
       "      <th>LIFESTAGE</th>\n",
       "      <th>PREMIUM_CUSTOMER</th>\n",
       "    </tr>\n",
       "  </thead>\n",
       "  <tbody>\n",
       "    <tr>\n",
       "      <th>0</th>\n",
       "      <td>1000</td>\n",
       "      <td>YOUNG SINGLES/COUPLES</td>\n",
       "      <td>Premium</td>\n",
       "    </tr>\n",
       "    <tr>\n",
       "      <th>1</th>\n",
       "      <td>1002</td>\n",
       "      <td>YOUNG SINGLES/COUPLES</td>\n",
       "      <td>Mainstream</td>\n",
       "    </tr>\n",
       "    <tr>\n",
       "      <th>2</th>\n",
       "      <td>1003</td>\n",
       "      <td>YOUNG FAMILIES</td>\n",
       "      <td>Budget</td>\n",
       "    </tr>\n",
       "    <tr>\n",
       "      <th>3</th>\n",
       "      <td>1004</td>\n",
       "      <td>OLDER SINGLES/COUPLES</td>\n",
       "      <td>Mainstream</td>\n",
       "    </tr>\n",
       "    <tr>\n",
       "      <th>4</th>\n",
       "      <td>1005</td>\n",
       "      <td>MIDAGE SINGLES/COUPLES</td>\n",
       "      <td>Mainstream</td>\n",
       "    </tr>\n",
       "  </tbody>\n",
       "</table>\n",
       "</div>"
      ],
      "text/plain": [
       "   LYLTY_CARD_NBR               LIFESTAGE PREMIUM_CUSTOMER\n",
       "0            1000   YOUNG SINGLES/COUPLES          Premium\n",
       "1            1002   YOUNG SINGLES/COUPLES       Mainstream\n",
       "2            1003          YOUNG FAMILIES           Budget\n",
       "3            1004   OLDER SINGLES/COUPLES       Mainstream\n",
       "4            1005  MIDAGE SINGLES/COUPLES       Mainstream"
      ]
     },
     "execution_count": 5,
     "metadata": {},
     "output_type": "execute_result"
    }
   ],
   "source": [
    "customer_df.head()"
   ]
  },
  {
   "cell_type": "code",
   "execution_count": 6,
   "id": "b601d269",
   "metadata": {},
   "outputs": [
    {
     "data": {
      "text/html": [
       "<div>\n",
       "<style scoped>\n",
       "    .dataframe tbody tr th:only-of-type {\n",
       "        vertical-align: middle;\n",
       "    }\n",
       "\n",
       "    .dataframe tbody tr th {\n",
       "        vertical-align: top;\n",
       "    }\n",
       "\n",
       "    .dataframe thead th {\n",
       "        text-align: right;\n",
       "    }\n",
       "</style>\n",
       "<table border=\"1\" class=\"dataframe\">\n",
       "  <thead>\n",
       "    <tr style=\"text-align: right;\">\n",
       "      <th></th>\n",
       "      <th>LYLTY_CARD_NBR</th>\n",
       "    </tr>\n",
       "  </thead>\n",
       "  <tbody>\n",
       "    <tr>\n",
       "      <th>count</th>\n",
       "      <td>7.263700e+04</td>\n",
       "    </tr>\n",
       "    <tr>\n",
       "      <th>mean</th>\n",
       "      <td>1.361859e+05</td>\n",
       "    </tr>\n",
       "    <tr>\n",
       "      <th>std</th>\n",
       "      <td>8.989293e+04</td>\n",
       "    </tr>\n",
       "    <tr>\n",
       "      <th>min</th>\n",
       "      <td>1.000000e+03</td>\n",
       "    </tr>\n",
       "    <tr>\n",
       "      <th>25%</th>\n",
       "      <td>6.620200e+04</td>\n",
       "    </tr>\n",
       "    <tr>\n",
       "      <th>50%</th>\n",
       "      <td>1.340400e+05</td>\n",
       "    </tr>\n",
       "    <tr>\n",
       "      <th>75%</th>\n",
       "      <td>2.033750e+05</td>\n",
       "    </tr>\n",
       "    <tr>\n",
       "      <th>max</th>\n",
       "      <td>2.373711e+06</td>\n",
       "    </tr>\n",
       "  </tbody>\n",
       "</table>\n",
       "</div>"
      ],
      "text/plain": [
       "       LYLTY_CARD_NBR\n",
       "count    7.263700e+04\n",
       "mean     1.361859e+05\n",
       "std      8.989293e+04\n",
       "min      1.000000e+03\n",
       "25%      6.620200e+04\n",
       "50%      1.340400e+05\n",
       "75%      2.033750e+05\n",
       "max      2.373711e+06"
      ]
     },
     "execution_count": 6,
     "metadata": {},
     "output_type": "execute_result"
    }
   ],
   "source": [
    "customer_df.describe()"
   ]
  },
  {
   "cell_type": "code",
   "execution_count": 7,
   "id": "c42025eb",
   "metadata": {},
   "outputs": [
    {
     "data": {
      "text/plain": [
       "DATE              0\n",
       "STORE_NBR         0\n",
       "LYLTY_CARD_NBR    0\n",
       "TXN_ID            0\n",
       "PROD_NBR          0\n",
       "PROD_NAME         0\n",
       "PROD_QTY          0\n",
       "TOT_SALES         0\n",
       "dtype: int64"
      ]
     },
     "execution_count": 7,
     "metadata": {},
     "output_type": "execute_result"
    }
   ],
   "source": [
    "# check for null values in the two data sets\n",
    "transaction_df.isnull().sum()"
   ]
  },
  {
   "cell_type": "code",
   "execution_count": 8,
   "id": "d6c38f2b",
   "metadata": {},
   "outputs": [
    {
     "data": {
      "text/plain": [
       "LYLTY_CARD_NBR      0\n",
       "LIFESTAGE           0\n",
       "PREMIUM_CUSTOMER    0\n",
       "dtype: int64"
      ]
     },
     "execution_count": 8,
     "metadata": {},
     "output_type": "execute_result"
    }
   ],
   "source": [
    "customer_df.isna().sum()"
   ]
  },
  {
   "cell_type": "markdown",
   "id": "2733ff28",
   "metadata": {},
   "source": [
    "We can see that there are no missing values in the two data sets."
   ]
  },
  {
   "cell_type": "markdown",
   "id": "3bde58cc",
   "metadata": {},
   "source": [
    "**Merge the two datasets**"
   ]
  },
  {
   "cell_type": "code",
   "execution_count": 9,
   "id": "7ce95423",
   "metadata": {},
   "outputs": [
    {
     "data": {
      "text/html": [
       "<div>\n",
       "<style scoped>\n",
       "    .dataframe tbody tr th:only-of-type {\n",
       "        vertical-align: middle;\n",
       "    }\n",
       "\n",
       "    .dataframe tbody tr th {\n",
       "        vertical-align: top;\n",
       "    }\n",
       "\n",
       "    .dataframe thead th {\n",
       "        text-align: right;\n",
       "    }\n",
       "</style>\n",
       "<table border=\"1\" class=\"dataframe\">\n",
       "  <thead>\n",
       "    <tr style=\"text-align: right;\">\n",
       "      <th></th>\n",
       "      <th>LYLTY_CARD_NBR</th>\n",
       "      <th>LIFESTAGE</th>\n",
       "      <th>PREMIUM_CUSTOMER</th>\n",
       "      <th>DATE</th>\n",
       "      <th>STORE_NBR</th>\n",
       "      <th>TXN_ID</th>\n",
       "      <th>PROD_NBR</th>\n",
       "      <th>PROD_NAME</th>\n",
       "      <th>PROD_QTY</th>\n",
       "      <th>TOT_SALES</th>\n",
       "    </tr>\n",
       "  </thead>\n",
       "  <tbody>\n",
       "    <tr>\n",
       "      <th>0</th>\n",
       "      <td>1000</td>\n",
       "      <td>YOUNG SINGLES/COUPLES</td>\n",
       "      <td>Premium</td>\n",
       "      <td>43390</td>\n",
       "      <td>1</td>\n",
       "      <td>1</td>\n",
       "      <td>5</td>\n",
       "      <td>Natural Chip        Compny SeaSalt175g</td>\n",
       "      <td>2</td>\n",
       "      <td>6.0</td>\n",
       "    </tr>\n",
       "    <tr>\n",
       "      <th>1</th>\n",
       "      <td>1307</td>\n",
       "      <td>MIDAGE SINGLES/COUPLES</td>\n",
       "      <td>Budget</td>\n",
       "      <td>43599</td>\n",
       "      <td>1</td>\n",
       "      <td>348</td>\n",
       "      <td>66</td>\n",
       "      <td>CCs Nacho Cheese    175g</td>\n",
       "      <td>3</td>\n",
       "      <td>6.3</td>\n",
       "    </tr>\n",
       "    <tr>\n",
       "      <th>2</th>\n",
       "      <td>1343</td>\n",
       "      <td>MIDAGE SINGLES/COUPLES</td>\n",
       "      <td>Budget</td>\n",
       "      <td>43605</td>\n",
       "      <td>1</td>\n",
       "      <td>383</td>\n",
       "      <td>61</td>\n",
       "      <td>Smiths Crinkle Cut  Chips Chicken 170g</td>\n",
       "      <td>2</td>\n",
       "      <td>2.9</td>\n",
       "    </tr>\n",
       "    <tr>\n",
       "      <th>3</th>\n",
       "      <td>2373</td>\n",
       "      <td>MIDAGE SINGLES/COUPLES</td>\n",
       "      <td>Budget</td>\n",
       "      <td>43329</td>\n",
       "      <td>2</td>\n",
       "      <td>974</td>\n",
       "      <td>69</td>\n",
       "      <td>Smiths Chip Thinly  S/Cream&amp;Onion 175g</td>\n",
       "      <td>5</td>\n",
       "      <td>15.0</td>\n",
       "    </tr>\n",
       "    <tr>\n",
       "      <th>4</th>\n",
       "      <td>2426</td>\n",
       "      <td>MIDAGE SINGLES/COUPLES</td>\n",
       "      <td>Budget</td>\n",
       "      <td>43330</td>\n",
       "      <td>2</td>\n",
       "      <td>1038</td>\n",
       "      <td>108</td>\n",
       "      <td>Kettle Tortilla ChpsHny&amp;Jlpno Chili 150g</td>\n",
       "      <td>3</td>\n",
       "      <td>13.8</td>\n",
       "    </tr>\n",
       "  </tbody>\n",
       "</table>\n",
       "</div>"
      ],
      "text/plain": [
       "   LYLTY_CARD_NBR               LIFESTAGE PREMIUM_CUSTOMER   DATE  STORE_NBR  \\\n",
       "0            1000   YOUNG SINGLES/COUPLES          Premium  43390          1   \n",
       "1            1307  MIDAGE SINGLES/COUPLES           Budget  43599          1   \n",
       "2            1343  MIDAGE SINGLES/COUPLES           Budget  43605          1   \n",
       "3            2373  MIDAGE SINGLES/COUPLES           Budget  43329          2   \n",
       "4            2426  MIDAGE SINGLES/COUPLES           Budget  43330          2   \n",
       "\n",
       "   TXN_ID  PROD_NBR                                 PROD_NAME  PROD_QTY  \\\n",
       "0       1         5    Natural Chip        Compny SeaSalt175g         2   \n",
       "1     348        66                  CCs Nacho Cheese    175g         3   \n",
       "2     383        61    Smiths Crinkle Cut  Chips Chicken 170g         2   \n",
       "3     974        69    Smiths Chip Thinly  S/Cream&Onion 175g         5   \n",
       "4    1038       108  Kettle Tortilla ChpsHny&Jlpno Chili 150g         3   \n",
       "\n",
       "   TOT_SALES  \n",
       "0        6.0  \n",
       "1        6.3  \n",
       "2        2.9  \n",
       "3       15.0  \n",
       "4       13.8  "
      ]
     },
     "execution_count": 9,
     "metadata": {},
     "output_type": "execute_result"
    }
   ],
   "source": [
    "merged_df = pd.merge(customer_df, \n",
    "                       transaction_df, \n",
    "                      on=\"LYLTY_CARD_NBR\", \n",
    "                      how=\"right\")\n",
    "\n",
    "merged_df.head()"
   ]
  },
  {
   "cell_type": "code",
   "execution_count": 10,
   "id": "649c7b9f",
   "metadata": {},
   "outputs": [
    {
     "name": "stdout",
     "output_type": "stream",
     "text": [
      "264836\n",
      "264836\n"
     ]
    }
   ],
   "source": [
    "# check the length of the dataset\n",
    "print(len(merged_df))\n",
    "print(len(transaction_df))"
   ]
  },
  {
   "cell_type": "code",
   "execution_count": 11,
   "id": "0a385bb4",
   "metadata": {},
   "outputs": [
    {
     "name": "stdout",
     "output_type": "stream",
     "text": [
      "<class 'pandas.core.frame.DataFrame'>\n",
      "Int64Index: 264836 entries, 0 to 264835\n",
      "Data columns (total 10 columns):\n",
      " #   Column            Non-Null Count   Dtype  \n",
      "---  ------            --------------   -----  \n",
      " 0   LYLTY_CARD_NBR    264836 non-null  int64  \n",
      " 1   LIFESTAGE         264836 non-null  object \n",
      " 2   PREMIUM_CUSTOMER  264836 non-null  object \n",
      " 3   DATE              264836 non-null  int64  \n",
      " 4   STORE_NBR         264836 non-null  int64  \n",
      " 5   TXN_ID            264836 non-null  int64  \n",
      " 6   PROD_NBR          264836 non-null  int64  \n",
      " 7   PROD_NAME         264836 non-null  object \n",
      " 8   PROD_QTY          264836 non-null  int64  \n",
      " 9   TOT_SALES         264836 non-null  float64\n",
      "dtypes: float64(1), int64(6), object(3)\n",
      "memory usage: 22.2+ MB\n"
     ]
    }
   ],
   "source": [
    "# get the infor about merged_df\n",
    "merged_df.info()"
   ]
  },
  {
   "cell_type": "markdown",
   "id": "f0e09caf",
   "metadata": {},
   "source": [
    "We can observe that the `DATE` column is in int64 data type instead of datetime format.\n",
    "\n",
    "\n",
    "**Convert `DATE` column to date time format**"
   ]
  },
  {
   "cell_type": "code",
   "execution_count": null,
   "id": "d95e37b7",
   "metadata": {},
   "outputs": [],
   "source": [
    "# from datetime import date, timedelta\n",
    "# start = date(1899, 12, 30)\n",
    "# new_date_format = []\n",
    "# for date in merged_data[\"DATE\"]:\n",
    "#   delta = timedelta(date)\n",
    "#   new_date_format.append(start + delta)\n",
    "     \n",
    "\n",
    "\n",
    "# merged_data[\"DATE\"] = pd.to_datetime(pd.Series(new_date_format))\n",
    "# print(merged_data[\"DATE\"].dtype)\n",
    "     "
   ]
  },
  {
   "cell_type": "code",
   "execution_count": 22,
   "id": "6569b0aa",
   "metadata": {},
   "outputs": [
    {
     "data": {
      "text/plain": [
       "datetime.date(1899, 12, 30)"
      ]
     },
     "execution_count": 22,
     "metadata": {},
     "output_type": "execute_result"
    }
   ],
   "source": [
    "from datetime import date, timedelta\n",
    "\n",
    "start = date(1899, 12, 30)\n",
    "start"
   ]
  },
  {
   "cell_type": "code",
   "execution_count": 27,
   "id": "a56e3cf3",
   "metadata": {},
   "outputs": [],
   "source": [
    "# add the date to the start date\n",
    "merged_df[\"DATE\"] = pd.to_datetime(merged_df[\"DATE\"].apply(lambda x: start + (timedelta(x))))"
   ]
  },
  {
   "cell_type": "code",
   "execution_count": 28,
   "id": "e014e796",
   "metadata": {},
   "outputs": [
    {
     "name": "stdout",
     "output_type": "stream",
     "text": [
      "<class 'pandas.core.frame.DataFrame'>\n",
      "Int64Index: 264836 entries, 0 to 264835\n",
      "Data columns (total 10 columns):\n",
      " #   Column            Non-Null Count   Dtype         \n",
      "---  ------            --------------   -----         \n",
      " 0   LYLTY_CARD_NBR    264836 non-null  int64         \n",
      " 1   LIFESTAGE         264836 non-null  object        \n",
      " 2   PREMIUM_CUSTOMER  264836 non-null  object        \n",
      " 3   DATE              264836 non-null  datetime64[ns]\n",
      " 4   STORE_NBR         264836 non-null  int64         \n",
      " 5   TXN_ID            264836 non-null  int64         \n",
      " 6   PROD_NBR          264836 non-null  int64         \n",
      " 7   PROD_NAME         264836 non-null  object        \n",
      " 8   PROD_QTY          264836 non-null  int64         \n",
      " 9   TOT_SALES         264836 non-null  float64       \n",
      "dtypes: datetime64[ns](1), float64(1), int64(5), object(3)\n",
      "memory usage: 30.3+ MB\n"
     ]
    }
   ],
   "source": [
    "merged_df.info()"
   ]
  },
  {
   "cell_type": "markdown",
   "id": "b2ff4a51",
   "metadata": {},
   "source": [
    "We can see that the `DATE` Column is now in datetime format."
   ]
  },
  {
   "cell_type": "markdown",
   "id": "30f6d8ed",
   "metadata": {},
   "source": [
    "**Check the product name column and make sure all products are Chipes**"
   ]
  },
  {
   "cell_type": "code",
   "execution_count": 29,
   "id": "b12c38d5",
   "metadata": {},
   "outputs": [
    {
     "data": {
      "text/plain": [
       "array(['Natural Chip        Compny SeaSalt175g',\n",
       "       'CCs Nacho Cheese    175g',\n",
       "       'Smiths Crinkle Cut  Chips Chicken 170g',\n",
       "       'Smiths Chip Thinly  S/Cream&Onion 175g',\n",
       "       'Kettle Tortilla ChpsHny&Jlpno Chili 150g',\n",
       "       'Old El Paso Salsa   Dip Tomato Mild 300g',\n",
       "       'Smiths Crinkle Chips Salt & Vinegar 330g',\n",
       "       'Grain Waves         Sweet Chilli 210g',\n",
       "       'Doritos Corn Chip Mexican Jalapeno 150g',\n",
       "       'Grain Waves Sour    Cream&Chives 210G',\n",
       "       'Kettle Sensations   Siracha Lime 150g',\n",
       "       'Twisties Cheese     270g', 'WW Crinkle Cut      Chicken 175g',\n",
       "       'Thins Chips Light&  Tangy 175g', 'CCs Original 175g',\n",
       "       'Burger Rings 220g', 'NCC Sour Cream &    Garden Chives 175g',\n",
       "       'Doritos Corn Chip Southern Chicken 150g',\n",
       "       'Cheezels Cheese Box 125g', 'Smiths Crinkle      Original 330g',\n",
       "       'Infzns Crn Crnchers Tangy Gcamole 110g',\n",
       "       'Kettle Sea Salt     And Vinegar 175g',\n",
       "       'Smiths Chip Thinly  Cut Original 175g', 'Kettle Original 175g',\n",
       "       'Red Rock Deli Thai  Chilli&Lime 150g',\n",
       "       'Pringles Sthrn FriedChicken 134g', 'Pringles Sweet&Spcy BBQ 134g',\n",
       "       'Red Rock Deli SR    Salsa & Mzzrlla 150g',\n",
       "       'Thins Chips         Originl saltd 175g',\n",
       "       'Red Rock Deli Sp    Salt & Truffle 150G',\n",
       "       'Smiths Thinly       Swt Chli&S/Cream175G', 'Kettle Chilli 175g',\n",
       "       'Doritos Mexicana    170g',\n",
       "       'Smiths Crinkle Cut  French OnionDip 150g',\n",
       "       'Natural ChipCo      Hony Soy Chckn175g',\n",
       "       'Dorito Corn Chp     Supreme 380g', 'Twisties Chicken270g',\n",
       "       'Smiths Thinly Cut   Roast Chicken 175g',\n",
       "       'Smiths Crinkle Cut  Tomato Salsa 150g',\n",
       "       'Kettle Mozzarella   Basil & Pesto 175g',\n",
       "       'Infuzions Thai SweetChili PotatoMix 110g',\n",
       "       'Kettle Sensations   Camembert & Fig 150g',\n",
       "       'Smith Crinkle Cut   Mac N Cheese 150g',\n",
       "       'Kettle Honey Soy    Chicken 175g',\n",
       "       'Thins Chips Seasonedchicken 175g',\n",
       "       'Smiths Crinkle Cut  Salt & Vinegar 170g',\n",
       "       'Infuzions BBQ Rib   Prawn Crackers 110g',\n",
       "       'GrnWves Plus Btroot & Chilli Jam 180g',\n",
       "       'Tyrrells Crisps     Lightly Salted 165g',\n",
       "       'Kettle Sweet Chilli And Sour Cream 175g',\n",
       "       'Doritos Salsa       Medium 300g', 'Kettle 135g Swt Pot Sea Salt',\n",
       "       'Pringles SourCream  Onion 134g',\n",
       "       'Doritos Corn Chips  Original 170g',\n",
       "       'Twisties Cheese     Burger 250g',\n",
       "       'Old El Paso Salsa   Dip Chnky Tom Ht300g',\n",
       "       'Cobs Popd Swt/Chlli &Sr/Cream Chips 110g',\n",
       "       'Woolworths Mild     Salsa 300g',\n",
       "       'Natural Chip Co     Tmato Hrb&Spce 175g',\n",
       "       'Smiths Crinkle Cut  Chips Original 170g',\n",
       "       'Cobs Popd Sea Salt  Chips 110g',\n",
       "       'Smiths Crinkle Cut  Chips Chs&Onion170g',\n",
       "       'French Fries Potato Chips 175g',\n",
       "       'Old El Paso Salsa   Dip Tomato Med 300g',\n",
       "       'Doritos Corn Chips  Cheese Supreme 170g',\n",
       "       'Pringles Original   Crisps 134g',\n",
       "       'RRD Chilli&         Coconut 150g',\n",
       "       'WW Original Corn    Chips 200g',\n",
       "       'Thins Potato Chips  Hot & Spicy 175g',\n",
       "       'Cobs Popd Sour Crm  &Chives Chips 110g',\n",
       "       'Smiths Crnkle Chip  Orgnl Big Bag 380g',\n",
       "       'Doritos Corn Chips  Nacho Cheese 170g',\n",
       "       'Kettle Sensations   BBQ&Maple 150g',\n",
       "       'WW D/Style Chip     Sea Salt 200g',\n",
       "       'Pringles Chicken    Salt Crips 134g',\n",
       "       'WW Original Stacked Chips 160g',\n",
       "       'Smiths Chip Thinly  CutSalt/Vinegr175g', 'Cheezels Cheese 330g',\n",
       "       'Tostitos Lightly    Salted 175g',\n",
       "       'Thins Chips Salt &  Vinegar 175g',\n",
       "       'Smiths Crinkle Cut  Chips Barbecue 170g', 'Cheetos Puffs 165g',\n",
       "       'RRD Sweet Chilli &  Sour Cream 165g',\n",
       "       'WW Crinkle Cut      Original 175g',\n",
       "       'Tostitos Splash Of  Lime 175g', 'Woolworths Medium   Salsa 300g',\n",
       "       'Kettle Tortilla ChpsBtroot&Ricotta 150g',\n",
       "       'CCs Tasty Cheese    175g', 'Woolworths Cheese   Rings 190g',\n",
       "       'Tostitos Smoked     Chipotle 175g', 'Pringles Barbeque   134g',\n",
       "       'WW Supreme Cheese   Corn Chips 200g',\n",
       "       'Pringles Mystery    Flavour 134g',\n",
       "       'Tyrrells Crisps     Ched & Chives 165g',\n",
       "       'Snbts Whlgrn Crisps Cheddr&Mstrd 90g',\n",
       "       'Cheetos Chs & Bacon Balls 190g', 'Pringles Slt Vingar 134g',\n",
       "       'Infuzions SourCream&Herbs Veg Strws 110g',\n",
       "       'Kettle Tortilla ChpsFeta&Garlic 150g',\n",
       "       'Infuzions Mango     Chutny Papadums 70g',\n",
       "       'RRD Steak &         Chimuchurri 150g',\n",
       "       'RRD Honey Soy       Chicken 165g',\n",
       "       'Sunbites Whlegrn    Crisps Frch/Onin 90g',\n",
       "       'RRD Salt & Vinegar  165g', 'Doritos Cheese      Supreme 330g',\n",
       "       'Smiths Crinkle Cut  Snag&Sauce 150g',\n",
       "       'WW Sour Cream &OnionStacked Chips 160g',\n",
       "       'RRD Lime & Pepper   165g',\n",
       "       'Natural ChipCo Sea  Salt & Vinegr 175g',\n",
       "       'Red Rock Deli Chikn&Garlic Aioli 150g',\n",
       "       'RRD SR Slow Rst     Pork Belly 150g', 'RRD Pc Sea Salt     165g',\n",
       "       'Smith Crinkle Cut   Bolognese 150g', 'Doritos Salsa Mild  300g'],\n",
       "      dtype=object)"
      ]
     },
     "execution_count": 29,
     "metadata": {},
     "output_type": "execute_result"
    }
   ],
   "source": [
    "merged_df[\"PROD_NAME\"].unique()"
   ]
  },
  {
   "cell_type": "code",
   "execution_count": 30,
   "id": "e6fb2ec2",
   "metadata": {},
   "outputs": [
    {
     "data": {
      "text/plain": [
       "0           Natural Chip        Compny SeaSalt175g\n",
       "1                         CCs Nacho Cheese    175g\n",
       "2           Smiths Crinkle Cut  Chips Chicken 170g\n",
       "3           Smiths Chip Thinly  S/Cream&Onion 175g\n",
       "4         Kettle Tortilla ChpsHny&Jlpno Chili 150g\n",
       "                            ...                   \n",
       "264831     Kettle Sweet Chilli And Sour Cream 175g\n",
       "264832               Tostitos Splash Of  Lime 175g\n",
       "264833                    Doritos Mexicana    170g\n",
       "264834     Doritos Corn Chip Mexican Jalapeno 150g\n",
       "264835               Tostitos Splash Of  Lime 175g\n",
       "Name: PROD_NAME, Length: 264836, dtype: object"
      ]
     },
     "execution_count": 30,
     "metadata": {},
     "output_type": "execute_result"
    }
   ],
   "source": [
    "merged_df[\"PROD_NAME\"]"
   ]
  },
  {
   "cell_type": "code",
   "execution_count": null,
   "id": "f1e18aca",
   "metadata": {},
   "outputs": [],
   "source": []
  },
  {
   "cell_type": "code",
   "execution_count": 33,
   "id": "f6a8356b",
   "metadata": {},
   "outputs": [
    {
     "data": {
      "text/plain": [
       "0                  [Natural, Chip, Compny, SeaSalt]\n",
       "1                              [CCs, Nacho, Cheese]\n",
       "2            [Smiths, Crinkle, Cut, Chips, Chicken]\n",
       "3           [Smiths, Chip, Thinly, S, Cream, Onion]\n",
       "4         [Kettle, Tortilla, ChpsHny, Jlpno, Chili]\n",
       "                            ...                    \n",
       "264831    [Kettle, Sweet, Chilli, And, Sour, Cream]\n",
       "264832                 [Tostitos, Splash, Of, Lime]\n",
       "264833                          [Doritos, Mexicana]\n",
       "264834     [Doritos, Corn, Chip, Mexican, Jalapeno]\n",
       "264835                 [Tostitos, Splash, Of, Lime]\n",
       "Name: PROD_NAME, Length: 264836, dtype: object"
      ]
     },
     "execution_count": 33,
     "metadata": {},
     "output_type": "execute_result"
    }
   ],
   "source": [
    "split_prods = merged_df[\"PROD_NAME\"].str.replace(r'([0-9]+[gG])','', regex=True).str.replace(r'[^\\w]',' ', regex=True).str.split()\n",
    "     \n",
    "split_prods"
   ]
  },
  {
   "cell_type": "code",
   "execution_count": 34,
   "id": "563b5193",
   "metadata": {},
   "outputs": [
    {
     "name": "stdout",
     "output_type": "stream",
     "text": [
      "Chips       49770\n",
      "Kettle      41288\n",
      "Smiths      28860\n",
      "Salt        27976\n",
      "Cheese      27890\n",
      "            ...  \n",
      "Sunbites     1432\n",
      "Pc           1431\n",
      "Garden       1419\n",
      "NCC          1419\n",
      "Fries        1418\n",
      "Length: 198, dtype: int64\n"
     ]
    }
   ],
   "source": [
    "word_counts = {}\n",
    "def count_words(line):\n",
    "  for word in line:\n",
    "    if word not in word_counts:\n",
    "      word_counts[word] = 1\n",
    "    else:\n",
    "      word_counts[word] += 1\n",
    "    \n",
    "split_prods.apply(lambda line: count_words(line))\n",
    "print(pd.Series(word_counts).sort_values(ascending = False))\n",
    "     "
   ]
  },
  {
   "cell_type": "code",
   "execution_count": 36,
   "id": "2fbc600d",
   "metadata": {},
   "outputs": [
    {
     "name": "stdout",
     "output_type": "stream",
     "text": [
      "       LYLTY_CARD_NBR     STORE_NBR        TXN_ID       PROD_NBR  \\\n",
      "count    2.648360e+05  264836.00000  2.648360e+05  264836.000000   \n",
      "mean     1.355495e+05     135.08011  1.351583e+05      56.583157   \n",
      "std      8.057998e+04      76.78418  7.813303e+04      32.826638   \n",
      "min      1.000000e+03       1.00000  1.000000e+00       1.000000   \n",
      "25%      7.002100e+04      70.00000  6.760150e+04      28.000000   \n",
      "50%      1.303575e+05     130.00000  1.351375e+05      56.000000   \n",
      "75%      2.030942e+05     203.00000  2.027012e+05      85.000000   \n",
      "max      2.373711e+06     272.00000  2.415841e+06     114.000000   \n",
      "\n",
      "            PROD_QTY      TOT_SALES  \n",
      "count  264836.000000  264836.000000  \n",
      "mean        1.907309       7.304200  \n",
      "std         0.643654       3.083226  \n",
      "min         1.000000       1.500000  \n",
      "25%         2.000000       5.400000  \n",
      "50%         2.000000       7.400000  \n",
      "75%         2.000000       9.200000  \n",
      "max       200.000000     650.000000   \n",
      "\n",
      "<class 'pandas.core.frame.DataFrame'>\n",
      "Int64Index: 264836 entries, 0 to 264835\n",
      "Data columns (total 10 columns):\n",
      " #   Column            Non-Null Count   Dtype         \n",
      "---  ------            --------------   -----         \n",
      " 0   LYLTY_CARD_NBR    264836 non-null  int64         \n",
      " 1   LIFESTAGE         264836 non-null  object        \n",
      " 2   PREMIUM_CUSTOMER  264836 non-null  object        \n",
      " 3   DATE              264836 non-null  datetime64[ns]\n",
      " 4   STORE_NBR         264836 non-null  int64         \n",
      " 5   TXN_ID            264836 non-null  int64         \n",
      " 6   PROD_NBR          264836 non-null  int64         \n",
      " 7   PROD_NAME         264836 non-null  object        \n",
      " 8   PROD_QTY          264836 non-null  int64         \n",
      " 9   TOT_SALES         264836 non-null  float64       \n",
      "dtypes: datetime64[ns](1), float64(1), int64(5), object(3)\n",
      "memory usage: 30.3+ MB\n",
      "None\n"
     ]
    }
   ],
   "source": [
    "print(merged_df.describe(), '\\n')\n",
    "print(merged_df.info())"
   ]
  },
  {
   "cell_type": "code",
   "execution_count": 43,
   "id": "3937e42b",
   "metadata": {},
   "outputs": [
    {
     "data": {
      "text/plain": [
       "2      236039\n",
       "1       27518\n",
       "5         450\n",
       "3         430\n",
       "4         397\n",
       "200         2\n",
       "Name: PROD_QTY, dtype: int64"
      ]
     },
     "execution_count": 43,
     "metadata": {},
     "output_type": "execute_result"
    }
   ],
   "source": [
    "merged_df[\"PROD_QTY\"].value_counts()"
   ]
  },
  {
   "cell_type": "code",
   "execution_count": 40,
   "id": "39040d2c",
   "metadata": {},
   "outputs": [
    {
     "data": {
      "text/html": [
       "<div>\n",
       "<style scoped>\n",
       "    .dataframe tbody tr th:only-of-type {\n",
       "        vertical-align: middle;\n",
       "    }\n",
       "\n",
       "    .dataframe tbody tr th {\n",
       "        vertical-align: top;\n",
       "    }\n",
       "\n",
       "    .dataframe thead th {\n",
       "        text-align: right;\n",
       "    }\n",
       "</style>\n",
       "<table border=\"1\" class=\"dataframe\">\n",
       "  <thead>\n",
       "    <tr style=\"text-align: right;\">\n",
       "      <th></th>\n",
       "      <th>LYLTY_CARD_NBR</th>\n",
       "      <th>LIFESTAGE</th>\n",
       "      <th>PREMIUM_CUSTOMER</th>\n",
       "      <th>DATE</th>\n",
       "      <th>STORE_NBR</th>\n",
       "      <th>TXN_ID</th>\n",
       "      <th>PROD_NBR</th>\n",
       "      <th>PROD_NAME</th>\n",
       "      <th>PROD_QTY</th>\n",
       "      <th>TOT_SALES</th>\n",
       "    </tr>\n",
       "  </thead>\n",
       "  <tbody>\n",
       "    <tr>\n",
       "      <th>69762</th>\n",
       "      <td>226000</td>\n",
       "      <td>OLDER FAMILIES</td>\n",
       "      <td>Premium</td>\n",
       "      <td>2018-08-19</td>\n",
       "      <td>226</td>\n",
       "      <td>226201</td>\n",
       "      <td>4</td>\n",
       "      <td>Dorito Corn Chp     Supreme 380g</td>\n",
       "      <td>200</td>\n",
       "      <td>650.0</td>\n",
       "    </tr>\n",
       "    <tr>\n",
       "      <th>69763</th>\n",
       "      <td>226000</td>\n",
       "      <td>OLDER FAMILIES</td>\n",
       "      <td>Premium</td>\n",
       "      <td>2019-05-20</td>\n",
       "      <td>226</td>\n",
       "      <td>226210</td>\n",
       "      <td>4</td>\n",
       "      <td>Dorito Corn Chp     Supreme 380g</td>\n",
       "      <td>200</td>\n",
       "      <td>650.0</td>\n",
       "    </tr>\n",
       "  </tbody>\n",
       "</table>\n",
       "</div>"
      ],
      "text/plain": [
       "       LYLTY_CARD_NBR       LIFESTAGE PREMIUM_CUSTOMER       DATE  STORE_NBR  \\\n",
       "69762          226000  OLDER FAMILIES          Premium 2018-08-19        226   \n",
       "69763          226000  OLDER FAMILIES          Premium 2019-05-20        226   \n",
       "\n",
       "       TXN_ID  PROD_NBR                         PROD_NAME  PROD_QTY  TOT_SALES  \n",
       "69762  226201         4  Dorito Corn Chp     Supreme 380g       200      650.0  \n",
       "69763  226210         4  Dorito Corn Chp     Supreme 380g       200      650.0  "
      ]
     },
     "execution_count": 40,
     "metadata": {},
     "output_type": "execute_result"
    }
   ],
   "source": [
    "merged_df[merged_df[\"PROD_QTY\"]==200]"
   ]
  },
  {
   "cell_type": "code",
   "execution_count": 41,
   "id": "8cca8cc0",
   "metadata": {},
   "outputs": [
    {
     "data": {
      "text/html": [
       "<div>\n",
       "<style scoped>\n",
       "    .dataframe tbody tr th:only-of-type {\n",
       "        vertical-align: middle;\n",
       "    }\n",
       "\n",
       "    .dataframe tbody tr th {\n",
       "        vertical-align: top;\n",
       "    }\n",
       "\n",
       "    .dataframe thead th {\n",
       "        text-align: right;\n",
       "    }\n",
       "</style>\n",
       "<table border=\"1\" class=\"dataframe\">\n",
       "  <thead>\n",
       "    <tr style=\"text-align: right;\">\n",
       "      <th></th>\n",
       "      <th>LYLTY_CARD_NBR</th>\n",
       "      <th>LIFESTAGE</th>\n",
       "      <th>PREMIUM_CUSTOMER</th>\n",
       "      <th>DATE</th>\n",
       "      <th>STORE_NBR</th>\n",
       "      <th>TXN_ID</th>\n",
       "      <th>PROD_NBR</th>\n",
       "      <th>PROD_NAME</th>\n",
       "      <th>PROD_QTY</th>\n",
       "      <th>TOT_SALES</th>\n",
       "    </tr>\n",
       "  </thead>\n",
       "  <tbody>\n",
       "    <tr>\n",
       "      <th>69762</th>\n",
       "      <td>226000</td>\n",
       "      <td>OLDER FAMILIES</td>\n",
       "      <td>Premium</td>\n",
       "      <td>2018-08-19</td>\n",
       "      <td>226</td>\n",
       "      <td>226201</td>\n",
       "      <td>4</td>\n",
       "      <td>Dorito Corn Chp     Supreme 380g</td>\n",
       "      <td>200</td>\n",
       "      <td>650.0</td>\n",
       "    </tr>\n",
       "    <tr>\n",
       "      <th>69763</th>\n",
       "      <td>226000</td>\n",
       "      <td>OLDER FAMILIES</td>\n",
       "      <td>Premium</td>\n",
       "      <td>2019-05-20</td>\n",
       "      <td>226</td>\n",
       "      <td>226210</td>\n",
       "      <td>4</td>\n",
       "      <td>Dorito Corn Chp     Supreme 380g</td>\n",
       "      <td>200</td>\n",
       "      <td>650.0</td>\n",
       "    </tr>\n",
       "  </tbody>\n",
       "</table>\n",
       "</div>"
      ],
      "text/plain": [
       "       LYLTY_CARD_NBR       LIFESTAGE PREMIUM_CUSTOMER       DATE  STORE_NBR  \\\n",
       "69762          226000  OLDER FAMILIES          Premium 2018-08-19        226   \n",
       "69763          226000  OLDER FAMILIES          Premium 2019-05-20        226   \n",
       "\n",
       "       TXN_ID  PROD_NBR                         PROD_NAME  PROD_QTY  TOT_SALES  \n",
       "69762  226201         4  Dorito Corn Chp     Supreme 380g       200      650.0  \n",
       "69763  226210         4  Dorito Corn Chp     Supreme 380g       200      650.0  "
      ]
     },
     "execution_count": 41,
     "metadata": {},
     "output_type": "execute_result"
    }
   ],
   "source": [
    "merged_df[merged_df[\"LYLTY_CARD_NBR\"]==226000]"
   ]
  },
  {
   "cell_type": "markdown",
   "id": "88c4467a",
   "metadata": {},
   "source": [
    "There are two transactions that are over 200 product quantity by a Premium customer. We will be removing these transaction because they are outliers."
   ]
  },
  {
   "cell_type": "code",
   "execution_count": 45,
   "id": "a68ab9f3",
   "metadata": {},
   "outputs": [],
   "source": [
    "# drop the outlier\n",
    "merged_df.drop(index=[69762, 69763], inplace=True)"
   ]
  },
  {
   "cell_type": "code",
   "execution_count": 46,
   "id": "cca56d46",
   "metadata": {},
   "outputs": [
    {
     "data": {
      "text/html": [
       "<div>\n",
       "<style scoped>\n",
       "    .dataframe tbody tr th:only-of-type {\n",
       "        vertical-align: middle;\n",
       "    }\n",
       "\n",
       "    .dataframe tbody tr th {\n",
       "        vertical-align: top;\n",
       "    }\n",
       "\n",
       "    .dataframe thead th {\n",
       "        text-align: right;\n",
       "    }\n",
       "</style>\n",
       "<table border=\"1\" class=\"dataframe\">\n",
       "  <thead>\n",
       "    <tr style=\"text-align: right;\">\n",
       "      <th></th>\n",
       "      <th>LYLTY_CARD_NBR</th>\n",
       "      <th>LIFESTAGE</th>\n",
       "      <th>PREMIUM_CUSTOMER</th>\n",
       "      <th>DATE</th>\n",
       "      <th>STORE_NBR</th>\n",
       "      <th>TXN_ID</th>\n",
       "      <th>PROD_NBR</th>\n",
       "      <th>PROD_NAME</th>\n",
       "      <th>PROD_QTY</th>\n",
       "      <th>TOT_SALES</th>\n",
       "    </tr>\n",
       "  </thead>\n",
       "  <tbody>\n",
       "  </tbody>\n",
       "</table>\n",
       "</div>"
      ],
      "text/plain": [
       "Empty DataFrame\n",
       "Columns: [LYLTY_CARD_NBR, LIFESTAGE, PREMIUM_CUSTOMER, DATE, STORE_NBR, TXN_ID, PROD_NBR, PROD_NAME, PROD_QTY, TOT_SALES]\n",
       "Index: []"
      ]
     },
     "execution_count": 46,
     "metadata": {},
     "output_type": "execute_result"
    }
   ],
   "source": [
    "merged_df[merged_df[\"LYLTY_CARD_NBR\"]==226000]"
   ]
  },
  {
   "cell_type": "code",
   "execution_count": null,
   "id": "622e60d9",
   "metadata": {},
   "outputs": [],
   "source": []
  }
 ],
 "metadata": {
  "kernelspec": {
   "display_name": "Python 3 (ipykernel)",
   "language": "python",
   "name": "python3"
  },
  "language_info": {
   "codemirror_mode": {
    "name": "ipython",
    "version": 3
   },
   "file_extension": ".py",
   "mimetype": "text/x-python",
   "name": "python",
   "nbconvert_exporter": "python",
   "pygments_lexer": "ipython3",
   "version": "3.10.8"
  }
 },
 "nbformat": 4,
 "nbformat_minor": 5
}
