{
 "cells": [
  {
   "cell_type": "markdown",
   "id": "0ecd3c0b",
   "metadata": {},
   "source": [
    "# Data Preparation and Customer Analytics\n",
    "# Task 1\n",
    "\n",
    "Conduct analysis on client's transaction dataset and identify customer purchasing behaviours to generate insights and provide commercial recommendations."
   ]
  },
  {
   "cell_type": "markdown",
   "id": "0e344746",
   "metadata": {},
   "source": [
    "## Work FLow\n",
    "\n",
    "**1. Examine transaction data;** \n",
    "\n",
    "    - Look for inconsistencies\n",
    "    - missing data across the dataset\n",
    "    - outliers\n",
    "    - correctly identify category items\n",
    "    - numeric data across all tables.\n",
    "    \n",
    "    If anomalies are determined, make necessary changes and save it\n",
    "    \n",
    "**2. Examine customer data;**\n",
    "\n",
    "    - Look for inconsistencies\n",
    "    - missing data across the dataset\n",
    "    - outliers\n",
    "    - correctly identify category items\n",
    "    - numeric data across all tables.\n",
    "\n",
    "After completing the above tasks, merge the two datasets so it is ready for analysis.\n",
    "\n",
    "**3. Data analysis and customer segments;**\n",
    "\n",
    "    - define metrics\n",
    "    - look at total sales\n",
    "    - drivers of sales\n",
    "    - where the highest sales are coming from\n",
    "    - create charts and graphs\n",
    "    - note interesting trends and insights\n",
    "    \n",
    "**4. Deep dive into customer segments;**\n",
    "\n",
    "    - define recommendation from insights\n",
    "    - determine which segments should be targeted\n",
    "    - form overall conclusion based on analysis\n",
    "    \n",
    "**4. Save analysis**\n",
    "\n",
    "    - save analysis and visuals"
   ]
  },
  {
   "cell_type": "markdown",
   "id": "ac0481cf",
   "metadata": {},
   "source": [
    "We will start this analysis by loading required libraries for analysis"
   ]
  },
  {
   "cell_type": "code",
   "execution_count": 36,
   "id": "a008d14b",
   "metadata": {},
   "outputs": [],
   "source": [
    "# load libriaries\n",
    "import numpy as np\n",
    "import pandas as pd\n",
    "import seaborn as sns \n",
    "import matplotlib.pyplot as plt\n",
    "from scipy import stats\n",
    "%matplotlib inline"
   ]
  },
  {
   "cell_type": "code",
   "execution_count": 2,
   "id": "29400934",
   "metadata": {},
   "outputs": [],
   "source": [
    "# import data\n",
    "transaction_df = pd.read_csv(\"../data/QVI_transaction_data.csv\")\n",
    "customer_df = pd.read_csv(\"../data/QVI_purchase_behaviour.csv\")"
   ]
  },
  {
   "cell_type": "markdown",
   "id": "168c0e9f",
   "metadata": {},
   "source": [
    "## Exploratory Data Analysis\n",
    "\n",
    "The first step of any analysis is to first understand the data. Let's take a look at each of the dataset.\n",
    "\n",
    "### Examining transaction data"
   ]
  },
  {
   "cell_type": "code",
   "execution_count": 3,
   "id": "006d7048",
   "metadata": {
    "scrolled": false
   },
   "outputs": [
    {
     "data": {
      "text/html": [
       "<div>\n",
       "<style scoped>\n",
       "    .dataframe tbody tr th:only-of-type {\n",
       "        vertical-align: middle;\n",
       "    }\n",
       "\n",
       "    .dataframe tbody tr th {\n",
       "        vertical-align: top;\n",
       "    }\n",
       "\n",
       "    .dataframe thead th {\n",
       "        text-align: right;\n",
       "    }\n",
       "</style>\n",
       "<table border=\"1\" class=\"dataframe\">\n",
       "  <thead>\n",
       "    <tr style=\"text-align: right;\">\n",
       "      <th></th>\n",
       "      <th>DATE</th>\n",
       "      <th>STORE_NBR</th>\n",
       "      <th>LYLTY_CARD_NBR</th>\n",
       "      <th>TXN_ID</th>\n",
       "      <th>PROD_NBR</th>\n",
       "      <th>PROD_NAME</th>\n",
       "      <th>PROD_QTY</th>\n",
       "      <th>TOT_SALES</th>\n",
       "    </tr>\n",
       "  </thead>\n",
       "  <tbody>\n",
       "    <tr>\n",
       "      <th>0</th>\n",
       "      <td>43390</td>\n",
       "      <td>1</td>\n",
       "      <td>1000</td>\n",
       "      <td>1</td>\n",
       "      <td>5</td>\n",
       "      <td>Natural Chip        Compny SeaSalt175g</td>\n",
       "      <td>2</td>\n",
       "      <td>6.0</td>\n",
       "    </tr>\n",
       "    <tr>\n",
       "      <th>1</th>\n",
       "      <td>43599</td>\n",
       "      <td>1</td>\n",
       "      <td>1307</td>\n",
       "      <td>348</td>\n",
       "      <td>66</td>\n",
       "      <td>CCs Nacho Cheese    175g</td>\n",
       "      <td>3</td>\n",
       "      <td>6.3</td>\n",
       "    </tr>\n",
       "    <tr>\n",
       "      <th>2</th>\n",
       "      <td>43605</td>\n",
       "      <td>1</td>\n",
       "      <td>1343</td>\n",
       "      <td>383</td>\n",
       "      <td>61</td>\n",
       "      <td>Smiths Crinkle Cut  Chips Chicken 170g</td>\n",
       "      <td>2</td>\n",
       "      <td>2.9</td>\n",
       "    </tr>\n",
       "    <tr>\n",
       "      <th>3</th>\n",
       "      <td>43329</td>\n",
       "      <td>2</td>\n",
       "      <td>2373</td>\n",
       "      <td>974</td>\n",
       "      <td>69</td>\n",
       "      <td>Smiths Chip Thinly  S/Cream&amp;Onion 175g</td>\n",
       "      <td>5</td>\n",
       "      <td>15.0</td>\n",
       "    </tr>\n",
       "    <tr>\n",
       "      <th>4</th>\n",
       "      <td>43330</td>\n",
       "      <td>2</td>\n",
       "      <td>2426</td>\n",
       "      <td>1038</td>\n",
       "      <td>108</td>\n",
       "      <td>Kettle Tortilla ChpsHny&amp;Jlpno Chili 150g</td>\n",
       "      <td>3</td>\n",
       "      <td>13.8</td>\n",
       "    </tr>\n",
       "    <tr>\n",
       "      <th>5</th>\n",
       "      <td>43604</td>\n",
       "      <td>4</td>\n",
       "      <td>4074</td>\n",
       "      <td>2982</td>\n",
       "      <td>57</td>\n",
       "      <td>Old El Paso Salsa   Dip Tomato Mild 300g</td>\n",
       "      <td>1</td>\n",
       "      <td>5.1</td>\n",
       "    </tr>\n",
       "    <tr>\n",
       "      <th>6</th>\n",
       "      <td>43601</td>\n",
       "      <td>4</td>\n",
       "      <td>4149</td>\n",
       "      <td>3333</td>\n",
       "      <td>16</td>\n",
       "      <td>Smiths Crinkle Chips Salt &amp; Vinegar 330g</td>\n",
       "      <td>1</td>\n",
       "      <td>5.7</td>\n",
       "    </tr>\n",
       "    <tr>\n",
       "      <th>7</th>\n",
       "      <td>43601</td>\n",
       "      <td>4</td>\n",
       "      <td>4196</td>\n",
       "      <td>3539</td>\n",
       "      <td>24</td>\n",
       "      <td>Grain Waves         Sweet Chilli 210g</td>\n",
       "      <td>1</td>\n",
       "      <td>3.6</td>\n",
       "    </tr>\n",
       "    <tr>\n",
       "      <th>8</th>\n",
       "      <td>43332</td>\n",
       "      <td>5</td>\n",
       "      <td>5026</td>\n",
       "      <td>4525</td>\n",
       "      <td>42</td>\n",
       "      <td>Doritos Corn Chip Mexican Jalapeno 150g</td>\n",
       "      <td>1</td>\n",
       "      <td>3.9</td>\n",
       "    </tr>\n",
       "    <tr>\n",
       "      <th>9</th>\n",
       "      <td>43330</td>\n",
       "      <td>7</td>\n",
       "      <td>7150</td>\n",
       "      <td>6900</td>\n",
       "      <td>52</td>\n",
       "      <td>Grain Waves Sour    Cream&amp;Chives 210G</td>\n",
       "      <td>2</td>\n",
       "      <td>7.2</td>\n",
       "    </tr>\n",
       "  </tbody>\n",
       "</table>\n",
       "</div>"
      ],
      "text/plain": [
       "    DATE  STORE_NBR  LYLTY_CARD_NBR  TXN_ID  PROD_NBR  \\\n",
       "0  43390          1            1000       1         5   \n",
       "1  43599          1            1307     348        66   \n",
       "2  43605          1            1343     383        61   \n",
       "3  43329          2            2373     974        69   \n",
       "4  43330          2            2426    1038       108   \n",
       "5  43604          4            4074    2982        57   \n",
       "6  43601          4            4149    3333        16   \n",
       "7  43601          4            4196    3539        24   \n",
       "8  43332          5            5026    4525        42   \n",
       "9  43330          7            7150    6900        52   \n",
       "\n",
       "                                  PROD_NAME  PROD_QTY  TOT_SALES  \n",
       "0    Natural Chip        Compny SeaSalt175g         2        6.0  \n",
       "1                  CCs Nacho Cheese    175g         3        6.3  \n",
       "2    Smiths Crinkle Cut  Chips Chicken 170g         2        2.9  \n",
       "3    Smiths Chip Thinly  S/Cream&Onion 175g         5       15.0  \n",
       "4  Kettle Tortilla ChpsHny&Jlpno Chili 150g         3       13.8  \n",
       "5  Old El Paso Salsa   Dip Tomato Mild 300g         1        5.1  \n",
       "6  Smiths Crinkle Chips Salt & Vinegar 330g         1        5.7  \n",
       "7     Grain Waves         Sweet Chilli 210g         1        3.6  \n",
       "8   Doritos Corn Chip Mexican Jalapeno 150g         1        3.9  \n",
       "9     Grain Waves Sour    Cream&Chives 210G         2        7.2  "
      ]
     },
     "execution_count": 3,
     "metadata": {},
     "output_type": "execute_result"
    }
   ],
   "source": [
    "# view the first 10 rows of the transaction data\n",
    "transaction_df.head(10)"
   ]
  },
  {
   "cell_type": "code",
   "execution_count": 4,
   "id": "47675fd9",
   "metadata": {},
   "outputs": [
    {
     "name": "stdout",
     "output_type": "stream",
     "text": [
      "<class 'pandas.core.frame.DataFrame'>\n",
      "RangeIndex: 264836 entries, 0 to 264835\n",
      "Data columns (total 8 columns):\n",
      " #   Column          Non-Null Count   Dtype  \n",
      "---  ------          --------------   -----  \n",
      " 0   DATE            264836 non-null  int64  \n",
      " 1   STORE_NBR       264836 non-null  int64  \n",
      " 2   LYLTY_CARD_NBR  264836 non-null  int64  \n",
      " 3   TXN_ID          264836 non-null  int64  \n",
      " 4   PROD_NBR        264836 non-null  int64  \n",
      " 5   PROD_NAME       264836 non-null  object \n",
      " 6   PROD_QTY        264836 non-null  int64  \n",
      " 7   TOT_SALES       264836 non-null  float64\n",
      "dtypes: float64(1), int64(6), object(1)\n",
      "memory usage: 16.2+ MB\n"
     ]
    }
   ],
   "source": [
    "# check the columns to see if they are in the right format\n",
    "transaction_df.info()"
   ]
  },
  {
   "cell_type": "markdown",
   "id": "a6b3bef1",
   "metadata": {},
   "source": [
    "We can observe that the `DATE` column is in integer format instead of date format. "
   ]
  },
  {
   "cell_type": "code",
   "execution_count": 5,
   "id": "3fddde49",
   "metadata": {},
   "outputs": [
    {
     "data": {
      "text/plain": [
       "0         43390\n",
       "1         43599\n",
       "2         43605\n",
       "3         43329\n",
       "4         43330\n",
       "          ...  \n",
       "264831    43533\n",
       "264832    43325\n",
       "264833    43410\n",
       "264834    43461\n",
       "264835    43365\n",
       "Name: DATE, Length: 264836, dtype: int64"
      ]
     },
     "execution_count": 5,
     "metadata": {},
     "output_type": "execute_result"
    }
   ],
   "source": [
    "transaction_df[\"DATE\"]"
   ]
  },
  {
   "cell_type": "code",
   "execution_count": 6,
   "id": "a747070e",
   "metadata": {},
   "outputs": [],
   "source": [
    "transaction_df[\"DATE\"] = pd.to_datetime(transaction_df[\"DATE\"], origin = \"1899-12-30\")"
   ]
  },
  {
   "cell_type": "code",
   "execution_count": 7,
   "id": "27d1c585",
   "metadata": {},
   "outputs": [
    {
     "name": "stdout",
     "output_type": "stream",
     "text": [
      "<class 'pandas.core.frame.DataFrame'>\n",
      "RangeIndex: 264836 entries, 0 to 264835\n",
      "Data columns (total 8 columns):\n",
      " #   Column          Non-Null Count   Dtype         \n",
      "---  ------          --------------   -----         \n",
      " 0   DATE            264836 non-null  datetime64[ns]\n",
      " 1   STORE_NBR       264836 non-null  int64         \n",
      " 2   LYLTY_CARD_NBR  264836 non-null  int64         \n",
      " 3   TXN_ID          264836 non-null  int64         \n",
      " 4   PROD_NBR        264836 non-null  int64         \n",
      " 5   PROD_NAME       264836 non-null  object        \n",
      " 6   PROD_QTY        264836 non-null  int64         \n",
      " 7   TOT_SALES       264836 non-null  float64       \n",
      "dtypes: datetime64[ns](1), float64(1), int64(5), object(1)\n",
      "memory usage: 16.2+ MB\n"
     ]
    }
   ],
   "source": [
    "# check the columns to see if they are in the right format\n",
    "transaction_df.info()"
   ]
  },
  {
   "cell_type": "markdown",
   "id": "65248ea6",
   "metadata": {},
   "source": [
    "We can now see that the `DATE` column is in the right date time format"
   ]
  },
  {
   "cell_type": "markdown",
   "id": "0d4df982",
   "metadata": {},
   "source": [
    "We should check that we are looking at the right products by examining `PROD_NAME` column"
   ]
  },
  {
   "cell_type": "code",
   "execution_count": 8,
   "id": "0fd39b81",
   "metadata": {},
   "outputs": [
    {
     "data": {
      "text/plain": [
       "114"
      ]
     },
     "execution_count": 8,
     "metadata": {},
     "output_type": "execute_result"
    }
   ],
   "source": [
    "# check number of unique product names\n",
    "transaction_df[\"PROD_NAME\"].nunique()"
   ]
  },
  {
   "cell_type": "markdown",
   "id": "71dcf1fa",
   "metadata": {},
   "source": [
    "We have 114 number of unique chips products"
   ]
  },
  {
   "cell_type": "code",
   "execution_count": 9,
   "id": "88096eaa",
   "metadata": {},
   "outputs": [
    {
     "data": {
      "text/plain": [
       "array(['Natural Chip        Compny SeaSalt175g',\n",
       "       'CCs Nacho Cheese    175g',\n",
       "       'Smiths Crinkle Cut  Chips Chicken 170g',\n",
       "       'Smiths Chip Thinly  S/Cream&Onion 175g',\n",
       "       'Kettle Tortilla ChpsHny&Jlpno Chili 150g',\n",
       "       'Old El Paso Salsa   Dip Tomato Mild 300g',\n",
       "       'Smiths Crinkle Chips Salt & Vinegar 330g',\n",
       "       'Grain Waves         Sweet Chilli 210g',\n",
       "       'Doritos Corn Chip Mexican Jalapeno 150g',\n",
       "       'Grain Waves Sour    Cream&Chives 210G',\n",
       "       'Kettle Sensations   Siracha Lime 150g',\n",
       "       'Twisties Cheese     270g', 'WW Crinkle Cut      Chicken 175g',\n",
       "       'Thins Chips Light&  Tangy 175g', 'CCs Original 175g',\n",
       "       'Burger Rings 220g', 'NCC Sour Cream &    Garden Chives 175g',\n",
       "       'Doritos Corn Chip Southern Chicken 150g',\n",
       "       'Cheezels Cheese Box 125g', 'Smiths Crinkle      Original 330g',\n",
       "       'Infzns Crn Crnchers Tangy Gcamole 110g',\n",
       "       'Kettle Sea Salt     And Vinegar 175g',\n",
       "       'Smiths Chip Thinly  Cut Original 175g', 'Kettle Original 175g',\n",
       "       'Red Rock Deli Thai  Chilli&Lime 150g',\n",
       "       'Pringles Sthrn FriedChicken 134g', 'Pringles Sweet&Spcy BBQ 134g',\n",
       "       'Red Rock Deli SR    Salsa & Mzzrlla 150g',\n",
       "       'Thins Chips         Originl saltd 175g',\n",
       "       'Red Rock Deli Sp    Salt & Truffle 150G',\n",
       "       'Smiths Thinly       Swt Chli&S/Cream175G', 'Kettle Chilli 175g',\n",
       "       'Doritos Mexicana    170g',\n",
       "       'Smiths Crinkle Cut  French OnionDip 150g',\n",
       "       'Natural ChipCo      Hony Soy Chckn175g',\n",
       "       'Dorito Corn Chp     Supreme 380g', 'Twisties Chicken270g',\n",
       "       'Smiths Thinly Cut   Roast Chicken 175g',\n",
       "       'Smiths Crinkle Cut  Tomato Salsa 150g',\n",
       "       'Kettle Mozzarella   Basil & Pesto 175g',\n",
       "       'Infuzions Thai SweetChili PotatoMix 110g',\n",
       "       'Kettle Sensations   Camembert & Fig 150g',\n",
       "       'Smith Crinkle Cut   Mac N Cheese 150g',\n",
       "       'Kettle Honey Soy    Chicken 175g',\n",
       "       'Thins Chips Seasonedchicken 175g',\n",
       "       'Smiths Crinkle Cut  Salt & Vinegar 170g',\n",
       "       'Infuzions BBQ Rib   Prawn Crackers 110g',\n",
       "       'GrnWves Plus Btroot & Chilli Jam 180g',\n",
       "       'Tyrrells Crisps     Lightly Salted 165g',\n",
       "       'Kettle Sweet Chilli And Sour Cream 175g',\n",
       "       'Doritos Salsa       Medium 300g', 'Kettle 135g Swt Pot Sea Salt',\n",
       "       'Pringles SourCream  Onion 134g',\n",
       "       'Doritos Corn Chips  Original 170g',\n",
       "       'Twisties Cheese     Burger 250g',\n",
       "       'Old El Paso Salsa   Dip Chnky Tom Ht300g',\n",
       "       'Cobs Popd Swt/Chlli &Sr/Cream Chips 110g',\n",
       "       'Woolworths Mild     Salsa 300g',\n",
       "       'Natural Chip Co     Tmato Hrb&Spce 175g',\n",
       "       'Smiths Crinkle Cut  Chips Original 170g',\n",
       "       'Cobs Popd Sea Salt  Chips 110g',\n",
       "       'Smiths Crinkle Cut  Chips Chs&Onion170g',\n",
       "       'French Fries Potato Chips 175g',\n",
       "       'Old El Paso Salsa   Dip Tomato Med 300g',\n",
       "       'Doritos Corn Chips  Cheese Supreme 170g',\n",
       "       'Pringles Original   Crisps 134g',\n",
       "       'RRD Chilli&         Coconut 150g',\n",
       "       'WW Original Corn    Chips 200g',\n",
       "       'Thins Potato Chips  Hot & Spicy 175g',\n",
       "       'Cobs Popd Sour Crm  &Chives Chips 110g',\n",
       "       'Smiths Crnkle Chip  Orgnl Big Bag 380g',\n",
       "       'Doritos Corn Chips  Nacho Cheese 170g',\n",
       "       'Kettle Sensations   BBQ&Maple 150g',\n",
       "       'WW D/Style Chip     Sea Salt 200g',\n",
       "       'Pringles Chicken    Salt Crips 134g',\n",
       "       'WW Original Stacked Chips 160g',\n",
       "       'Smiths Chip Thinly  CutSalt/Vinegr175g', 'Cheezels Cheese 330g',\n",
       "       'Tostitos Lightly    Salted 175g',\n",
       "       'Thins Chips Salt &  Vinegar 175g',\n",
       "       'Smiths Crinkle Cut  Chips Barbecue 170g', 'Cheetos Puffs 165g',\n",
       "       'RRD Sweet Chilli &  Sour Cream 165g',\n",
       "       'WW Crinkle Cut      Original 175g',\n",
       "       'Tostitos Splash Of  Lime 175g', 'Woolworths Medium   Salsa 300g',\n",
       "       'Kettle Tortilla ChpsBtroot&Ricotta 150g',\n",
       "       'CCs Tasty Cheese    175g', 'Woolworths Cheese   Rings 190g',\n",
       "       'Tostitos Smoked     Chipotle 175g', 'Pringles Barbeque   134g',\n",
       "       'WW Supreme Cheese   Corn Chips 200g',\n",
       "       'Pringles Mystery    Flavour 134g',\n",
       "       'Tyrrells Crisps     Ched & Chives 165g',\n",
       "       'Snbts Whlgrn Crisps Cheddr&Mstrd 90g',\n",
       "       'Cheetos Chs & Bacon Balls 190g', 'Pringles Slt Vingar 134g',\n",
       "       'Infuzions SourCream&Herbs Veg Strws 110g',\n",
       "       'Kettle Tortilla ChpsFeta&Garlic 150g',\n",
       "       'Infuzions Mango     Chutny Papadums 70g',\n",
       "       'RRD Steak &         Chimuchurri 150g',\n",
       "       'RRD Honey Soy       Chicken 165g',\n",
       "       'Sunbites Whlegrn    Crisps Frch/Onin 90g',\n",
       "       'RRD Salt & Vinegar  165g', 'Doritos Cheese      Supreme 330g',\n",
       "       'Smiths Crinkle Cut  Snag&Sauce 150g',\n",
       "       'WW Sour Cream &OnionStacked Chips 160g',\n",
       "       'RRD Lime & Pepper   165g',\n",
       "       'Natural ChipCo Sea  Salt & Vinegr 175g',\n",
       "       'Red Rock Deli Chikn&Garlic Aioli 150g',\n",
       "       'RRD SR Slow Rst     Pork Belly 150g', 'RRD Pc Sea Salt     165g',\n",
       "       'Smith Crinkle Cut   Bolognese 150g', 'Doritos Salsa Mild  300g'],\n",
       "      dtype=object)"
      ]
     },
     "execution_count": 9,
     "metadata": {},
     "output_type": "execute_result"
    }
   ],
   "source": [
    "transaction_df[\"PROD_NAME\"].unique()"
   ]
  },
  {
   "cell_type": "markdown",
   "id": "63419ab0",
   "metadata": {},
   "source": [
    "We are definitely looking at potato chips, but how can we check that these are all chips? We can do some basic text analysis by summarizing the individual words in th product name."
   ]
  },
  {
   "cell_type": "markdown",
   "id": "8f10d570",
   "metadata": {},
   "source": [
    "Examine the words in `PROD_NAME` to see if there are any incorrect entries such as product that are not chips"
   ]
  },
  {
   "cell_type": "code",
   "execution_count": 10,
   "id": "7ba08838",
   "metadata": {},
   "outputs": [
    {
     "data": {
      "text/plain": [
       "264836"
      ]
     },
     "execution_count": 10,
     "metadata": {},
     "output_type": "execute_result"
    }
   ],
   "source": [
    "len(transaction_df[\"PROD_NAME\"])"
   ]
  },
  {
   "cell_type": "code",
   "execution_count": 11,
   "id": "551da18c",
   "metadata": {},
   "outputs": [
    {
     "data": {
      "text/plain": [
       "74570"
      ]
     },
     "execution_count": 11,
     "metadata": {},
     "output_type": "execute_result"
    }
   ],
   "source": [
    "# search for entries in PROD_NAME that has \"chips\" in it\n",
    "transaction_df[\"PROD_NAME\"].str.lower().str.contains(\"chip\").sum()"
   ]
  },
  {
   "cell_type": "markdown",
   "id": "597af7a9",
   "metadata": {},
   "source": [
    "Out of the 264,836 products bought, 74,570 has the name `\"chip\"` in it. we are only interested in products that has chips in that name so we will only select these rows"
   ]
  },
  {
   "cell_type": "code",
   "execution_count": 12,
   "id": "f571d206",
   "metadata": {},
   "outputs": [],
   "source": [
    "# transaction_df = transaction_df[transaction_df[\"PROD_NAME\"].str.lower().str.contains(\"chips\")]\n",
    "# transaction_df.head()"
   ]
  },
  {
   "cell_type": "markdown",
   "id": "7af2c67e",
   "metadata": {},
   "source": [
    "As we are only interested in words that will tell us if the product is chips or\n",
    "not, let's remove all words with digits and special characters such as '&' from our\n",
    "set of product words. We can do this using"
   ]
  },
  {
   "cell_type": "code",
   "execution_count": 13,
   "id": "0a01928b",
   "metadata": {},
   "outputs": [],
   "source": [
    "# remove digits from the \"PROD_NAME\" column\n",
    "import neattext.functions as nfx"
   ]
  },
  {
   "cell_type": "code",
   "execution_count": 14,
   "id": "08187d50",
   "metadata": {},
   "outputs": [
    {
     "data": {
      "text/plain": [
       "0           Natural Chip        Compny SeaSaltg\n",
       "1                         CCs Nacho Cheese    g\n",
       "2           Smiths Crinkle Cut  Chips Chicken g\n",
       "3           Smiths Chip Thinly  S/Cream&Onion g\n",
       "4         Kettle Tortilla ChpsHny&Jlpno Chili g\n",
       "                          ...                  \n",
       "264831     Kettle Sweet Chilli And Sour Cream g\n",
       "264832               Tostitos Splash Of  Lime g\n",
       "264833                    Doritos Mexicana    g\n",
       "264834     Doritos Corn Chip Mexican Jalapeno g\n",
       "264835               Tostitos Splash Of  Lime g\n",
       "Name: PROD_NAME, Length: 264836, dtype: object"
      ]
     },
     "execution_count": 14,
     "metadata": {},
     "output_type": "execute_result"
    }
   ],
   "source": [
    "# remove digits from the \"PROD_NAME\" column\n",
    "transaction_df[\"PROD_NAME\"] = transaction_df[\"PROD_NAME\"].apply(nfx.remove_numbers)\n",
    "transaction_df[\"PROD_NAME\"]"
   ]
  },
  {
   "cell_type": "code",
   "execution_count": 15,
   "id": "657167d4",
   "metadata": {},
   "outputs": [
    {
     "data": {
      "text/plain": [
       "0          Natural Chip        Compny SeaSaltg\n",
       "1                        CCs Nacho Cheese    g\n",
       "2          Smiths Crinkle Cut  Chips Chicken g\n",
       "3            Smiths Chip Thinly  SCreamOnion g\n",
       "4         Kettle Tortilla ChpsHnyJlpno Chili g\n",
       "                          ...                 \n",
       "264831    Kettle Sweet Chilli And Sour Cream g\n",
       "264832              Tostitos Splash Of  Lime g\n",
       "264833                   Doritos Mexicana    g\n",
       "264834    Doritos Corn Chip Mexican Jalapeno g\n",
       "264835              Tostitos Splash Of  Lime g\n",
       "Name: PROD_NAME, Length: 264836, dtype: object"
      ]
     },
     "execution_count": 15,
     "metadata": {},
     "output_type": "execute_result"
    }
   ],
   "source": [
    "# remove special characters\n",
    "transaction_df[\"PROD_NAME\"] = transaction_df[\"PROD_NAME\"].apply(nfx.remove_special_characters)\n",
    "transaction_df[\"PROD_NAME\"]"
   ]
  },
  {
   "cell_type": "code",
   "execution_count": 16,
   "id": "edd56a04",
   "metadata": {},
   "outputs": [],
   "source": [
    "from collections import Counter"
   ]
  },
  {
   "cell_type": "code",
   "execution_count": 22,
   "id": "519b08b3",
   "metadata": {
    "scrolled": true
   },
   "outputs": [
    {
     "data": {
      "text/html": [
       "<div>\n",
       "<style scoped>\n",
       "    .dataframe tbody tr th:only-of-type {\n",
       "        vertical-align: middle;\n",
       "    }\n",
       "\n",
       "    .dataframe tbody tr th {\n",
       "        vertical-align: top;\n",
       "    }\n",
       "\n",
       "    .dataframe thead th {\n",
       "        text-align: right;\n",
       "    }\n",
       "</style>\n",
       "<table border=\"1\" class=\"dataframe\">\n",
       "  <thead>\n",
       "    <tr style=\"text-align: right;\">\n",
       "      <th></th>\n",
       "      <th>words</th>\n",
       "      <th>frequency</th>\n",
       "    </tr>\n",
       "  </thead>\n",
       "  <tbody>\n",
       "    <tr>\n",
       "      <th>0</th>\n",
       "      <td>g</td>\n",
       "      <td>246628</td>\n",
       "    </tr>\n",
       "    <tr>\n",
       "      <th>1</th>\n",
       "      <td>Chips</td>\n",
       "      <td>49770</td>\n",
       "    </tr>\n",
       "    <tr>\n",
       "      <th>2</th>\n",
       "      <td>Kettle</td>\n",
       "      <td>41288</td>\n",
       "    </tr>\n",
       "    <tr>\n",
       "      <th>3</th>\n",
       "      <td>Smiths</td>\n",
       "      <td>28860</td>\n",
       "    </tr>\n",
       "    <tr>\n",
       "      <th>4</th>\n",
       "      <td>Salt</td>\n",
       "      <td>27976</td>\n",
       "    </tr>\n",
       "    <tr>\n",
       "      <th>...</th>\n",
       "      <td>...</td>\n",
       "      <td>...</td>\n",
       "    </tr>\n",
       "    <tr>\n",
       "      <th>191</th>\n",
       "      <td>FrchOnin</td>\n",
       "      <td>1432</td>\n",
       "    </tr>\n",
       "    <tr>\n",
       "      <th>192</th>\n",
       "      <td>Pc</td>\n",
       "      <td>1431</td>\n",
       "    </tr>\n",
       "    <tr>\n",
       "      <th>193</th>\n",
       "      <td>NCC</td>\n",
       "      <td>1419</td>\n",
       "    </tr>\n",
       "    <tr>\n",
       "      <th>194</th>\n",
       "      <td>Garden</td>\n",
       "      <td>1419</td>\n",
       "    </tr>\n",
       "    <tr>\n",
       "      <th>195</th>\n",
       "      <td>Fries</td>\n",
       "      <td>1418</td>\n",
       "    </tr>\n",
       "  </tbody>\n",
       "</table>\n",
       "<p>196 rows × 2 columns</p>\n",
       "</div>"
      ],
      "text/plain": [
       "        words  frequency\n",
       "0           g     246628\n",
       "1       Chips      49770\n",
       "2      Kettle      41288\n",
       "3      Smiths      28860\n",
       "4        Salt      27976\n",
       "..        ...        ...\n",
       "191  FrchOnin       1432\n",
       "192        Pc       1431\n",
       "193       NCC       1419\n",
       "194    Garden       1419\n",
       "195     Fries       1418\n",
       "\n",
       "[196 rows x 2 columns]"
      ]
     },
     "execution_count": 22,
     "metadata": {},
     "output_type": "execute_result"
    }
   ],
   "source": [
    "# Get most common words by counting the number of times a word appears\n",
    "words = []\n",
    "for prod_name in transaction_df[\"PROD_NAME\"]:\n",
    "    words.extend(prod_name.split())\n",
    "    \n",
    "commom_words = pd.DataFrame(Counter(words).most_common(), \n",
    "                           columns=[\"words\", \"frequency\"]).sort_values(by=\"frequency\", ascending=False)\n",
    "commom_words"
   ]
  },
  {
   "cell_type": "code",
   "execution_count": 25,
   "id": "833148ed",
   "metadata": {},
   "outputs": [
    {
     "data": {
      "text/html": [
       "<div>\n",
       "<style scoped>\n",
       "    .dataframe tbody tr th:only-of-type {\n",
       "        vertical-align: middle;\n",
       "    }\n",
       "\n",
       "    .dataframe tbody tr th {\n",
       "        vertical-align: top;\n",
       "    }\n",
       "\n",
       "    .dataframe thead th {\n",
       "        text-align: right;\n",
       "    }\n",
       "</style>\n",
       "<table border=\"1\" class=\"dataframe\">\n",
       "  <thead>\n",
       "    <tr style=\"text-align: right;\">\n",
       "      <th></th>\n",
       "      <th>words</th>\n",
       "      <th>frequency</th>\n",
       "    </tr>\n",
       "  </thead>\n",
       "  <tbody>\n",
       "    <tr>\n",
       "      <th>12</th>\n",
       "      <td>Chip</td>\n",
       "      <td>18645</td>\n",
       "    </tr>\n",
       "  </tbody>\n",
       "</table>\n",
       "</div>"
      ],
      "text/plain": [
       "   words  frequency\n",
       "12  Chip      18645"
      ]
     },
     "execution_count": 25,
     "metadata": {},
     "output_type": "execute_result"
    }
   ],
   "source": [
    "commom_words[commom_words[\"words\"]==\"Chip\"]"
   ]
  },
  {
   "cell_type": "markdown",
   "id": "a25da735",
   "metadata": {},
   "source": [
    "We are only interested in `Chip` products because some products has the name `Chip` while others have `Chips`. We will keep both"
   ]
  },
  {
   "cell_type": "code",
   "execution_count": 26,
   "id": "11019615",
   "metadata": {},
   "outputs": [
    {
     "data": {
      "text/html": [
       "<div>\n",
       "<style scoped>\n",
       "    .dataframe tbody tr th:only-of-type {\n",
       "        vertical-align: middle;\n",
       "    }\n",
       "\n",
       "    .dataframe tbody tr th {\n",
       "        vertical-align: top;\n",
       "    }\n",
       "\n",
       "    .dataframe thead th {\n",
       "        text-align: right;\n",
       "    }\n",
       "</style>\n",
       "<table border=\"1\" class=\"dataframe\">\n",
       "  <thead>\n",
       "    <tr style=\"text-align: right;\">\n",
       "      <th></th>\n",
       "      <th>DATE</th>\n",
       "      <th>STORE_NBR</th>\n",
       "      <th>LYLTY_CARD_NBR</th>\n",
       "      <th>TXN_ID</th>\n",
       "      <th>PROD_NBR</th>\n",
       "      <th>PROD_NAME</th>\n",
       "      <th>PROD_QTY</th>\n",
       "      <th>TOT_SALES</th>\n",
       "    </tr>\n",
       "  </thead>\n",
       "  <tbody>\n",
       "    <tr>\n",
       "      <th>0</th>\n",
       "      <td>1899-12-30 00:00:00.000043390</td>\n",
       "      <td>1</td>\n",
       "      <td>1000</td>\n",
       "      <td>1</td>\n",
       "      <td>5</td>\n",
       "      <td>Natural Chip        Compny SeaSaltg</td>\n",
       "      <td>2</td>\n",
       "      <td>6.0</td>\n",
       "    </tr>\n",
       "    <tr>\n",
       "      <th>2</th>\n",
       "      <td>1899-12-30 00:00:00.000043605</td>\n",
       "      <td>1</td>\n",
       "      <td>1343</td>\n",
       "      <td>383</td>\n",
       "      <td>61</td>\n",
       "      <td>Smiths Crinkle Cut  Chips Chicken g</td>\n",
       "      <td>2</td>\n",
       "      <td>2.9</td>\n",
       "    </tr>\n",
       "    <tr>\n",
       "      <th>3</th>\n",
       "      <td>1899-12-30 00:00:00.000043329</td>\n",
       "      <td>2</td>\n",
       "      <td>2373</td>\n",
       "      <td>974</td>\n",
       "      <td>69</td>\n",
       "      <td>Smiths Chip Thinly  SCreamOnion g</td>\n",
       "      <td>5</td>\n",
       "      <td>15.0</td>\n",
       "    </tr>\n",
       "    <tr>\n",
       "      <th>6</th>\n",
       "      <td>1899-12-30 00:00:00.000043601</td>\n",
       "      <td>4</td>\n",
       "      <td>4149</td>\n",
       "      <td>3333</td>\n",
       "      <td>16</td>\n",
       "      <td>Smiths Crinkle Chips Salt  Vinegar g</td>\n",
       "      <td>1</td>\n",
       "      <td>5.7</td>\n",
       "    </tr>\n",
       "    <tr>\n",
       "      <th>8</th>\n",
       "      <td>1899-12-30 00:00:00.000043332</td>\n",
       "      <td>5</td>\n",
       "      <td>5026</td>\n",
       "      <td>4525</td>\n",
       "      <td>42</td>\n",
       "      <td>Doritos Corn Chip Mexican Jalapeno g</td>\n",
       "      <td>1</td>\n",
       "      <td>3.9</td>\n",
       "    </tr>\n",
       "  </tbody>\n",
       "</table>\n",
       "</div>"
      ],
      "text/plain": [
       "                           DATE  STORE_NBR  LYLTY_CARD_NBR  TXN_ID  PROD_NBR  \\\n",
       "0 1899-12-30 00:00:00.000043390          1            1000       1         5   \n",
       "2 1899-12-30 00:00:00.000043605          1            1343     383        61   \n",
       "3 1899-12-30 00:00:00.000043329          2            2373     974        69   \n",
       "6 1899-12-30 00:00:00.000043601          4            4149    3333        16   \n",
       "8 1899-12-30 00:00:00.000043332          5            5026    4525        42   \n",
       "\n",
       "                              PROD_NAME  PROD_QTY  TOT_SALES  \n",
       "0   Natural Chip        Compny SeaSaltg         2        6.0  \n",
       "2   Smiths Crinkle Cut  Chips Chicken g         2        2.9  \n",
       "3     Smiths Chip Thinly  SCreamOnion g         5       15.0  \n",
       "6  Smiths Crinkle Chips Salt  Vinegar g         1        5.7  \n",
       "8  Doritos Corn Chip Mexican Jalapeno g         1        3.9  "
      ]
     },
     "execution_count": 26,
     "metadata": {},
     "output_type": "execute_result"
    }
   ],
   "source": [
    "# keep only products that hasthe name \"chip\" in it\n",
    "transaction_df = transaction_df[transaction_df[\"PROD_NAME\"].str.lower().str.contains(\"chip\")]\n",
    "transaction_df.head()"
   ]
  },
  {
   "cell_type": "markdown",
   "id": "96d38c63",
   "metadata": {},
   "source": [
    "**Check for null values**"
   ]
  },
  {
   "cell_type": "code",
   "execution_count": 27,
   "id": "cf47119b",
   "metadata": {},
   "outputs": [
    {
     "data": {
      "text/plain": [
       "DATE              0\n",
       "STORE_NBR         0\n",
       "LYLTY_CARD_NBR    0\n",
       "TXN_ID            0\n",
       "PROD_NBR          0\n",
       "PROD_NAME         0\n",
       "PROD_QTY          0\n",
       "TOT_SALES         0\n",
       "dtype: int64"
      ]
     },
     "execution_count": 27,
     "metadata": {},
     "output_type": "execute_result"
    }
   ],
   "source": [
    "# Check for null values\n",
    "transaction_df.isnull().sum()"
   ]
  },
  {
   "cell_type": "markdown",
   "id": "4c136b07",
   "metadata": {},
   "source": [
    "There are no null values in the data"
   ]
  },
  {
   "cell_type": "markdown",
   "id": "ed044703",
   "metadata": {},
   "source": [
    "**Check for outliers**"
   ]
  },
  {
   "cell_type": "code",
   "execution_count": 29,
   "id": "0c69c89c",
   "metadata": {},
   "outputs": [
    {
     "data": {
      "text/html": [
       "<div>\n",
       "<style scoped>\n",
       "    .dataframe tbody tr th:only-of-type {\n",
       "        vertical-align: middle;\n",
       "    }\n",
       "\n",
       "    .dataframe tbody tr th {\n",
       "        vertical-align: top;\n",
       "    }\n",
       "\n",
       "    .dataframe thead th {\n",
       "        text-align: right;\n",
       "    }\n",
       "</style>\n",
       "<table border=\"1\" class=\"dataframe\">\n",
       "  <thead>\n",
       "    <tr style=\"text-align: right;\">\n",
       "      <th></th>\n",
       "      <th>STORE_NBR</th>\n",
       "      <th>LYLTY_CARD_NBR</th>\n",
       "      <th>TXN_ID</th>\n",
       "      <th>PROD_NBR</th>\n",
       "      <th>PROD_QTY</th>\n",
       "      <th>TOT_SALES</th>\n",
       "    </tr>\n",
       "  </thead>\n",
       "  <tbody>\n",
       "    <tr>\n",
       "      <th>count</th>\n",
       "      <td>74570.000000</td>\n",
       "      <td>7.457000e+04</td>\n",
       "      <td>74570.000000</td>\n",
       "      <td>74570.000000</td>\n",
       "      <td>74570.000000</td>\n",
       "      <td>74570.000000</td>\n",
       "    </tr>\n",
       "    <tr>\n",
       "      <th>mean</th>\n",
       "      <td>135.457651</td>\n",
       "      <td>1.359095e+05</td>\n",
       "      <td>135533.580448</td>\n",
       "      <td>50.651039</td>\n",
       "      <td>1.904264</td>\n",
       "      <td>6.860511</td>\n",
       "    </tr>\n",
       "    <tr>\n",
       "      <th>std</th>\n",
       "      <td>76.753058</td>\n",
       "      <td>8.025342e+04</td>\n",
       "      <td>77960.794363</td>\n",
       "      <td>32.792579</td>\n",
       "      <td>0.343675</td>\n",
       "      <td>2.256661</td>\n",
       "    </tr>\n",
       "    <tr>\n",
       "      <th>min</th>\n",
       "      <td>1.000000</td>\n",
       "      <td>1.000000e+03</td>\n",
       "      <td>1.000000</td>\n",
       "      <td>1.000000</td>\n",
       "      <td>1.000000</td>\n",
       "      <td>1.900000</td>\n",
       "    </tr>\n",
       "    <tr>\n",
       "      <th>25%</th>\n",
       "      <td>70.000000</td>\n",
       "      <td>7.013000e+04</td>\n",
       "      <td>68237.250000</td>\n",
       "      <td>27.000000</td>\n",
       "      <td>2.000000</td>\n",
       "      <td>5.800000</td>\n",
       "    </tr>\n",
       "    <tr>\n",
       "      <th>50%</th>\n",
       "      <td>131.000000</td>\n",
       "      <td>1.311975e+05</td>\n",
       "      <td>135503.500000</td>\n",
       "      <td>42.000000</td>\n",
       "      <td>2.000000</td>\n",
       "      <td>6.600000</td>\n",
       "    </tr>\n",
       "    <tr>\n",
       "      <th>75%</th>\n",
       "      <td>203.000000</td>\n",
       "      <td>2.032402e+05</td>\n",
       "      <td>203284.250000</td>\n",
       "      <td>78.000000</td>\n",
       "      <td>2.000000</td>\n",
       "      <td>7.800000</td>\n",
       "    </tr>\n",
       "    <tr>\n",
       "      <th>max</th>\n",
       "      <td>272.000000</td>\n",
       "      <td>2.373711e+06</td>\n",
       "      <td>270209.000000</td>\n",
       "      <td>111.000000</td>\n",
       "      <td>5.000000</td>\n",
       "      <td>29.500000</td>\n",
       "    </tr>\n",
       "  </tbody>\n",
       "</table>\n",
       "</div>"
      ],
      "text/plain": [
       "          STORE_NBR  LYLTY_CARD_NBR         TXN_ID      PROD_NBR  \\\n",
       "count  74570.000000    7.457000e+04   74570.000000  74570.000000   \n",
       "mean     135.457651    1.359095e+05  135533.580448     50.651039   \n",
       "std       76.753058    8.025342e+04   77960.794363     32.792579   \n",
       "min        1.000000    1.000000e+03       1.000000      1.000000   \n",
       "25%       70.000000    7.013000e+04   68237.250000     27.000000   \n",
       "50%      131.000000    1.311975e+05  135503.500000     42.000000   \n",
       "75%      203.000000    2.032402e+05  203284.250000     78.000000   \n",
       "max      272.000000    2.373711e+06  270209.000000    111.000000   \n",
       "\n",
       "           PROD_QTY     TOT_SALES  \n",
       "count  74570.000000  74570.000000  \n",
       "mean       1.904264      6.860511  \n",
       "std        0.343675      2.256661  \n",
       "min        1.000000      1.900000  \n",
       "25%        2.000000      5.800000  \n",
       "50%        2.000000      6.600000  \n",
       "75%        2.000000      7.800000  \n",
       "max        5.000000     29.500000  "
      ]
     },
     "execution_count": 29,
     "metadata": {},
     "output_type": "execute_result"
    }
   ],
   "source": [
    "# Check for outliers\n",
    "transaction_df.describe()"
   ]
  },
  {
   "cell_type": "code",
   "execution_count": 32,
   "id": "e4f73026",
   "metadata": {},
   "outputs": [
    {
     "data": {
      "text/plain": [
       "['STORE_NBR', 'LYLTY_CARD_NBR', 'TXN_ID', 'PROD_NBR', 'PROD_QTY', 'TOT_SALES']"
      ]
     },
     "execution_count": 32,
     "metadata": {},
     "output_type": "execute_result"
    }
   ],
   "source": [
    "# get numeric columns\n",
    "t_num_col = list(transaction_df.select_dtypes(include=[\"int64\", \"float64\"]).columns)\n",
    "t_num_col"
   ]
  },
  {
   "cell_type": "code",
   "execution_count": 37,
   "id": "e39a42f3",
   "metadata": {
    "scrolled": false
   },
   "outputs": [
    {
     "name": "stdout",
     "output_type": "stream",
     "text": [
      "Distribution plots for the feature STORE_NBR are shown below \n"
     ]
    },
    {
     "data": {
      "image/png": "[encoded data removed]",
      "text/plain": [
       "<Figure size 2000x700 with 3 Axes>"
      ]
     },
     "metadata": {},
     "output_type": "display_data"
    },
    {
     "name": "stdout",
     "output_type": "stream",
     "text": [
      "....................................................................................................\n",
      "Distribution plots for the feature LYLTY_CARD_NBR are shown below \n"
     ]
    },
    {
     "data": {
      "image/png": "[encoded data removed]",
      "text/plain": [
       "<Figure size 2000x700 with 3 Axes>"
      ]
     },
     "metadata": {},
     "output_type": "display_data"
    },
    {
     "name": "stdout",
     "output_type": "stream",
     "text": [
      "....................................................................................................\n",
      "Distribution plots for the feature TXN_ID are shown below \n"
     ]
    },
    {
     "data": {
      "image/png": "[encoded data removed]",
      "text/plain": [
       "<Figure size 2000x700 with 3 Axes>"
      ]
     },
     "metadata": {},
     "output_type": "display_data"
    },
    {
     "name": "stdout",
     "output_type": "stream",
     "text": [
      "....................................................................................................\n",
      "Distribution plots for the feature PROD_NBR are shown below \n"
     ]
    },
    {
     "data": {
      "image/png": "[encoded data removed]",
      "text/plain": [
       "<Figure size 2000x700 with 3 Axes>"
      ]
     },
     "metadata": {},
     "output_type": "display_data"
    },
    {
     "name": "stdout",
     "output_type": "stream",
     "text": [
      "....................................................................................................\n",
      "Distribution plots for the feature PROD_QTY are shown below \n"
     ]
    },
    {
     "data": {
      "image/png": "[encoded data removed]",
      "text/plain": [
       "<Figure size 2000x700 with 3 Axes>"
      ]
     },
     "metadata": {},
     "output_type": "display_data"
    },
    {
     "name": "stdout",
     "output_type": "stream",
     "text": [
      "....................................................................................................\n",
      "Distribution plots for the feature TOT_SALES are shown below \n"
     ]
    },
    {
     "data": {
      "image/png": "[encoded data removed]",
      "text/plain": [
       "<Figure size 2000x700 with 3 Axes>"
      ]
     },
     "metadata": {},
     "output_type": "display_data"
    },
    {
     "name": "stdout",
     "output_type": "stream",
     "text": [
      "....................................................................................................\n"
     ]
    }
   ],
   "source": [
    "# function that plots the distribution\n",
    "def draw_plots(df, col):\n",
    "    \n",
    "    plt.figure(figsize=(20, 7))\n",
    "    plt.subplot(1, 3, 1)\n",
    "    plt.hist(df[col], color=\"magenta\")\n",
    "    \n",
    "    plt.subplot(1, 3, 2)\n",
    "    stats.probplot(df[col], dist=\"norm\", plot=plt)\n",
    "    \n",
    "    plt.subplot(1, 3, 3)\n",
    "    sns.boxplot(df[col], color=\"magenta\")\n",
    "    \n",
    "    plt.show()\n",
    "\n",
    "for i in range(len(t_num_col)):\n",
    "    \n",
    "    print(f\"Distribution plots for the feature {t_num_col[i]} are shown below \")\n",
    "    \n",
    "    draw_plots(transaction_df, t_num_col[i])\n",
    "    \n",
    "    print(\".\"*100)"
   ]
  },
  {
   "cell_type": "markdown",
   "id": "bceab06f",
   "metadata": {},
   "source": [
    "We can clearly see that there are outliers in the dataset\n",
    "\n",
    "**Handling outliers**"
   ]
  },
  {
   "cell_type": "code",
   "execution_count": 38,
   "id": "bfdcf81a",
   "metadata": {},
   "outputs": [],
   "source": [
    "upper_limit = []\n",
    "lower_limit = []\n",
    "for i in t_num_col:\n",
    "    upper_limit.append(transaction_df[i].mean() + (transaction_df[i].std())*4)\n",
    "    lower_limit.append(transaction_df[i].mean() - (transaction_df[i].std())*4)"
   ]
  },
  {
   "cell_type": "code",
   "execution_count": 41,
   "id": "5f361874",
   "metadata": {},
   "outputs": [
    {
     "data": {
      "text/plain": [
       "[442.46988395831573,\n",
       " 456923.16082018544,\n",
       " 447376.7578985613,\n",
       " 181.8213551115708,\n",
       " 3.2789654229248266,\n",
       " 15.887155250193294]"
      ]
     },
     "execution_count": 41,
     "metadata": {},
     "output_type": "execute_result"
    }
   ],
   "source": [
    "upper_limit"
   ]
  },
  {
   "cell_type": "code",
   "execution_count": 42,
   "id": "9b3e20cd",
   "metadata": {},
   "outputs": [
    {
     "data": {
      "text/plain": [
       "[-171.55458289890845,\n",
       " -185104.2052080089,\n",
       " -176309.59700275873,\n",
       " -80.51927652768987,\n",
       " 0.5295634760962273,\n",
       " -2.1661333915370005]"
      ]
     },
     "execution_count": 42,
     "metadata": {},
     "output_type": "execute_result"
    }
   ],
   "source": [
    "lower_limit"
   ]
  },
  {
   "cell_type": "code",
   "execution_count": 43,
   "id": "64afa41b",
   "metadata": {},
   "outputs": [],
   "source": [
    "j = 0\n",
    "for i in range(len(t_num_col)):\n",
    "    \n",
    "    temp = transaction_df.loc[(transaction_df[t_num_col[i]]>upper_limit[j]) | (transaction_df[t_num_col[i]]<lower_limit[j])]\n",
    "    j += 1"
   ]
  },
  {
   "cell_type": "code",
   "execution_count": 44,
   "id": "062e9dc5",
   "metadata": {},
   "outputs": [
    {
     "data": {
      "text/html": [
       "<div>\n",
       "<style scoped>\n",
       "    .dataframe tbody tr th:only-of-type {\n",
       "        vertical-align: middle;\n",
       "    }\n",
       "\n",
       "    .dataframe tbody tr th {\n",
       "        vertical-align: top;\n",
       "    }\n",
       "\n",
       "    .dataframe thead th {\n",
       "        text-align: right;\n",
       "    }\n",
       "</style>\n",
       "<table border=\"1\" class=\"dataframe\">\n",
       "  <thead>\n",
       "    <tr style=\"text-align: right;\">\n",
       "      <th></th>\n",
       "      <th>DATE</th>\n",
       "      <th>STORE_NBR</th>\n",
       "      <th>LYLTY_CARD_NBR</th>\n",
       "      <th>TXN_ID</th>\n",
       "      <th>PROD_NBR</th>\n",
       "      <th>PROD_NAME</th>\n",
       "      <th>PROD_QTY</th>\n",
       "      <th>TOT_SALES</th>\n",
       "    </tr>\n",
       "  </thead>\n",
       "  <tbody>\n",
       "    <tr>\n",
       "      <th>100</th>\n",
       "      <td>1899-12-30 00:00:00.000043605</td>\n",
       "      <td>130</td>\n",
       "      <td>130108</td>\n",
       "      <td>134125</td>\n",
       "      <td>2</td>\n",
       "      <td>Cobs Popd Sour Crm  Chives Chips g</td>\n",
       "      <td>5</td>\n",
       "      <td>19.0</td>\n",
       "    </tr>\n",
       "    <tr>\n",
       "      <th>102</th>\n",
       "      <td>1899-12-30 00:00:00.000043600</td>\n",
       "      <td>133</td>\n",
       "      <td>133250</td>\n",
       "      <td>137666</td>\n",
       "      <td>30</td>\n",
       "      <td>Doritos Corn Chips  Cheese Supreme g</td>\n",
       "      <td>4</td>\n",
       "      <td>17.6</td>\n",
       "    </tr>\n",
       "    <tr>\n",
       "      <th>165</th>\n",
       "      <td>1899-12-30 00:00:00.000043602</td>\n",
       "      <td>222</td>\n",
       "      <td>222209</td>\n",
       "      <td>222693</td>\n",
       "      <td>40</td>\n",
       "      <td>Thins Chips Seasonedchicken g</td>\n",
       "      <td>5</td>\n",
       "      <td>16.5</td>\n",
       "    </tr>\n",
       "    <tr>\n",
       "      <th>5064</th>\n",
       "      <td>1899-12-30 00:00:00.000043601</td>\n",
       "      <td>26</td>\n",
       "      <td>26185</td>\n",
       "      <td>23086</td>\n",
       "      <td>93</td>\n",
       "      <td>Doritos Corn Chip Southern Chicken g</td>\n",
       "      <td>5</td>\n",
       "      <td>19.5</td>\n",
       "    </tr>\n",
       "    <tr>\n",
       "      <th>5156</th>\n",
       "      <td>1899-12-30 00:00:00.000043604</td>\n",
       "      <td>81</td>\n",
       "      <td>81035</td>\n",
       "      <td>79885</td>\n",
       "      <td>2</td>\n",
       "      <td>Cobs Popd Sour Crm  Chives Chips g</td>\n",
       "      <td>5</td>\n",
       "      <td>19.0</td>\n",
       "    </tr>\n",
       "    <tr>\n",
       "      <th>...</th>\n",
       "      <td>...</td>\n",
       "      <td>...</td>\n",
       "      <td>...</td>\n",
       "      <td>...</td>\n",
       "      <td>...</td>\n",
       "      <td>...</td>\n",
       "      <td>...</td>\n",
       "      <td>...</td>\n",
       "    </tr>\n",
       "    <tr>\n",
       "      <th>237880</th>\n",
       "      <td>1899-12-30 00:00:00.000043330</td>\n",
       "      <td>60</td>\n",
       "      <td>60321</td>\n",
       "      <td>57513</td>\n",
       "      <td>14</td>\n",
       "      <td>Smiths Crnkle Chip  Orgnl Big Bag g</td>\n",
       "      <td>3</td>\n",
       "      <td>17.7</td>\n",
       "    </tr>\n",
       "    <tr>\n",
       "      <th>238264</th>\n",
       "      <td>1899-12-30 00:00:00.000043329</td>\n",
       "      <td>197</td>\n",
       "      <td>197279</td>\n",
       "      <td>197208</td>\n",
       "      <td>30</td>\n",
       "      <td>Doritos Corn Chips  Cheese Supreme g</td>\n",
       "      <td>4</td>\n",
       "      <td>17.6</td>\n",
       "    </tr>\n",
       "    <tr>\n",
       "      <th>238397</th>\n",
       "      <td>1899-12-30 00:00:00.000043603</td>\n",
       "      <td>238</td>\n",
       "      <td>238337</td>\n",
       "      <td>243243</td>\n",
       "      <td>28</td>\n",
       "      <td>Thins Potato Chips  Hot  Spicy g</td>\n",
       "      <td>5</td>\n",
       "      <td>16.5</td>\n",
       "    </tr>\n",
       "    <tr>\n",
       "      <th>258632</th>\n",
       "      <td>1899-12-30 00:00:00.000043602</td>\n",
       "      <td>88</td>\n",
       "      <td>88142</td>\n",
       "      <td>86924</td>\n",
       "      <td>78</td>\n",
       "      <td>Thins Chips Salt   Vinegar g</td>\n",
       "      <td>5</td>\n",
       "      <td>16.5</td>\n",
       "    </tr>\n",
       "    <tr>\n",
       "      <th>258726</th>\n",
       "      <td>1899-12-30 00:00:00.000043332</td>\n",
       "      <td>203</td>\n",
       "      <td>203253</td>\n",
       "      <td>203360</td>\n",
       "      <td>28</td>\n",
       "      <td>Thins Potato Chips  Hot  Spicy g</td>\n",
       "      <td>5</td>\n",
       "      <td>16.5</td>\n",
       "    </tr>\n",
       "  </tbody>\n",
       "</table>\n",
       "<p>116 rows × 8 columns</p>\n",
       "</div>"
      ],
      "text/plain": [
       "                                DATE  STORE_NBR  LYLTY_CARD_NBR  TXN_ID  \\\n",
       "100    1899-12-30 00:00:00.000043605        130          130108  134125   \n",
       "102    1899-12-30 00:00:00.000043600        133          133250  137666   \n",
       "165    1899-12-30 00:00:00.000043602        222          222209  222693   \n",
       "5064   1899-12-30 00:00:00.000043601         26           26185   23086   \n",
       "5156   1899-12-30 00:00:00.000043604         81           81035   79885   \n",
       "...                              ...        ...             ...     ...   \n",
       "237880 1899-12-30 00:00:00.000043330         60           60321   57513   \n",
       "238264 1899-12-30 00:00:00.000043329        197          197279  197208   \n",
       "238397 1899-12-30 00:00:00.000043603        238          238337  243243   \n",
       "258632 1899-12-30 00:00:00.000043602         88           88142   86924   \n",
       "258726 1899-12-30 00:00:00.000043332        203          203253  203360   \n",
       "\n",
       "        PROD_NBR                             PROD_NAME  PROD_QTY  TOT_SALES  \n",
       "100            2    Cobs Popd Sour Crm  Chives Chips g         5       19.0  \n",
       "102           30  Doritos Corn Chips  Cheese Supreme g         4       17.6  \n",
       "165           40         Thins Chips Seasonedchicken g         5       16.5  \n",
       "5064          93  Doritos Corn Chip Southern Chicken g         5       19.5  \n",
       "5156           2    Cobs Popd Sour Crm  Chives Chips g         5       19.0  \n",
       "...          ...                                   ...       ...        ...  \n",
       "237880        14   Smiths Crnkle Chip  Orgnl Big Bag g         3       17.7  \n",
       "238264        30  Doritos Corn Chips  Cheese Supreme g         4       17.6  \n",
       "238397        28      Thins Potato Chips  Hot  Spicy g         5       16.5  \n",
       "258632        78          Thins Chips Salt   Vinegar g         5       16.5  \n",
       "258726        28      Thins Potato Chips  Hot  Spicy g         5       16.5  \n",
       "\n",
       "[116 rows x 8 columns]"
      ]
     },
     "execution_count": 44,
     "metadata": {},
     "output_type": "execute_result"
    }
   ],
   "source": [
    "# Outliers\n",
    "temp"
   ]
  },
  {
   "cell_type": "code",
   "execution_count": 48,
   "id": "f98367d9",
   "metadata": {},
   "outputs": [
    {
     "data": {
      "text/html": [
       "<div>\n",
       "<style scoped>\n",
       "    .dataframe tbody tr th:only-of-type {\n",
       "        vertical-align: middle;\n",
       "    }\n",
       "\n",
       "    .dataframe tbody tr th {\n",
       "        vertical-align: top;\n",
       "    }\n",
       "\n",
       "    .dataframe thead th {\n",
       "        text-align: right;\n",
       "    }\n",
       "</style>\n",
       "<table border=\"1\" class=\"dataframe\">\n",
       "  <thead>\n",
       "    <tr style=\"text-align: right;\">\n",
       "      <th></th>\n",
       "      <th>DATE</th>\n",
       "      <th>STORE_NBR</th>\n",
       "      <th>LYLTY_CARD_NBR</th>\n",
       "      <th>TXN_ID</th>\n",
       "      <th>PROD_NBR</th>\n",
       "      <th>PROD_NAME</th>\n",
       "      <th>PROD_QTY</th>\n",
       "      <th>TOT_SALES</th>\n",
       "    </tr>\n",
       "  </thead>\n",
       "  <tbody>\n",
       "  </tbody>\n",
       "</table>\n",
       "</div>"
      ],
      "text/plain": [
       "Empty DataFrame\n",
       "Columns: [DATE, STORE_NBR, LYLTY_CARD_NBR, TXN_ID, PROD_NBR, PROD_NAME, PROD_QTY, TOT_SALES]\n",
       "Index: []"
      ]
     },
     "execution_count": 48,
     "metadata": {},
     "output_type": "execute_result"
    }
   ],
   "source": [
    "te"
   ]
  },
  {
   "cell_type": "code",
   "execution_count": 56,
   "id": "7b0f361a",
   "metadata": {},
   "outputs": [
    {
     "name": "stderr",
     "output_type": "stream",
     "text": [
      "C:\\Users\\Segun Lawal\\AppData\\Local\\Temp\\ipykernel_14572\\2391395432.py:1: FutureWarning: The default value of numeric_only in DataFrameGroupBy.sum is deprecated. In a future version, numeric_only will default to False. Either specify numeric_only or select only columns which should be valid for the function.\n",
      "  transaction_df.groupby([\"LYLTY_CARD_NBR\"]).sum().sort_values(by=\"PROD_NBR\", ascending=False)\n"
     ]
    },
    {
     "data": {
      "text/html": [
       "<div>\n",
       "<style scoped>\n",
       "    .dataframe tbody tr th:only-of-type {\n",
       "        vertical-align: middle;\n",
       "    }\n",
       "\n",
       "    .dataframe tbody tr th {\n",
       "        vertical-align: top;\n",
       "    }\n",
       "\n",
       "    .dataframe thead th {\n",
       "        text-align: right;\n",
       "    }\n",
       "</style>\n",
       "<table border=\"1\" class=\"dataframe\">\n",
       "  <thead>\n",
       "    <tr style=\"text-align: right;\">\n",
       "      <th></th>\n",
       "      <th>STORE_NBR</th>\n",
       "      <th>TXN_ID</th>\n",
       "      <th>PROD_NBR</th>\n",
       "      <th>PROD_QTY</th>\n",
       "      <th>TOT_SALES</th>\n",
       "    </tr>\n",
       "    <tr>\n",
       "      <th>LYLTY_CARD_NBR</th>\n",
       "      <th></th>\n",
       "      <th></th>\n",
       "      <th></th>\n",
       "      <th></th>\n",
       "      <th></th>\n",
       "    </tr>\n",
       "  </thead>\n",
       "  <tbody>\n",
       "    <tr>\n",
       "      <th>107167</th>\n",
       "      <td>963</td>\n",
       "      <td>983613</td>\n",
       "      <td>617</td>\n",
       "      <td>17</td>\n",
       "      <td>53.5</td>\n",
       "    </tr>\n",
       "    <tr>\n",
       "      <th>179063</th>\n",
       "      <td>1074</td>\n",
       "      <td>1077835</td>\n",
       "      <td>610</td>\n",
       "      <td>12</td>\n",
       "      <td>33.0</td>\n",
       "    </tr>\n",
       "    <tr>\n",
       "      <th>113080</th>\n",
       "      <td>904</td>\n",
       "      <td>927188</td>\n",
       "      <td>540</td>\n",
       "      <td>16</td>\n",
       "      <td>55.6</td>\n",
       "    </tr>\n",
       "    <tr>\n",
       "      <th>32060</th>\n",
       "      <td>288</td>\n",
       "      <td>255193</td>\n",
       "      <td>535</td>\n",
       "      <td>18</td>\n",
       "      <td>68.6</td>\n",
       "    </tr>\n",
       "    <tr>\n",
       "      <th>28020</th>\n",
       "      <td>224</td>\n",
       "      <td>197221</td>\n",
       "      <td>530</td>\n",
       "      <td>16</td>\n",
       "      <td>57.8</td>\n",
       "    </tr>\n",
       "    <tr>\n",
       "      <th>...</th>\n",
       "      <td>...</td>\n",
       "      <td>...</td>\n",
       "      <td>...</td>\n",
       "      <td>...</td>\n",
       "      <td>...</td>\n",
       "    </tr>\n",
       "    <tr>\n",
       "      <th>51395</th>\n",
       "      <td>51</td>\n",
       "      <td>47087</td>\n",
       "      <td>1</td>\n",
       "      <td>1</td>\n",
       "      <td>2.9</td>\n",
       "    </tr>\n",
       "    <tr>\n",
       "      <th>208069</th>\n",
       "      <td>208</td>\n",
       "      <td>206499</td>\n",
       "      <td>1</td>\n",
       "      <td>2</td>\n",
       "      <td>5.8</td>\n",
       "    </tr>\n",
       "    <tr>\n",
       "      <th>241025</th>\n",
       "      <td>241</td>\n",
       "      <td>244698</td>\n",
       "      <td>1</td>\n",
       "      <td>2</td>\n",
       "      <td>5.8</td>\n",
       "    </tr>\n",
       "    <tr>\n",
       "      <th>259185</th>\n",
       "      <td>259</td>\n",
       "      <td>258631</td>\n",
       "      <td>1</td>\n",
       "      <td>2</td>\n",
       "      <td>5.8</td>\n",
       "    </tr>\n",
       "    <tr>\n",
       "      <th>53486</th>\n",
       "      <td>53</td>\n",
       "      <td>47783</td>\n",
       "      <td>1</td>\n",
       "      <td>1</td>\n",
       "      <td>2.9</td>\n",
       "    </tr>\n",
       "  </tbody>\n",
       "</table>\n",
       "<p>43625 rows × 5 columns</p>\n",
       "</div>"
      ],
      "text/plain": [
       "                STORE_NBR   TXN_ID  PROD_NBR  PROD_QTY  TOT_SALES\n",
       "LYLTY_CARD_NBR                                                   \n",
       "107167                963   983613       617        17       53.5\n",
       "179063               1074  1077835       610        12       33.0\n",
       "113080                904   927188       540        16       55.6\n",
       "32060                 288   255193       535        18       68.6\n",
       "28020                 224   197221       530        16       57.8\n",
       "...                   ...      ...       ...       ...        ...\n",
       "51395                  51    47087         1         1        2.9\n",
       "208069                208   206499         1         2        5.8\n",
       "241025                241   244698         1         2        5.8\n",
       "259185                259   258631         1         2        5.8\n",
       "53486                  53    47783         1         1        2.9\n",
       "\n",
       "[43625 rows x 5 columns]"
      ]
     },
     "execution_count": 56,
     "metadata": {},
     "output_type": "execute_result"
    }
   ],
   "source": [
    "transaction_df.groupby([\"LYLTY_CARD_NBR\"]).sum().sort_values(by=\"PROD_NBR\", ascending=False)"
   ]
  },
  {
   "cell_type": "code",
   "execution_count": 57,
   "id": "92924eed",
   "metadata": {},
   "outputs": [
    {
     "data": {
      "text/plain": [
       "2    66392\n",
       "1     7835\n",
       "5      127\n",
       "3      117\n",
       "4       99\n",
       "Name: PROD_QTY, dtype: int64"
      ]
     },
     "execution_count": 57,
     "metadata": {},
     "output_type": "execute_result"
    }
   ],
   "source": [
    "transaction_df[\"PROD_QTY\"].value_counts()"
   ]
  }
 ],
 "metadata": {
  "kernelspec": {
   "display_name": "Python 3 (ipykernel)",
   "language": "python",
   "name": "python3"
  },
  "language_info": {
   "codemirror_mode": {
    "name": "ipython",
    "version": 3
   },
   "file_extension": ".py",
   "mimetype": "text/x-python",
   "name": "python",
   "nbconvert_exporter": "python",
   "pygments_lexer": "ipython3",
   "version": "3.10.8"
  }
 },
 "nbformat": 4,
 "nbformat_minor": 5
}
