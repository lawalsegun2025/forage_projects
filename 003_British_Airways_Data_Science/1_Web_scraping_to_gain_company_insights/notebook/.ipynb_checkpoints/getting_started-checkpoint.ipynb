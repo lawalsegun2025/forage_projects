{
 "cells": [
  {
   "cell_type": "markdown",
   "metadata": {},
   "source": [
    "# Task 1\n",
    "\n",
    "---\n",
    "\n",
    "## Web scraping and analysis\n",
    "\n",
    "This Jupyter notebook includes some code to get you started with web scraping. We will use a package called `BeautifulSoup` to collect the data from the web. Once you've collected your data and saved it into a local `.csv` file you should start with your analysis.\n",
    "\n",
    "### Scraping data from Skytrax\n",
    "\n",
    "If you visit [https://www.airlinequality.com](https://www.airlinequality.com) you can see that there is a lot of data there. For this task, we are only interested in reviews related to British Airways and the Airline itself.\n",
    "\n",
    "If you navigate to this link: [https://www.airlinequality.com/airline-reviews/british-airways](https://www.airlinequality.com/airline-reviews/british-airways) you will see this data. Now, we can use `Python` and `BeautifulSoup` to collect all the links to the reviews and then to collect the text data on each of the individual review links."
   ]
  },
  {
   "cell_type": "code",
   "execution_count": 4,
   "metadata": {},
   "outputs": [
    {
     "name": "stdout",
     "output_type": "stream",
     "text": [
      "Collecting requests\n",
      "  Downloading requests-2.28.2-py3-none-any.whl (62 kB)\n",
      "     -------------------------------------- 62.8/62.8 kB 305.7 kB/s eta 0:00:00\n",
      "Requirement already satisfied: idna<4,>=2.5 in c:\\users\\segun lawal\\anaconda3\\envs\\zero_to_mastery_ml\\lib\\site-packages (from requests) (3.4)\n",
      "Collecting charset-normalizer<4,>=2\n",
      "  Downloading charset_normalizer-3.1.0-cp310-cp310-win_amd64.whl (97 kB)\n",
      "     -------------------------------------- 97.1/97.1 kB 504.8 kB/s eta 0:00:00\n",
      "Requirement already satisfied: certifi>=2017.4.17 in c:\\users\\segun lawal\\anaconda3\\envs\\zero_to_mastery_ml\\lib\\site-packages (from requests) (2022.12.7)\n",
      "Collecting urllib3<1.27,>=1.21.1\n",
      "  Downloading urllib3-1.26.14-py2.py3-none-any.whl (140 kB)\n",
      "     ------------------------------------ 140.6/140.6 kB 642.4 kB/s eta 0:00:00\n",
      "Installing collected packages: urllib3, charset-normalizer, requests\n",
      "Successfully installed charset-normalizer-3.1.0 requests-2.28.2 urllib3-1.26.14\n"
     ]
    }
   ],
   "source": [
    "# # Install the requests module\n",
    "# !pip install requests"
   ]
  },
  {
   "cell_type": "code",
   "execution_count": 1,
   "metadata": {},
   "outputs": [],
   "source": [
    "# import requests\n",
    "# from bs4 import BeautifulSoup\n",
    "import pandas as pd"
   ]
  },
  {
   "cell_type": "code",
   "execution_count": 2,
   "metadata": {
    "scrolled": false
   },
   "outputs": [
    {
     "name": "stdout",
     "output_type": "stream",
     "text": [
      "Scraping page 1\n",
      "   ---> 100 total reviews\n",
      "Scraping page 2\n",
      "   ---> 200 total reviews\n",
      "Scraping page 3\n",
      "   ---> 300 total reviews\n",
      "Scraping page 4\n",
      "   ---> 400 total reviews\n",
      "Scraping page 5\n",
      "   ---> 500 total reviews\n",
      "Scraping page 6\n",
      "   ---> 600 total reviews\n",
      "Scraping page 7\n",
      "   ---> 700 total reviews\n",
      "Scraping page 8\n",
      "   ---> 800 total reviews\n",
      "Scraping page 9\n",
      "   ---> 900 total reviews\n",
      "Scraping page 10\n",
      "   ---> 1000 total reviews\n",
      "Scraping page 11\n",
      "   ---> 1100 total reviews\n",
      "Scraping page 12\n",
      "   ---> 1200 total reviews\n",
      "Scraping page 13\n",
      "   ---> 1300 total reviews\n",
      "Scraping page 14\n",
      "   ---> 1400 total reviews\n",
      "Scraping page 15\n",
      "   ---> 1500 total reviews\n",
      "Scraping page 16\n",
      "   ---> 1600 total reviews\n",
      "Scraping page 17\n",
      "   ---> 1700 total reviews\n",
      "Scraping page 18\n",
      "   ---> 1800 total reviews\n",
      "Scraping page 19\n",
      "   ---> 1900 total reviews\n",
      "Scraping page 20\n",
      "   ---> 2000 total reviews\n",
      "Scraping page 21\n",
      "   ---> 2100 total reviews\n",
      "Scraping page 22\n",
      "   ---> 2200 total reviews\n",
      "Scraping page 23\n",
      "   ---> 2300 total reviews\n",
      "Scraping page 24\n",
      "   ---> 2400 total reviews\n",
      "Scraping page 25\n",
      "   ---> 2500 total reviews\n",
      "Scraping page 26\n",
      "   ---> 2600 total reviews\n",
      "Scraping page 27\n",
      "   ---> 2700 total reviews\n",
      "Scraping page 28\n",
      "   ---> 2800 total reviews\n",
      "Scraping page 29\n",
      "   ---> 2900 total reviews\n",
      "Scraping page 30\n",
      "   ---> 3000 total reviews\n"
     ]
    }
   ],
   "source": [
    "# base_url = \"https://www.airlinequality.com/airline-reviews/british-airways\"\n",
    "# pages = 30\n",
    "# page_size = 100\n",
    "\n",
    "# reviews = []\n",
    "\n",
    "# # for i in range(1, pages + 1):\n",
    "# for i in range(1, pages + 1):\n",
    "\n",
    "#     print(f\"Scraping page {i}\")\n",
    "\n",
    "#     # Create URL to collect links from paginated data\n",
    "#     url = f\"{base_url}/page/{i}/?sortby=post_date%3ADesc&pagesize={page_size}\"\n",
    "\n",
    "#     # Collect HTML data from this page\n",
    "#     response = requests.get(url)\n",
    "\n",
    "#     # Parse content\n",
    "#     content = response.content\n",
    "#     parsed_content = BeautifulSoup(content, 'html.parser')\n",
    "#     for para in parsed_content.find_all(\"div\", {\"class\": \"text_content\"}):\n",
    "#         reviews.append(para.get_text())\n",
    "    \n",
    "#     print(f\"   ---> {len(reviews)} total reviews\")"
   ]
  },
  {
   "cell_type": "code",
   "execution_count": 3,
   "metadata": {},
   "outputs": [
    {
     "data": {
      "text/html": [
       "<div>\n",
       "<style scoped>\n",
       "    .dataframe tbody tr th:only-of-type {\n",
       "        vertical-align: middle;\n",
       "    }\n",
       "\n",
       "    .dataframe tbody tr th {\n",
       "        vertical-align: top;\n",
       "    }\n",
       "\n",
       "    .dataframe thead th {\n",
       "        text-align: right;\n",
       "    }\n",
       "</style>\n",
       "<table border=\"1\" class=\"dataframe\">\n",
       "  <thead>\n",
       "    <tr style=\"text-align: right;\">\n",
       "      <th></th>\n",
       "      <th>reviews</th>\n",
       "    </tr>\n",
       "  </thead>\n",
       "  <tbody>\n",
       "    <tr>\n",
       "      <th>0</th>\n",
       "      <td>✅ Trip Verified |  The incoming and outgoing f...</td>\n",
       "    </tr>\n",
       "    <tr>\n",
       "      <th>1</th>\n",
       "      <td>✅ Trip Verified |  Back in December my family ...</td>\n",
       "    </tr>\n",
       "    <tr>\n",
       "      <th>2</th>\n",
       "      <td>✅ Trip Verified |  As usual the flight is dela...</td>\n",
       "    </tr>\n",
       "    <tr>\n",
       "      <th>3</th>\n",
       "      <td>✅ Trip Verified | A short BA euro trip and thi...</td>\n",
       "    </tr>\n",
       "    <tr>\n",
       "      <th>4</th>\n",
       "      <td>Not Verified |  We are flying Business class f...</td>\n",
       "    </tr>\n",
       "  </tbody>\n",
       "</table>\n",
       "</div>"
      ],
      "text/plain": [
       "                                             reviews\n",
       "0  ✅ Trip Verified |  The incoming and outgoing f...\n",
       "1  ✅ Trip Verified |  Back in December my family ...\n",
       "2  ✅ Trip Verified |  As usual the flight is dela...\n",
       "3  ✅ Trip Verified | A short BA euro trip and thi...\n",
       "4  Not Verified |  We are flying Business class f..."
      ]
     },
     "execution_count": 3,
     "metadata": {},
     "output_type": "execute_result"
    }
   ],
   "source": [
    "# df = pd.DataFrame()\n",
    "# df[\"reviews\"] = reviews\n",
    "# df.head()"
   ]
  },
  {
   "cell_type": "code",
   "execution_count": 4,
   "metadata": {},
   "outputs": [],
   "source": [
    "# df.to_csv(\"../data/BA_reviews.csv\")"
   ]
  },
  {
   "cell_type": "markdown",
   "metadata": {},
   "source": [
    "Congratulations! Now you have your dataset for this task! The loops above collected 1000 reviews by iterating through the paginated pages on the website. However, if you want to collect more data, try increasing the number of pages!\n",
    "\n",
    " The next thing that you should do is clean this data to remove any unnecessary text from each of the rows. For example, \"✅ Trip Verified\" can be removed from each row if it exists, as it's not relevant to what we want to investigate."
   ]
  },
  {
   "cell_type": "markdown",
   "metadata": {},
   "source": [
    "## Data Analysis\n",
    "\n",
    "We have increased the dataset from 1000 reviews to 3000 reviews in order to improve the output of our analysis\n",
    "\n",
    "First let us list out our analysis work flow\n",
    "\n",
    "1. Data Loading\n",
    "2. Data Cleaning\n",
    "3. Word Cloud\n",
    "4. Topic Modeling\n",
    "5. Sentiment Analysis\n",
    "\n",
    "We have scrapped and loaded the data, now lets get to cleaning the data\n",
    "\n",
    "### 1. Data Loading"
   ]
  },
  {
   "cell_type": "code",
   "execution_count": 18,
   "metadata": {},
   "outputs": [],
   "source": [
    "import pandas as pd\n",
    "df = pd.read_csv(\"../data/BA_reviews.csv\")\n",
    "df = df.drop(columns=[\"Unnamed: 0\"], errors=\"ignore\")"
   ]
  },
  {
   "cell_type": "code",
   "execution_count": 3,
   "metadata": {},
   "outputs": [
    {
     "data": {
      "text/html": [
       "<div>\n",
       "<style scoped>\n",
       "    .dataframe tbody tr th:only-of-type {\n",
       "        vertical-align: middle;\n",
       "    }\n",
       "\n",
       "    .dataframe tbody tr th {\n",
       "        vertical-align: top;\n",
       "    }\n",
       "\n",
       "    .dataframe thead th {\n",
       "        text-align: right;\n",
       "    }\n",
       "</style>\n",
       "<table border=\"1\" class=\"dataframe\">\n",
       "  <thead>\n",
       "    <tr style=\"text-align: right;\">\n",
       "      <th></th>\n",
       "      <th>reviews</th>\n",
       "    </tr>\n",
       "  </thead>\n",
       "  <tbody>\n",
       "    <tr>\n",
       "      <th>0</th>\n",
       "      <td>✅ Trip Verified |  The incoming and outgoing f...</td>\n",
       "    </tr>\n",
       "    <tr>\n",
       "      <th>1</th>\n",
       "      <td>✅ Trip Verified |  Back in December my family ...</td>\n",
       "    </tr>\n",
       "    <tr>\n",
       "      <th>2</th>\n",
       "      <td>✅ Trip Verified |  As usual the flight is dela...</td>\n",
       "    </tr>\n",
       "    <tr>\n",
       "      <th>3</th>\n",
       "      <td>✅ Trip Verified | A short BA euro trip and thi...</td>\n",
       "    </tr>\n",
       "    <tr>\n",
       "      <th>4</th>\n",
       "      <td>Not Verified |  We are flying Business class f...</td>\n",
       "    </tr>\n",
       "  </tbody>\n",
       "</table>\n",
       "</div>"
      ],
      "text/plain": [
       "                                             reviews\n",
       "0  ✅ Trip Verified |  The incoming and outgoing f...\n",
       "1  ✅ Trip Verified |  Back in December my family ...\n",
       "2  ✅ Trip Verified |  As usual the flight is dela...\n",
       "3  ✅ Trip Verified | A short BA euro trip and thi...\n",
       "4  Not Verified |  We are flying Business class f..."
      ]
     },
     "execution_count": 3,
     "metadata": {},
     "output_type": "execute_result"
    }
   ],
   "source": [
    "df.head()"
   ]
  },
  {
   "cell_type": "code",
   "execution_count": 4,
   "metadata": {},
   "outputs": [
    {
     "data": {
      "text/plain": [
       "(3000, 1)"
      ]
     },
     "execution_count": 4,
     "metadata": {},
     "output_type": "execute_result"
    }
   ],
   "source": [
    "df.shape"
   ]
  },
  {
   "cell_type": "markdown",
   "metadata": {},
   "source": [
    "### 2. Data Cleaning"
   ]
  },
  {
   "cell_type": "code",
   "execution_count": 19,
   "metadata": {},
   "outputs": [],
   "source": [
    "# Import labraries for test data cleaning\n",
    "import pandas as pd \n",
    "import re \n",
    "import string \n",
    "import nltk\n",
    "pd.set_option('display.max_colwidth', 100)\n",
    "\n",
    "stopwords = nltk.corpus.stopwords.words(\"english\")\n",
    "wn = nltk.WordNetLemmatizer()\n",
    "punct = string.punctuation"
   ]
  },
  {
   "cell_type": "code",
   "execution_count": 9,
   "metadata": {},
   "outputs": [
    {
     "data": {
      "text/plain": [
       "'to las vegas'"
      ]
     },
     "execution_count": 9,
     "metadata": {},
     "output_type": "execute_result"
    }
   ],
   "source": [
    "report = 'trip to las vegas'\n",
    "\n",
    "re.sub('^trip ', '', report)"
   ]
  },
  {
   "cell_type": "code",
   "execution_count": null,
   "metadata": {},
   "outputs": [],
   "source": []
  },
  {
   "cell_type": "code",
   "execution_count": null,
   "metadata": {},
   "outputs": [],
   "source": []
  },
  {
   "cell_type": "code",
   "execution_count": null,
   "metadata": {},
   "outputs": [],
   "source": []
  },
  {
   "cell_type": "code",
   "execution_count": 20,
   "metadata": {},
   "outputs": [
    {
     "data": {
      "text/html": [
       "<div>\n",
       "<style scoped>\n",
       "    .dataframe tbody tr th:only-of-type {\n",
       "        vertical-align: middle;\n",
       "    }\n",
       "\n",
       "    .dataframe tbody tr th {\n",
       "        vertical-align: top;\n",
       "    }\n",
       "\n",
       "    .dataframe thead th {\n",
       "        text-align: right;\n",
       "    }\n",
       "</style>\n",
       "<table border=\"1\" class=\"dataframe\">\n",
       "  <thead>\n",
       "    <tr style=\"text-align: right;\">\n",
       "      <th></th>\n",
       "      <th>reviews</th>\n",
       "      <th>cleaned_reviews</th>\n",
       "    </tr>\n",
       "  </thead>\n",
       "  <tbody>\n",
       "    <tr>\n",
       "      <th>2626</th>\n",
       "      <td>Quick online check-in and boarding passes with the BA mobile APP. It is so easy to use and defin...</td>\n",
       "      <td>quick online checkin and boarding passes with the ba mobile app it is so easy to use and definit...</td>\n",
       "    </tr>\n",
       "    <tr>\n",
       "      <th>1457</th>\n",
       "      <td>✅ Verified Review |  These are words you may not read often, but I actually enjoy the British Ai...</td>\n",
       "      <td>verified review these are words you may not read often but i actually enjoy the british airways...</td>\n",
       "    </tr>\n",
       "    <tr>\n",
       "      <th>1050</th>\n",
       "      <td>✅ Trip Verified | Hyderabad to Brussels via London. Didn't expect this from British Airways. For...</td>\n",
       "      <td>trip verified hyderabad to brussels via london didnt expect this from british airways for me qu...</td>\n",
       "    </tr>\n",
       "    <tr>\n",
       "      <th>576</th>\n",
       "      <td>Not Verified |  Good morning. I would like to write a review for British Airways. It took me a w...</td>\n",
       "      <td>not verified good morning i would like to write a review for british airways it took me a while ...</td>\n",
       "    </tr>\n",
       "    <tr>\n",
       "      <th>396</th>\n",
       "      <td>✅ Trip Verified |  Mumbai to London. The check in process was quick, efficient and friendly. Unf...</td>\n",
       "      <td>trip verified mumbai to london the check in process was quick efficient and friendly unfortunat...</td>\n",
       "    </tr>\n",
       "    <tr>\n",
       "      <th>2106</th>\n",
       "      <td>London Heathrow to New York JFK return. This was the first time for a while that I have been on ...</td>\n",
       "      <td>london heathrow to new york jfk return this was the first time for a while that i have been on a...</td>\n",
       "    </tr>\n",
       "    <tr>\n",
       "      <th>2323</th>\n",
       "      <td>Montreal to Rome via London with British Airways. Boarded the plane on time (20.30hrs) and sat f...</td>\n",
       "      <td>montreal to rome via london with british airways boarded the plane on time 2030hrs and sat for s...</td>\n",
       "    </tr>\n",
       "    <tr>\n",
       "      <th>422</th>\n",
       "      <td>✅ Trip Verified |  Mumbai to Boston via London. My flight with British airways was really good. ...</td>\n",
       "      <td>trip verified mumbai to boston via london my flight with british airways was really good the ca...</td>\n",
       "    </tr>\n",
       "    <tr>\n",
       "      <th>2077</th>\n",
       "      <td>✅ Verified Review |  I was looking forward to trying the new 787 from British Airways flying fro...</td>\n",
       "      <td>verified review i was looking forward to trying the new 787 from british airways flying from ku...</td>\n",
       "    </tr>\n",
       "    <tr>\n",
       "      <th>1930</th>\n",
       "      <td>✅ Verified Review |  \\r\\nI have to be upfront and say the flight from London Heathrow to Boston ...</td>\n",
       "      <td>verified review i have to be upfront and say the flight from london heathrow to boston exceeded...</td>\n",
       "    </tr>\n",
       "  </tbody>\n",
       "</table>\n",
       "</div>"
      ],
      "text/plain": [
       "                                                                                                  reviews  \\\n",
       "2626  Quick online check-in and boarding passes with the BA mobile APP. It is so easy to use and defin...   \n",
       "1457  ✅ Verified Review |  These are words you may not read often, but I actually enjoy the British Ai...   \n",
       "1050  ✅ Trip Verified | Hyderabad to Brussels via London. Didn't expect this from British Airways. For...   \n",
       "576   Not Verified |  Good morning. I would like to write a review for British Airways. It took me a w...   \n",
       "396   ✅ Trip Verified |  Mumbai to London. The check in process was quick, efficient and friendly. Unf...   \n",
       "2106  London Heathrow to New York JFK return. This was the first time for a while that I have been on ...   \n",
       "2323  Montreal to Rome via London with British Airways. Boarded the plane on time (20.30hrs) and sat f...   \n",
       "422   ✅ Trip Verified |  Mumbai to Boston via London. My flight with British airways was really good. ...   \n",
       "2077  ✅ Verified Review |  I was looking forward to trying the new 787 from British Airways flying fro...   \n",
       "1930  ✅ Verified Review |  \\r\\nI have to be upfront and say the flight from London Heathrow to Boston ...   \n",
       "\n",
       "                                                                                          cleaned_reviews  \n",
       "2626  quick online checkin and boarding passes with the ba mobile app it is so easy to use and definit...  \n",
       "1457   verified review these are words you may not read often but i actually enjoy the british airways...  \n",
       "1050   trip verified hyderabad to brussels via london didnt expect this from british airways for me qu...  \n",
       "576   not verified good morning i would like to write a review for british airways it took me a while ...  \n",
       "396    trip verified mumbai to london the check in process was quick efficient and friendly unfortunat...  \n",
       "2106  london heathrow to new york jfk return this was the first time for a while that i have been on a...  \n",
       "2323  montreal to rome via london with british airways boarded the plane on time 2030hrs and sat for s...  \n",
       "422    trip verified mumbai to boston via london my flight with british airways was really good the ca...  \n",
       "2077   verified review i was looking forward to trying the new 787 from british airways flying from ku...  \n",
       "1930   verified review i have to be upfront and say the flight from london heathrow to boston exceeded...  "
      ]
     },
     "execution_count": 20,
     "metadata": {},
     "output_type": "execute_result"
    }
   ],
   "source": [
    "# This function cleans the data\n",
    "\n",
    "def clean_text(text):\n",
    "    # Remove punctuations \n",
    "    text = \"\".join([word.lower() for word in text if word not in punct])\n",
    "    \n",
    "    # Remove any other signs\n",
    "    text = \" \".join(re.split('\\W+', text))\n",
    "    \n",
    "    # remove trip, verified, review, unverified, not in the starting text\n",
    "    #text = re.sub('^trip', '', text)\n",
    "    \n",
    "    return text\n",
    "\n",
    "df[\"cleaned_reviews\"] = df[\"reviews\"]. apply(lambda x: clean_text(x))\n",
    "df.sample(10)"
   ]
  },
  {
   "cell_type": "code",
   "execution_count": 24,
   "metadata": {},
   "outputs": [
    {
     "data": {
      "text/html": [
       "<div>\n",
       "<style scoped>\n",
       "    .dataframe tbody tr th:only-of-type {\n",
       "        vertical-align: middle;\n",
       "    }\n",
       "\n",
       "    .dataframe tbody tr th {\n",
       "        vertical-align: top;\n",
       "    }\n",
       "\n",
       "    .dataframe thead th {\n",
       "        text-align: right;\n",
       "    }\n",
       "</style>\n",
       "<table border=\"1\" class=\"dataframe\">\n",
       "  <thead>\n",
       "    <tr style=\"text-align: right;\">\n",
       "      <th></th>\n",
       "      <th>reviews</th>\n",
       "      <th>cleaned_reviews</th>\n",
       "    </tr>\n",
       "  </thead>\n",
       "  <tbody>\n",
       "    <tr>\n",
       "      <th>2591</th>\n",
       "      <td>This was my first time on a long haul flight with British Airways. I found the seats to be very ...</td>\n",
       "      <td>this was my first time on a long haul flight with british airways i found the seats to be very c...</td>\n",
       "    </tr>\n",
       "    <tr>\n",
       "      <th>2207</th>\n",
       "      <td>Very good service on a packed British Airways flight from London to Mumbai. Crew were excellent....</td>\n",
       "      <td>very good service on a packed british airways flight from london to mumbai crew were excellent f...</td>\n",
       "    </tr>\n",
       "    <tr>\n",
       "      <th>615</th>\n",
       "      <td>✅ Trip Verified |  Tel Aviv to Toronto via London. The plane from London to Toronto was run by A...</td>\n",
       "      <td>trip verified tel aviv to toronto via london the plane from london to toronto was run by air be...</td>\n",
       "    </tr>\n",
       "    <tr>\n",
       "      <th>1733</th>\n",
       "      <td>✅ Verified Review |  London Heathrow to Seattle on a redemption ticket in premium economy. Board...</td>\n",
       "      <td>verified review london heathrow to seattle on a redemption ticket in premium economy boarding a...</td>\n",
       "    </tr>\n",
       "    <tr>\n",
       "      <th>2999</th>\n",
       "      <td>Travelled from London Heathrow to Tokyo Haneda overall not a very pleasurable experience. The se...</td>\n",
       "      <td>travelled from london heathrow to tokyo haneda overall not a very pleasurable experience the sea...</td>\n",
       "    </tr>\n",
       "    <tr>\n",
       "      <th>2242</th>\n",
       "      <td>Club class on British Airways between Cape Town and London. Boeing 747-400 has the flat bed and ...</td>\n",
       "      <td>club class on british airways between cape town and london boeing 747400 has the flat bed and wh...</td>\n",
       "    </tr>\n",
       "    <tr>\n",
       "      <th>2583</th>\n",
       "      <td>Boarding delayed in MIA due to weather but BA kept passengers updated. On boarding, offered drin...</td>\n",
       "      <td>boarding delayed in mia due to weather but ba kept passengers updated on boarding offered drinks...</td>\n",
       "    </tr>\n",
       "    <tr>\n",
       "      <th>2818</th>\n",
       "      <td>LHR-BKK in Club on B777. Fourth long haul leg on BA in the last month and this was by far the be...</td>\n",
       "      <td>lhrbkk in club on b777 fourth long haul leg on ba in the last month and this was by far the best...</td>\n",
       "    </tr>\n",
       "    <tr>\n",
       "      <th>2758</th>\n",
       "      <td>LGW-RAK-LGW May 2015. These flights were on BA's newly configured A320's we paid for Emergency E...</td>\n",
       "      <td>lgwraklgw may 2015 these flights were on bas newly configured a320s we paid for emergency exit r...</td>\n",
       "    </tr>\n",
       "    <tr>\n",
       "      <th>2495</th>\n",
       "      <td>London Heathrow to Copenhagen with British Airways, and I was surprised by the service. Customer...</td>\n",
       "      <td>london heathrow to copenhagen with british airways and i was surprised by the service customer s...</td>\n",
       "    </tr>\n",
       "  </tbody>\n",
       "</table>\n",
       "</div>"
      ],
      "text/plain": [
       "                                                                                                  reviews  \\\n",
       "2591  This was my first time on a long haul flight with British Airways. I found the seats to be very ...   \n",
       "2207  Very good service on a packed British Airways flight from London to Mumbai. Crew were excellent....   \n",
       "615   ✅ Trip Verified |  Tel Aviv to Toronto via London. The plane from London to Toronto was run by A...   \n",
       "1733  ✅ Verified Review |  London Heathrow to Seattle on a redemption ticket in premium economy. Board...   \n",
       "2999  Travelled from London Heathrow to Tokyo Haneda overall not a very pleasurable experience. The se...   \n",
       "2242  Club class on British Airways between Cape Town and London. Boeing 747-400 has the flat bed and ...   \n",
       "2583  Boarding delayed in MIA due to weather but BA kept passengers updated. On boarding, offered drin...   \n",
       "2818  LHR-BKK in Club on B777. Fourth long haul leg on BA in the last month and this was by far the be...   \n",
       "2758  LGW-RAK-LGW May 2015. These flights were on BA's newly configured A320's we paid for Emergency E...   \n",
       "2495  London Heathrow to Copenhagen with British Airways, and I was surprised by the service. Customer...   \n",
       "\n",
       "                                                                                          cleaned_reviews  \n",
       "2591  this was my first time on a long haul flight with british airways i found the seats to be very c...  \n",
       "2207  very good service on a packed british airways flight from london to mumbai crew were excellent f...  \n",
       "615    trip verified tel aviv to toronto via london the plane from london to toronto was run by air be...  \n",
       "1733   verified review london heathrow to seattle on a redemption ticket in premium economy boarding a...  \n",
       "2999  travelled from london heathrow to tokyo haneda overall not a very pleasurable experience the sea...  \n",
       "2242  club class on british airways between cape town and london boeing 747400 has the flat bed and wh...  \n",
       "2583  boarding delayed in mia due to weather but ba kept passengers updated on boarding offered drinks...  \n",
       "2818  lhrbkk in club on b777 fourth long haul leg on ba in the last month and this was by far the best...  \n",
       "2758  lgwraklgw may 2015 these flights were on bas newly configured a320s we paid for emergency exit r...  \n",
       "2495  london heathrow to copenhagen with british airways and i was surprised by the service customer s...  "
      ]
     },
     "execution_count": 24,
     "metadata": {},
     "output_type": "execute_result"
    }
   ],
   "source": [
    "# remove the words trip, verified, review\n",
    "#df[\"cleaned_reviews\"].map(lambda x: re.sub('trip ', '', x))\n",
    "# df[\"cleaned_reviews\"] = df[\"cleaned_reviews\"].map(lambda x: re.sub('r^verified ', '', x))\n",
    "# df[\"cleaned_reviews\"] = df[\"cleaned_reviews\"].map(lambda x: re.sub('r^review ', '', x))\n",
    "df.sample(10)"
   ]
  }
 ],
 "metadata": {
  "kernelspec": {
   "display_name": "Python 3 (ipykernel)",
   "language": "python",
   "name": "python3"
  },
  "language_info": {
   "codemirror_mode": {
    "name": "ipython",
    "version": 3
   },
   "file_extension": ".py",
   "mimetype": "text/x-python",
   "name": "python",
   "nbconvert_exporter": "python",
   "pygments_lexer": "ipython3",
   "version": "3.10.8"
  },
  "vscode": {
   "interpreter": {
    "hash": "4f7924c4c56b083e0e50eadfe7ef592a7a8ef70df33a0047f82280e6be1afe15"
   }
  }
 },
 "nbformat": 4,
 "nbformat_minor": 2
}
