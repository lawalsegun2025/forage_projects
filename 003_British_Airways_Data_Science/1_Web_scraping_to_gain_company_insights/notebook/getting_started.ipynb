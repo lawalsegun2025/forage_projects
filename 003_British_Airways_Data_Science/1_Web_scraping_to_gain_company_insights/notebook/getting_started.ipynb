{
 "cells": [
  {
   "cell_type": "markdown",
   "metadata": {},
   "source": [
    "# Task 1\n",
    "\n",
    "---\n",
    "\n",
    "## Web scraping and analysis\n",
    "\n",
    "This Jupyter notebook includes some code to get you started with web scraping. We will use a package called `BeautifulSoup` to collect the data from the web. Once you've collected your data and saved it into a local `.csv` file you should start with your analysis.\n",
    "\n",
    "### Scraping data from Skytrax\n",
    "\n",
    "If you visit [https://www.airlinequality.com](https://www.airlinequality.com) you can see that there is a lot of data there. For this task, we are only interested in reviews related to British Airways and the Airline itself.\n",
    "\n",
    "If you navigate to this link: [https://www.airlinequality.com/airline-reviews/british-airways](https://www.airlinequality.com/airline-reviews/british-airways) you will see this data. Now, we can use `Python` and `BeautifulSoup` to collect all the links to the reviews and then to collect the text data on each of the individual review links."
   ]
  },
  {
   "cell_type": "code",
   "execution_count": 4,
   "metadata": {},
   "outputs": [
    {
     "name": "stdout",
     "output_type": "stream",
     "text": [
      "Collecting requests\n",
      "  Downloading requests-2.28.2-py3-none-any.whl (62 kB)\n",
      "     -------------------------------------- 62.8/62.8 kB 305.7 kB/s eta 0:00:00\n",
      "Requirement already satisfied: idna<4,>=2.5 in c:\\users\\segun lawal\\anaconda3\\envs\\zero_to_mastery_ml\\lib\\site-packages (from requests) (3.4)\n",
      "Collecting charset-normalizer<4,>=2\n",
      "  Downloading charset_normalizer-3.1.0-cp310-cp310-win_amd64.whl (97 kB)\n",
      "     -------------------------------------- 97.1/97.1 kB 504.8 kB/s eta 0:00:00\n",
      "Requirement already satisfied: certifi>=2017.4.17 in c:\\users\\segun lawal\\anaconda3\\envs\\zero_to_mastery_ml\\lib\\site-packages (from requests) (2022.12.7)\n",
      "Collecting urllib3<1.27,>=1.21.1\n",
      "  Downloading urllib3-1.26.14-py2.py3-none-any.whl (140 kB)\n",
      "     ------------------------------------ 140.6/140.6 kB 642.4 kB/s eta 0:00:00\n",
      "Installing collected packages: urllib3, charset-normalizer, requests\n",
      "Successfully installed charset-normalizer-3.1.0 requests-2.28.2 urllib3-1.26.14\n"
     ]
    }
   ],
   "source": [
    "# # Install the requests module\n",
    "# !pip install requests"
   ]
  },
  {
   "cell_type": "code",
   "execution_count": 1,
   "metadata": {},
   "outputs": [],
   "source": [
    "# import requests\n",
    "# from bs4 import BeautifulSoup\n",
    "import pandas as pd"
   ]
  },
  {
   "cell_type": "code",
   "execution_count": 2,
   "metadata": {
    "scrolled": false
   },
   "outputs": [
    {
     "name": "stdout",
     "output_type": "stream",
     "text": [
      "Scraping page 1\n",
      "   ---> 100 total reviews\n",
      "Scraping page 2\n",
      "   ---> 200 total reviews\n",
      "Scraping page 3\n",
      "   ---> 300 total reviews\n",
      "Scraping page 4\n",
      "   ---> 400 total reviews\n",
      "Scraping page 5\n",
      "   ---> 500 total reviews\n",
      "Scraping page 6\n",
      "   ---> 600 total reviews\n",
      "Scraping page 7\n",
      "   ---> 700 total reviews\n",
      "Scraping page 8\n",
      "   ---> 800 total reviews\n",
      "Scraping page 9\n",
      "   ---> 900 total reviews\n",
      "Scraping page 10\n",
      "   ---> 1000 total reviews\n",
      "Scraping page 11\n",
      "   ---> 1100 total reviews\n",
      "Scraping page 12\n",
      "   ---> 1200 total reviews\n",
      "Scraping page 13\n",
      "   ---> 1300 total reviews\n",
      "Scraping page 14\n",
      "   ---> 1400 total reviews\n",
      "Scraping page 15\n",
      "   ---> 1500 total reviews\n",
      "Scraping page 16\n",
      "   ---> 1600 total reviews\n",
      "Scraping page 17\n",
      "   ---> 1700 total reviews\n",
      "Scraping page 18\n",
      "   ---> 1800 total reviews\n",
      "Scraping page 19\n",
      "   ---> 1900 total reviews\n",
      "Scraping page 20\n",
      "   ---> 2000 total reviews\n",
      "Scraping page 21\n",
      "   ---> 2100 total reviews\n",
      "Scraping page 22\n",
      "   ---> 2200 total reviews\n",
      "Scraping page 23\n",
      "   ---> 2300 total reviews\n",
      "Scraping page 24\n",
      "   ---> 2400 total reviews\n",
      "Scraping page 25\n",
      "   ---> 2500 total reviews\n",
      "Scraping page 26\n",
      "   ---> 2600 total reviews\n",
      "Scraping page 27\n",
      "   ---> 2700 total reviews\n",
      "Scraping page 28\n",
      "   ---> 2800 total reviews\n",
      "Scraping page 29\n",
      "   ---> 2900 total reviews\n",
      "Scraping page 30\n",
      "   ---> 3000 total reviews\n"
     ]
    }
   ],
   "source": [
    "# base_url = \"https://www.airlinequality.com/airline-reviews/british-airways\"\n",
    "# pages = 30\n",
    "# page_size = 100\n",
    "\n",
    "# reviews = []\n",
    "\n",
    "# # for i in range(1, pages + 1):\n",
    "# for i in range(1, pages + 1):\n",
    "\n",
    "#     print(f\"Scraping page {i}\")\n",
    "\n",
    "#     # Create URL to collect links from paginated data\n",
    "#     url = f\"{base_url}/page/{i}/?sortby=post_date%3ADesc&pagesize={page_size}\"\n",
    "\n",
    "#     # Collect HTML data from this page\n",
    "#     response = requests.get(url)\n",
    "\n",
    "#     # Parse content\n",
    "#     content = response.content\n",
    "#     parsed_content = BeautifulSoup(content, 'html.parser')\n",
    "#     for para in parsed_content.find_all(\"div\", {\"class\": \"text_content\"}):\n",
    "#         reviews.append(para.get_text())\n",
    "    \n",
    "#     print(f\"   ---> {len(reviews)} total reviews\")"
   ]
  },
  {
   "cell_type": "code",
   "execution_count": 3,
   "metadata": {},
   "outputs": [
    {
     "data": {
      "text/html": [
       "<div>\n",
       "<style scoped>\n",
       "    .dataframe tbody tr th:only-of-type {\n",
       "        vertical-align: middle;\n",
       "    }\n",
       "\n",
       "    .dataframe tbody tr th {\n",
       "        vertical-align: top;\n",
       "    }\n",
       "\n",
       "    .dataframe thead th {\n",
       "        text-align: right;\n",
       "    }\n",
       "</style>\n",
       "<table border=\"1\" class=\"dataframe\">\n",
       "  <thead>\n",
       "    <tr style=\"text-align: right;\">\n",
       "      <th></th>\n",
       "      <th>reviews</th>\n",
       "    </tr>\n",
       "  </thead>\n",
       "  <tbody>\n",
       "    <tr>\n",
       "      <th>0</th>\n",
       "      <td>✅ Trip Verified |  The incoming and outgoing f...</td>\n",
       "    </tr>\n",
       "    <tr>\n",
       "      <th>1</th>\n",
       "      <td>✅ Trip Verified |  Back in December my family ...</td>\n",
       "    </tr>\n",
       "    <tr>\n",
       "      <th>2</th>\n",
       "      <td>✅ Trip Verified |  As usual the flight is dela...</td>\n",
       "    </tr>\n",
       "    <tr>\n",
       "      <th>3</th>\n",
       "      <td>✅ Trip Verified | A short BA euro trip and thi...</td>\n",
       "    </tr>\n",
       "    <tr>\n",
       "      <th>4</th>\n",
       "      <td>Not Verified |  We are flying Business class f...</td>\n",
       "    </tr>\n",
       "  </tbody>\n",
       "</table>\n",
       "</div>"
      ],
      "text/plain": [
       "                                             reviews\n",
       "0  ✅ Trip Verified |  The incoming and outgoing f...\n",
       "1  ✅ Trip Verified |  Back in December my family ...\n",
       "2  ✅ Trip Verified |  As usual the flight is dela...\n",
       "3  ✅ Trip Verified | A short BA euro trip and thi...\n",
       "4  Not Verified |  We are flying Business class f..."
      ]
     },
     "execution_count": 3,
     "metadata": {},
     "output_type": "execute_result"
    }
   ],
   "source": [
    "# df = pd.DataFrame()\n",
    "# df[\"reviews\"] = reviews\n",
    "# df.head()"
   ]
  },
  {
   "cell_type": "code",
   "execution_count": 4,
   "metadata": {},
   "outputs": [],
   "source": [
    "# df.to_csv(\"../data/BA_reviews.csv\")"
   ]
  },
  {
   "cell_type": "markdown",
   "metadata": {},
   "source": [
    "Congratulations! Now you have your dataset for this task! The loops above collected 1000 reviews by iterating through the paginated pages on the website. However, if you want to collect more data, try increasing the number of pages!\n",
    "\n",
    " The next thing that you should do is clean this data to remove any unnecessary text from each of the rows. For example, \"✅ Trip Verified\" can be removed from each row if it exists, as it's not relevant to what we want to investigate."
   ]
  },
  {
   "cell_type": "markdown",
   "metadata": {},
   "source": [
    "## Data Analysis\n",
    "\n",
    "We have increased the dataset from 1000 reviews to 3000 reviews in order to improve the output of our analysis.\n",
    "\n",
    "### Rule-based approach\n",
    "\n",
    "This is a practical approach to analyzing text without training or using labels. The result of this approach is a set of rules based on which the text is labeled as positive/negative/neutral. These rules are known as lexicons. Hence, the rule Rule-based approach is called Lexicon based approach.\n",
    "\n",
    "Widely used lexicon-based approach are TextBlob, VADER, SentiWordNet\n",
    "\n",
    "First let us list out our analysis work flow\n",
    "\n",
    "1. Data Loading\n",
    "2. Data Cleaning\n",
    "3. Word Cloud\n",
    "4. Topic Modeling\n",
    "5. Sentiment Analysis\n",
    "\n",
    "We have scrapped and loaded the data, now lets get to cleaning the data\n",
    "\n",
    "### 1. Data Loading"
   ]
  },
  {
   "cell_type": "code",
   "execution_count": 87,
   "metadata": {},
   "outputs": [],
   "source": [
    "import pandas as pd\n",
    "df = pd.read_csv(\"../data/BA_reviews.csv\")\n",
    "df = df.drop(columns=[\"Unnamed: 0\"], errors=\"ignore\")"
   ]
  },
  {
   "cell_type": "code",
   "execution_count": 88,
   "metadata": {},
   "outputs": [
    {
     "data": {
      "text/html": [
       "<div>\n",
       "<style scoped>\n",
       "    .dataframe tbody tr th:only-of-type {\n",
       "        vertical-align: middle;\n",
       "    }\n",
       "\n",
       "    .dataframe tbody tr th {\n",
       "        vertical-align: top;\n",
       "    }\n",
       "\n",
       "    .dataframe thead th {\n",
       "        text-align: right;\n",
       "    }\n",
       "</style>\n",
       "<table border=\"1\" class=\"dataframe\">\n",
       "  <thead>\n",
       "    <tr style=\"text-align: right;\">\n",
       "      <th></th>\n",
       "      <th>reviews</th>\n",
       "    </tr>\n",
       "  </thead>\n",
       "  <tbody>\n",
       "    <tr>\n",
       "      <th>0</th>\n",
       "      <td>✅ Trip Verified |  The incoming and outgoing flight was delayed because French Air Traffic Contr...</td>\n",
       "    </tr>\n",
       "    <tr>\n",
       "      <th>1</th>\n",
       "      <td>✅ Trip Verified |  Back in December my family and I as we were getting onto the plane were refus...</td>\n",
       "    </tr>\n",
       "    <tr>\n",
       "      <th>2</th>\n",
       "      <td>✅ Trip Verified |  As usual the flight is delayed this week, it already 3 hours and I’m held on ...</td>\n",
       "    </tr>\n",
       "    <tr>\n",
       "      <th>3</th>\n",
       "      <td>✅ Trip Verified | A short BA euro trip and this is where BA excel. Clean aircraft, good crew, pr...</td>\n",
       "    </tr>\n",
       "    <tr>\n",
       "      <th>4</th>\n",
       "      <td>Not Verified |  We are flying Business class for most of our flight and then Premium economy for...</td>\n",
       "    </tr>\n",
       "    <tr>\n",
       "      <th>...</th>\n",
       "      <td>...</td>\n",
       "    </tr>\n",
       "    <tr>\n",
       "      <th>2995</th>\n",
       "      <td>LHR-SFO-LHR. Why do I keep thinking BA will improve? The 747 on this route is falling to bits. T...</td>\n",
       "    </tr>\n",
       "    <tr>\n",
       "      <th>2996</th>\n",
       "      <td>Muscat - Abu Dhabi - London. Delayed over two hours no vouchers offered. No welcome drinks or pa...</td>\n",
       "    </tr>\n",
       "    <tr>\n",
       "      <th>2997</th>\n",
       "      <td>The last trip was in Nov to Washington flew first in the new A380 which is a great aircraft very...</td>\n",
       "    </tr>\n",
       "    <tr>\n",
       "      <th>2998</th>\n",
       "      <td>We flew from Manchester to LHR to YCC and return over the Christmas period on the Dreamliner. Th...</td>\n",
       "    </tr>\n",
       "    <tr>\n",
       "      <th>2999</th>\n",
       "      <td>Travelled from London Heathrow to Tokyo Haneda overall not a very pleasurable experience. The se...</td>\n",
       "    </tr>\n",
       "  </tbody>\n",
       "</table>\n",
       "<p>3000 rows × 1 columns</p>\n",
       "</div>"
      ],
      "text/plain": [
       "                                                                                                  reviews\n",
       "0     ✅ Trip Verified |  The incoming and outgoing flight was delayed because French Air Traffic Contr...\n",
       "1     ✅ Trip Verified |  Back in December my family and I as we were getting onto the plane were refus...\n",
       "2     ✅ Trip Verified |  As usual the flight is delayed this week, it already 3 hours and I’m held on ...\n",
       "3     ✅ Trip Verified | A short BA euro trip and this is where BA excel. Clean aircraft, good crew, pr...\n",
       "4     Not Verified |  We are flying Business class for most of our flight and then Premium economy for...\n",
       "...                                                                                                   ...\n",
       "2995  LHR-SFO-LHR. Why do I keep thinking BA will improve? The 747 on this route is falling to bits. T...\n",
       "2996  Muscat - Abu Dhabi - London. Delayed over two hours no vouchers offered. No welcome drinks or pa...\n",
       "2997  The last trip was in Nov to Washington flew first in the new A380 which is a great aircraft very...\n",
       "2998  We flew from Manchester to LHR to YCC and return over the Christmas period on the Dreamliner. Th...\n",
       "2999  Travelled from London Heathrow to Tokyo Haneda overall not a very pleasurable experience. The se...\n",
       "\n",
       "[3000 rows x 1 columns]"
      ]
     },
     "execution_count": 88,
     "metadata": {},
     "output_type": "execute_result"
    }
   ],
   "source": [
    "df"
   ]
  },
  {
   "cell_type": "code",
   "execution_count": 78,
   "metadata": {},
   "outputs": [
    {
     "data": {
      "text/plain": [
       "reviews    A pleasant trip with British Airways as usual but suffered a 60 minute delay, for which the Capt...\n",
       "Name: 2604, dtype: object"
      ]
     },
     "execution_count": 78,
     "metadata": {},
     "output_type": "execute_result"
    }
   ],
   "source": [
    "df.iloc[2604]"
   ]
  },
  {
   "cell_type": "markdown",
   "metadata": {},
   "source": [
    "### 2. Data Cleaning\n",
    "\n",
    "For data cleaning we will go through the following steps:\n",
    "\n",
    "* Clean the text\n",
    "* Tokenization\n",
    "* Enrichment - POS tagging\n",
    "* Stopwords removal\n",
    "* Obtaining the stem words\n",
    "\n"
   ]
  },
  {
   "cell_type": "code",
   "execution_count": 89,
   "metadata": {},
   "outputs": [],
   "source": [
    "# Import labraries for test data cleaning\n",
    "import pandas as pd \n",
    "import re \n",
    "import string \n",
    "import nltk\n",
    "pd.set_option('display.max_colwidth', 100)\n",
    "\n",
    "stopwords = nltk.corpus.stopwords.words(\"english\")\n",
    "wn = nltk.WordNetLemmatizer()\n",
    "punct = string.punctuation"
   ]
  },
  {
   "cell_type": "markdown",
   "metadata": {},
   "source": [
    "First we remove the parts before the `|` sign. For example  \"✅ Trip Verified\" appears before the `|` and it is unnecessary to the customer review."
   ]
  },
  {
   "cell_type": "code",
   "execution_count": 90,
   "metadata": {},
   "outputs": [],
   "source": [
    "def split_review(text):\n",
    "    if '|' in text:\n",
    "        text = text.split('|')[1]\n",
    "    else:\n",
    "        pass\n",
    "    return text"
   ]
  },
  {
   "cell_type": "code",
   "execution_count": 92,
   "metadata": {},
   "outputs": [
    {
     "data": {
      "text/html": [
       "<div>\n",
       "<style scoped>\n",
       "    .dataframe tbody tr th:only-of-type {\n",
       "        vertical-align: middle;\n",
       "    }\n",
       "\n",
       "    .dataframe tbody tr th {\n",
       "        vertical-align: top;\n",
       "    }\n",
       "\n",
       "    .dataframe thead th {\n",
       "        text-align: right;\n",
       "    }\n",
       "</style>\n",
       "<table border=\"1\" class=\"dataframe\">\n",
       "  <thead>\n",
       "    <tr style=\"text-align: right;\">\n",
       "      <th></th>\n",
       "      <th>reviews</th>\n",
       "    </tr>\n",
       "  </thead>\n",
       "  <tbody>\n",
       "    <tr>\n",
       "      <th>0</th>\n",
       "      <td>The incoming and outgoing flight was delayed because French Air Traffic Controllers were on st...</td>\n",
       "    </tr>\n",
       "    <tr>\n",
       "      <th>1</th>\n",
       "      <td>Back in December my family and I as we were getting onto the plane were refused. Even though w...</td>\n",
       "    </tr>\n",
       "    <tr>\n",
       "      <th>2</th>\n",
       "      <td>As usual the flight is delayed this week, it already 3 hours and I’m held on a bus waiting to ...</td>\n",
       "    </tr>\n",
       "    <tr>\n",
       "      <th>3</th>\n",
       "      <td>A short BA euro trip and this is where BA excel. Clean aircraft, good crew, professional, on ti...</td>\n",
       "    </tr>\n",
       "    <tr>\n",
       "      <th>4</th>\n",
       "      <td>We are flying Business class for most of our flight and then Premium economy for the balance. ...</td>\n",
       "    </tr>\n",
       "    <tr>\n",
       "      <th>...</th>\n",
       "      <td>...</td>\n",
       "    </tr>\n",
       "    <tr>\n",
       "      <th>2995</th>\n",
       "      <td>LHR-SFO-LHR. Why do I keep thinking BA will improve? The 747 on this route is falling to bits. T...</td>\n",
       "    </tr>\n",
       "    <tr>\n",
       "      <th>2996</th>\n",
       "      <td>Muscat - Abu Dhabi - London. Delayed over two hours no vouchers offered. No welcome drinks or pa...</td>\n",
       "    </tr>\n",
       "    <tr>\n",
       "      <th>2997</th>\n",
       "      <td>The last trip was in Nov to Washington flew first in the new A380 which is a great aircraft very...</td>\n",
       "    </tr>\n",
       "    <tr>\n",
       "      <th>2998</th>\n",
       "      <td>We flew from Manchester to LHR to YCC and return over the Christmas period on the Dreamliner. Th...</td>\n",
       "    </tr>\n",
       "    <tr>\n",
       "      <th>2999</th>\n",
       "      <td>Travelled from London Heathrow to Tokyo Haneda overall not a very pleasurable experience. The se...</td>\n",
       "    </tr>\n",
       "  </tbody>\n",
       "</table>\n",
       "<p>3000 rows × 1 columns</p>\n",
       "</div>"
      ],
      "text/plain": [
       "                                                                                                  reviews\n",
       "0       The incoming and outgoing flight was delayed because French Air Traffic Controllers were on st...\n",
       "1       Back in December my family and I as we were getting onto the plane were refused. Even though w...\n",
       "2       As usual the flight is delayed this week, it already 3 hours and I’m held on a bus waiting to ...\n",
       "3      A short BA euro trip and this is where BA excel. Clean aircraft, good crew, professional, on ti...\n",
       "4       We are flying Business class for most of our flight and then Premium economy for the balance. ...\n",
       "...                                                                                                   ...\n",
       "2995  LHR-SFO-LHR. Why do I keep thinking BA will improve? The 747 on this route is falling to bits. T...\n",
       "2996  Muscat - Abu Dhabi - London. Delayed over two hours no vouchers offered. No welcome drinks or pa...\n",
       "2997  The last trip was in Nov to Washington flew first in the new A380 which is a great aircraft very...\n",
       "2998  We flew from Manchester to LHR to YCC and return over the Christmas period on the Dreamliner. Th...\n",
       "2999  Travelled from London Heathrow to Tokyo Haneda overall not a very pleasurable experience. The se...\n",
       "\n",
       "[3000 rows x 1 columns]"
      ]
     },
     "execution_count": 92,
     "metadata": {},
     "output_type": "execute_result"
    }
   ],
   "source": [
    "df[\"reviews\"] = df[\"reviews\"].apply(split_review)\n",
    "df"
   ]
  },
  {
   "cell_type": "markdown",
   "metadata": {},
   "source": [
    "### Clean text"
   ]
  },
  {
   "cell_type": "code",
   "execution_count": 108,
   "metadata": {},
   "outputs": [
    {
     "data": {
      "text/html": [
       "<div>\n",
       "<style scoped>\n",
       "    .dataframe tbody tr th:only-of-type {\n",
       "        vertical-align: middle;\n",
       "    }\n",
       "\n",
       "    .dataframe tbody tr th {\n",
       "        vertical-align: top;\n",
       "    }\n",
       "\n",
       "    .dataframe thead th {\n",
       "        text-align: right;\n",
       "    }\n",
       "</style>\n",
       "<table border=\"1\" class=\"dataframe\">\n",
       "  <thead>\n",
       "    <tr style=\"text-align: right;\">\n",
       "      <th></th>\n",
       "      <th>reviews</th>\n",
       "      <th>cleaned_reviews</th>\n",
       "    </tr>\n",
       "  </thead>\n",
       "  <tbody>\n",
       "    <tr>\n",
       "      <th>2927</th>\n",
       "      <td>Flew from LHR to CAI new years day business class - was absolutely superb. Cabin staff were atte...</td>\n",
       "      <td>flew lhr cai new year day business class absolutely superb cabin staff attentive helpful flight ...</td>\n",
       "    </tr>\n",
       "    <tr>\n",
       "      <th>2072</th>\n",
       "      <td>London Heathrow to Seoul Incheon with British Airways. Good service from FAs, and a high quali...</td>\n",
       "      <td>london heathrow seoul incheon british airway good service fa high quality screen ife shame other...</td>\n",
       "    </tr>\n",
       "    <tr>\n",
       "      <th>2892</th>\n",
       "      <td>I flew from LHR to SIN; the aircraft was a Boeing 747-400 which was tired and old. The IFE had t...</td>\n",
       "      <td>flew lhr sin aircraft boeing tired old ife rebooted system yet date like ba aircraft seating cov...</td>\n",
       "    </tr>\n",
       "    <tr>\n",
       "      <th>1355</th>\n",
       "      <td>London Heathrow to Barcelona. I thought it would be better than a low cost airline, but it is ...</td>\n",
       "      <td>london heathrow barcelona thought would better low cost airline fact quite worse cheaper option ...</td>\n",
       "    </tr>\n",
       "    <tr>\n",
       "      <th>2610</th>\n",
       "      <td>I am a regular user of BA and generally find the airline to be OK but not outstanding. This flig...</td>\n",
       "      <td>regular user ba generally find airline ok outstanding flight fairly full departed time check qui...</td>\n",
       "    </tr>\n",
       "    <tr>\n",
       "      <th>2433</th>\n",
       "      <td>Booked through Iberia a year before departure with the addition of a connection to Las Palmas, o...</td>\n",
       "      <td>booked iberia year departure addition connection la palmas online check completed hour advance n...</td>\n",
       "    </tr>\n",
       "    <tr>\n",
       "      <th>2894</th>\n",
       "      <td>I took a flight from Gatwick to Barcelona. Although it had a BA flight number it was operated by...</td>\n",
       "      <td>took flight gatwick barcelona although ba flight number operated vueling meant couldnt use ba lo...</td>\n",
       "    </tr>\n",
       "    <tr>\n",
       "      <th>469</th>\n",
       "      <td>London Heathrow to Miami. Flying the Boeing 747-400. Unfortunately BA hasn't done much work on...</td>\n",
       "      <td>london heathrow miami flying boeing unfortunately ba hasnt done much work first class aircraft s...</td>\n",
       "    </tr>\n",
       "    <tr>\n",
       "      <th>1751</th>\n",
       "      <td>Absolute disgrace. They cancelled my flight 1 hour and 45 minutes before the the flight and pu...</td>\n",
       "      <td>absolute disgrace cancelled flight hour minute flight put next flight hour minute delay vip acce...</td>\n",
       "    </tr>\n",
       "    <tr>\n",
       "      <th>1708</th>\n",
       "      <td>Baltimore Washington to London Heathrow. Bad start for my first trip on British Airways. Extra...</td>\n",
       "      <td>baltimore washington london heathrow bad start first trip british airway extra cost decent seat ...</td>\n",
       "    </tr>\n",
       "  </tbody>\n",
       "</table>\n",
       "</div>"
      ],
      "text/plain": [
       "                                                                                                  reviews  \\\n",
       "2927  Flew from LHR to CAI new years day business class - was absolutely superb. Cabin staff were atte...   \n",
       "2072    London Heathrow to Seoul Incheon with British Airways. Good service from FAs, and a high quali...   \n",
       "2892  I flew from LHR to SIN; the aircraft was a Boeing 747-400 which was tired and old. The IFE had t...   \n",
       "1355    London Heathrow to Barcelona. I thought it would be better than a low cost airline, but it is ...   \n",
       "2610  I am a regular user of BA and generally find the airline to be OK but not outstanding. This flig...   \n",
       "2433  Booked through Iberia a year before departure with the addition of a connection to Las Palmas, o...   \n",
       "2894  I took a flight from Gatwick to Barcelona. Although it had a BA flight number it was operated by...   \n",
       "469     London Heathrow to Miami. Flying the Boeing 747-400. Unfortunately BA hasn't done much work on...   \n",
       "1751    Absolute disgrace. They cancelled my flight 1 hour and 45 minutes before the the flight and pu...   \n",
       "1708    Baltimore Washington to London Heathrow. Bad start for my first trip on British Airways. Extra...   \n",
       "\n",
       "                                                                                          cleaned_reviews  \n",
       "2927  flew lhr cai new year day business class absolutely superb cabin staff attentive helpful flight ...  \n",
       "2072  london heathrow seoul incheon british airway good service fa high quality screen ife shame other...  \n",
       "2892  flew lhr sin aircraft boeing tired old ife rebooted system yet date like ba aircraft seating cov...  \n",
       "1355  london heathrow barcelona thought would better low cost airline fact quite worse cheaper option ...  \n",
       "2610  regular user ba generally find airline ok outstanding flight fairly full departed time check qui...  \n",
       "2433  booked iberia year departure addition connection la palmas online check completed hour advance n...  \n",
       "2894  took flight gatwick barcelona although ba flight number operated vueling meant couldnt use ba lo...  \n",
       "469   london heathrow miami flying boeing unfortunately ba hasnt done much work first class aircraft s...  \n",
       "1751  absolute disgrace cancelled flight hour minute flight put next flight hour minute delay vip acce...  \n",
       "1708  baltimore washington london heathrow bad start first trip british airway extra cost decent seat ...  "
      ]
     },
     "execution_count": 108,
     "metadata": {},
     "output_type": "execute_result"
    }
   ],
   "source": [
    "# This function cleans the data\n",
    "\n",
    "def clean_text(text):\n",
    "    # Remove punctuations \n",
    "    text = \"\".join([word.lower() for word in text if word not in punct])\n",
    "    \n",
    "    # Remove any other signs\n",
    "    text = \" \".join(re.split('\\W+', text))\n",
    "    \n",
    "    # Remove numerial leaving only aplabets\n",
    "    text = re.sub('[^A-Za-z]+', ' ', str(text))\n",
    "    \n",
    "    text = text.split()\n",
    "    \n",
    "    # Remove stopwords\n",
    "    text = [word for word in text if word not in stopwords]\n",
    "    \n",
    "    # lemmatize\n",
    "    text = [wn.lemmatize(word) for word in text]\n",
    "    \n",
    "    #\n",
    "    text = \" \".join([word for word in text])\n",
    "    \n",
    "    return text\n",
    "\n",
    "df[\"cleaned_reviews\"] = df[\"reviews\"]. apply(clean_text)\n",
    "df.sample(10)"
   ]
  },
  {
   "cell_type": "markdown",
   "metadata": {},
   "source": [
    "### 3.  Sentiment Analysis using VADER"
   ]
  },
  {
   "cell_type": "code",
   "execution_count": null,
   "metadata": {},
   "outputs": [],
   "source": []
  },
  {
   "cell_type": "code",
   "execution_count": null,
   "metadata": {},
   "outputs": [],
   "source": []
  }
 ],
 "metadata": {
  "kernelspec": {
   "display_name": "Python 3 (ipykernel)",
   "language": "python",
   "name": "python3"
  },
  "language_info": {
   "codemirror_mode": {
    "name": "ipython",
    "version": 3
   },
   "file_extension": ".py",
   "mimetype": "text/x-python",
   "name": "python",
   "nbconvert_exporter": "python",
   "pygments_lexer": "ipython3",
   "version": "3.10.8"
  },
  "vscode": {
   "interpreter": {
    "hash": "4f7924c4c56b083e0e50eadfe7ef592a7a8ef70df33a0047f82280e6be1afe15"
   }
  }
 },
 "nbformat": 4,
 "nbformat_minor": 2
}
